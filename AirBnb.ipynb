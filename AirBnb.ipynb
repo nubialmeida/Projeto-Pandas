{
  "nbformat": 4,
  "nbformat_minor": 0,
  "metadata": {
    "colab": {
      "provenance": [],
      "mount_file_id": "1INZ1NTGmugnSjJqI7ZXjjUz2RYPjUuoT",
      "authorship_tag": "ABX9TyPpO/CCH48O8IMSsydKKxC9",
      "include_colab_link": true
    },
    "kernelspec": {
      "name": "python3",
      "display_name": "Python 3"
    },
    "language_info": {
      "name": "python"
    }
  },
  "cells": [
    {
      "cell_type": "markdown",
      "metadata": {
        "id": "view-in-github",
        "colab_type": "text"
      },
      "source": [
        "<a href=\"https://colab.research.google.com/github/nubialmeida/projeto-pandas/blob/main/AirBnb.ipynb\" target=\"_parent\"><img src=\"https://colab.research.google.com/assets/colab-badge.svg\" alt=\"Open In Colab\"/></a>"
      ]
    },
    {
      "cell_type": "markdown",
      "source": [
        "##Instalação de bibliotecas"
      ],
      "metadata": {
        "id": "s6biOtSVg-DR"
      }
    },
    {
      "cell_type": "code",
      "execution_count": null,
      "metadata": {
        "colab": {
          "base_uri": "https://localhost:8080/"
        },
        "id": "nAhvBAYufAaf",
        "outputId": "d79a073a-415b-4497-bc17-fbdfe084d16a"
      },
      "outputs": [
        {
          "output_type": "stream",
          "name": "stdout",
          "text": [
            "Looking in indexes: https://pypi.org/simple, https://us-python.pkg.dev/colab-wheels/public/simple/\n",
            "Requirement already satisfied: gcsfs in /usr/local/lib/python3.9/dist-packages (2023.3.0)\n",
            "Requirement already satisfied: google-auth-oauthlib in /usr/local/lib/python3.9/dist-packages (from gcsfs) (0.4.6)\n",
            "Requirement already satisfied: google-cloud-storage in /usr/local/lib/python3.9/dist-packages (from gcsfs) (2.7.0)\n",
            "Requirement already satisfied: aiohttp!=4.0.0a0,!=4.0.0a1 in /usr/local/lib/python3.9/dist-packages (from gcsfs) (3.8.4)\n",
            "Requirement already satisfied: fsspec==2023.3.0 in /usr/local/lib/python3.9/dist-packages (from gcsfs) (2023.3.0)\n",
            "Requirement already satisfied: requests in /usr/local/lib/python3.9/dist-packages (from gcsfs) (2.27.1)\n",
            "Requirement already satisfied: decorator>4.1.2 in /usr/local/lib/python3.9/dist-packages (from gcsfs) (4.4.2)\n",
            "Requirement already satisfied: google-auth>=1.2 in /usr/local/lib/python3.9/dist-packages (from gcsfs) (2.16.2)\n",
            "Requirement already satisfied: attrs>=17.3.0 in /usr/local/lib/python3.9/dist-packages (from aiohttp!=4.0.0a0,!=4.0.0a1->gcsfs) (22.2.0)\n",
            "Requirement already satisfied: frozenlist>=1.1.1 in /usr/local/lib/python3.9/dist-packages (from aiohttp!=4.0.0a0,!=4.0.0a1->gcsfs) (1.3.3)\n",
            "Requirement already satisfied: yarl<2.0,>=1.0 in /usr/local/lib/python3.9/dist-packages (from aiohttp!=4.0.0a0,!=4.0.0a1->gcsfs) (1.8.2)\n",
            "Requirement already satisfied: aiosignal>=1.1.2 in /usr/local/lib/python3.9/dist-packages (from aiohttp!=4.0.0a0,!=4.0.0a1->gcsfs) (1.3.1)\n",
            "Requirement already satisfied: async-timeout<5.0,>=4.0.0a3 in /usr/local/lib/python3.9/dist-packages (from aiohttp!=4.0.0a0,!=4.0.0a1->gcsfs) (4.0.2)\n",
            "Requirement already satisfied: multidict<7.0,>=4.5 in /usr/local/lib/python3.9/dist-packages (from aiohttp!=4.0.0a0,!=4.0.0a1->gcsfs) (6.0.4)\n",
            "Requirement already satisfied: charset-normalizer<4.0,>=2.0 in /usr/local/lib/python3.9/dist-packages (from aiohttp!=4.0.0a0,!=4.0.0a1->gcsfs) (2.0.12)\n",
            "Requirement already satisfied: pyasn1-modules>=0.2.1 in /usr/local/lib/python3.9/dist-packages (from google-auth>=1.2->gcsfs) (0.2.8)\n",
            "Requirement already satisfied: six>=1.9.0 in /usr/local/lib/python3.9/dist-packages (from google-auth>=1.2->gcsfs) (1.15.0)\n",
            "Requirement already satisfied: rsa<5,>=3.1.4 in /usr/local/lib/python3.9/dist-packages (from google-auth>=1.2->gcsfs) (4.9)\n",
            "Requirement already satisfied: cachetools<6.0,>=2.0.0 in /usr/local/lib/python3.9/dist-packages (from google-auth>=1.2->gcsfs) (5.3.0)\n",
            "Requirement already satisfied: requests-oauthlib>=0.7.0 in /usr/local/lib/python3.9/dist-packages (from google-auth-oauthlib->gcsfs) (1.3.1)\n",
            "Requirement already satisfied: google-api-core!=2.0.*,!=2.1.*,!=2.2.*,!=2.3.0,<3.0.0dev,>=1.31.5 in /usr/local/lib/python3.9/dist-packages (from google-cloud-storage->gcsfs) (2.11.0)\n",
            "Requirement already satisfied: google-resumable-media>=2.3.2 in /usr/local/lib/python3.9/dist-packages (from google-cloud-storage->gcsfs) (2.4.1)\n",
            "Requirement already satisfied: google-cloud-core<3.0dev,>=2.3.0 in /usr/local/lib/python3.9/dist-packages (from google-cloud-storage->gcsfs) (2.3.2)\n",
            "Requirement already satisfied: certifi>=2017.4.17 in /usr/local/lib/python3.9/dist-packages (from requests->gcsfs) (2022.12.7)\n",
            "Requirement already satisfied: urllib3<1.27,>=1.21.1 in /usr/local/lib/python3.9/dist-packages (from requests->gcsfs) (1.26.15)\n",
            "Requirement already satisfied: idna<4,>=2.5 in /usr/local/lib/python3.9/dist-packages (from requests->gcsfs) (3.4)\n",
            "Requirement already satisfied: protobuf!=3.20.0,!=3.20.1,!=4.21.0,!=4.21.1,!=4.21.2,!=4.21.3,!=4.21.4,!=4.21.5,<5.0.0dev,>=3.19.5 in /usr/local/lib/python3.9/dist-packages (from google-api-core!=2.0.*,!=2.1.*,!=2.2.*,!=2.3.0,<3.0.0dev,>=1.31.5->google-cloud-storage->gcsfs) (3.19.6)\n",
            "Requirement already satisfied: googleapis-common-protos<2.0dev,>=1.56.2 in /usr/local/lib/python3.9/dist-packages (from google-api-core!=2.0.*,!=2.1.*,!=2.2.*,!=2.3.0,<3.0.0dev,>=1.31.5->google-cloud-storage->gcsfs) (1.58.0)\n",
            "Requirement already satisfied: google-crc32c<2.0dev,>=1.0 in /usr/local/lib/python3.9/dist-packages (from google-resumable-media>=2.3.2->google-cloud-storage->gcsfs) (1.5.0)\n",
            "Requirement already satisfied: pyasn1<0.5.0,>=0.4.6 in /usr/local/lib/python3.9/dist-packages (from pyasn1-modules>=0.2.1->google-auth>=1.2->gcsfs) (0.4.8)\n",
            "Requirement already satisfied: oauthlib>=3.0.0 in /usr/local/lib/python3.9/dist-packages (from requests-oauthlib>=0.7.0->google-auth-oauthlib->gcsfs) (3.2.2)\n",
            "Looking in indexes: https://pypi.org/simple, https://us-python.pkg.dev/colab-wheels/public/simple/\n",
            "Requirement already satisfied: pandera in /usr/local/lib/python3.9/dist-packages (0.14.4)\n",
            "Requirement already satisfied: numpy>=1.19.0 in /usr/local/lib/python3.9/dist-packages (from pandera) (1.22.4)\n",
            "Requirement already satisfied: typing-inspect>=0.6.0 in /usr/local/lib/python3.9/dist-packages (from pandera) (0.8.0)\n",
            "Requirement already satisfied: multimethod in /usr/local/lib/python3.9/dist-packages (from pandera) (1.9.1)\n",
            "Requirement already satisfied: pandas>=1.2.0 in /usr/local/lib/python3.9/dist-packages (from pandera) (1.4.4)\n",
            "Requirement already satisfied: wrapt in /usr/local/lib/python3.9/dist-packages (from pandera) (1.15.0)\n",
            "Requirement already satisfied: packaging>=20.0 in /usr/local/lib/python3.9/dist-packages (from pandera) (23.0)\n",
            "Requirement already satisfied: pydantic in /usr/local/lib/python3.9/dist-packages (from pandera) (1.10.6)\n",
            "Requirement already satisfied: python-dateutil>=2.8.1 in /usr/local/lib/python3.9/dist-packages (from pandas>=1.2.0->pandera) (2.8.2)\n",
            "Requirement already satisfied: pytz>=2020.1 in /usr/local/lib/python3.9/dist-packages (from pandas>=1.2.0->pandera) (2022.7.1)\n",
            "Requirement already satisfied: mypy-extensions>=0.3.0 in /usr/local/lib/python3.9/dist-packages (from typing-inspect>=0.6.0->pandera) (1.0.0)\n",
            "Requirement already satisfied: typing-extensions>=3.7.4 in /usr/local/lib/python3.9/dist-packages (from typing-inspect>=0.6.0->pandera) (4.5.0)\n",
            "Requirement already satisfied: six>=1.5 in /usr/local/lib/python3.9/dist-packages (from python-dateutil>=2.8.1->pandas>=1.2.0->pandera) (1.15.0)\n"
          ]
        }
      ],
      "source": [
        "!pip install gcsfs\n",
        "\n",
        "!pip install pandera"
      ]
    },
    {
      "cell_type": "code",
      "source": [
        "pip install pymongo"
      ],
      "metadata": {
        "colab": {
          "base_uri": "https://localhost:8080/"
        },
        "id": "Vf4Qq3kmoCU-",
        "outputId": "c533d81b-8ed8-41a5-945b-29817d430b2f"
      },
      "execution_count": null,
      "outputs": [
        {
          "output_type": "stream",
          "name": "stdout",
          "text": [
            "Looking in indexes: https://pypi.org/simple, https://us-python.pkg.dev/colab-wheels/public/simple/\n",
            "Requirement already satisfied: pymongo in /usr/local/lib/python3.9/dist-packages (4.3.3)\n",
            "Requirement already satisfied: dnspython<3.0.0,>=1.16.0 in /usr/local/lib/python3.9/dist-packages (from pymongo) (2.3.0)\n"
          ]
        }
      ]
    },
    {
      "cell_type": "markdown",
      "source": [
        "##Declaração das LIBS"
      ],
      "metadata": {
        "id": "jMeme8F7JPGe"
      }
    },
    {
      "cell_type": "code",
      "source": [
        "import pandas as pd\n",
        "import numpy as np\n",
        "import os\n",
        "from google.cloud import storage\n",
        "import pandera as pa\n",
        "import pymongo\n",
        "from pymongo import MongoClient"
      ],
      "metadata": {
        "id": "33diFo5cgdPQ"
      },
      "execution_count": null,
      "outputs": []
    },
    {
      "cell_type": "markdown",
      "source": [
        "##Conector para Cloud Storage(bucket)"
      ],
      "metadata": {
        "id": "j1sgNeyAJW7T"
      }
    },
    {
      "cell_type": "code",
      "source": [
        "#CONFIGURANDO DA CHAVE DE SEGURANCA (Enviada com o projeto) conector\n",
        "\n",
        "serviceAccount = '/content/drive/MyDrive/chave/colab.json'\n",
        "os.environ['GOOGLE_APPLICATION_CREDENTIALS'] = serviceAccount"
      ],
      "metadata": {
        "id": "6o0_oobVgqDv"
      },
      "execution_count": null,
      "outputs": []
    },
    {
      "cell_type": "code",
      "source": [
        "#Configurações Google Cloud Storage\n",
        "client = storage.Client()\n",
        "bucket = client.get_bucket('nubialmeida45')\n",
        "bucket.blob('amsterdam_weekdays.csv')\n",
        "path = 'gs://nubialmeida45/brutos/amsterdam_weekdays.csv'"
      ],
      "metadata": {
        "id": "hAJCcJFzgv-N"
      },
      "execution_count": null,
      "outputs": []
    },
    {
      "cell_type": "markdown",
      "source": [
        "##Extração dos dados(Extract)"
      ],
      "metadata": {
        "id": "r84b0Rk7Iaxw"
      }
    },
    {
      "cell_type": "code",
      "source": [
        "df = pd.read_csv(path,sep=',',encoding='ISO-8859-1')"
      ],
      "metadata": {
        "id": "kv5RX6KGjklI"
      },
      "execution_count": null,
      "outputs": []
    },
    {
      "cell_type": "markdown",
      "source": [
        "##Conector MongoDB Atlas"
      ],
      "metadata": {
        "id": "mqtVwyslJIHg"
      }
    },
    {
      "cell_type": "code",
      "source": [
        "#Conectando MongoDB Atlas\n",
        "uri = \"mongodb+srv://cluster0.pvxzqua.mongodb.net/?authSource=%24external&authMechanism=MONGODB-X509&retryWrites=true&w=majority\"\n",
        "client = MongoClient(uri,tls=True,tlsCertificateKeyFile='/content/drive/MyDrive/MongoDb/X509-cert-342951600753315466.pem')\n",
        "\n",
        "db = client['Brutos']\n",
        "colecao = db['Airbnb']"
      ],
      "metadata": {
        "id": "DoZbCQhBd45h"
      },
      "execution_count": null,
      "outputs": []
    },
    {
      "cell_type": "code",
      "source": [
        "#Selecionando a base e coleção\n",
        "db = client['Projeto_AirBnb']\n",
        "colecaoAirBnb = db['brutos']\n",
        "colecaoAirBnb.count_documents({})"
      ],
      "metadata": {
        "colab": {
          "base_uri": "https://localhost:8080/"
        },
        "id": "eYaNaKQMeDr8",
        "outputId": "5ccd75f0-b038-4e09-f6e7-86cea8f2d63c"
      },
      "execution_count": null,
      "outputs": [
        {
          "output_type": "execute_result",
          "data": {
            "text/plain": [
              "1103"
            ]
          },
          "metadata": {},
          "execution_count": 123
        }
      ]
    },
    {
      "cell_type": "code",
      "source": [
        "#Enviando de um dataframe para coleção no MONGO\n",
        "df_dict = df.to_dict(\"records\")\n",
        "\n",
        "colecaoAirBnb.insert_many(df_dict)"
      ],
      "metadata": {
        "colab": {
          "base_uri": "https://localhost:8080/"
        },
        "id": "inJ-OHMkfVBu",
        "outputId": "2e57697e-ae62-4012-ddd1-87d0a974ea86"
      },
      "execution_count": null,
      "outputs": [
        {
          "output_type": "execute_result",
          "data": {
            "text/plain": [
              "<pymongo.results.InsertManyResult at 0x7f4cf4e02be0>"
            ]
          },
          "metadata": {},
          "execution_count": 122
        }
      ]
    },
    {
      "cell_type": "markdown",
      "source": [
        "##Pré Análise"
      ],
      "metadata": {
        "id": "-hR0Z94qIxtj"
      }
    },
    {
      "cell_type": "code",
      "source": [
        "df "
      ],
      "metadata": {
        "id": "okLMleDirzQ-",
        "colab": {
          "base_uri": "https://localhost:8080/",
          "height": 424
        },
        "outputId": "350f46b3-5cd2-44df-8d63-abbda54d3015"
      },
      "execution_count": null,
      "outputs": [
        {
          "output_type": "execute_result",
          "data": {
            "text/plain": [
              "          realSum        room_type  room_shared  room_private  \\\n",
              "0      194.033698     Private room        False          True   \n",
              "1      344.245776     Private room        False          True   \n",
              "2      264.101422     Private room        False          True   \n",
              "3      433.529398     Private room        False          True   \n",
              "4      485.552926     Private room        False          True   \n",
              "...           ...              ...          ...           ...   \n",
              "1098  2486.115342  Entire home/apt        False         False   \n",
              "1099   233.637194     Private room        False          True   \n",
              "1100   317.062311     Private room        False          True   \n",
              "1101  1812.855904  Entire home/apt        False         False   \n",
              "1102   258.008577      Shared room         True         False   \n",
              "\n",
              "      person_capacity  host_is_superhost  multi  biz  cleanliness_rating  \\\n",
              "0                 2.0              False      1    0                10.0   \n",
              "1                 4.0              False      0    0                 8.0   \n",
              "2                 2.0              False      0    1                 9.0   \n",
              "3                 4.0              False      0    1                 9.0   \n",
              "4                 2.0               True      0    0                10.0   \n",
              "...               ...                ...    ...  ...                 ...   \n",
              "1098              2.0              False      0    0                10.0   \n",
              "1099              2.0              False      1    0                10.0   \n",
              "1100              2.0              False      1    0                10.0   \n",
              "1101              4.0              False      0    0                 8.0   \n",
              "1102              2.0              False      0    0                 8.0   \n",
              "\n",
              "      guest_satisfaction_overall  bedrooms      dist  metro_dist  \n",
              "0                           93.0         1  5.022964    2.539380  \n",
              "1                           85.0         1  0.488389    0.239404  \n",
              "2                           87.0         1  5.748312    3.651621  \n",
              "3                           90.0         2  0.384862    0.439876  \n",
              "4                           98.0         1  0.544738    0.318693  \n",
              "...                          ...       ...       ...         ...  \n",
              "1098                       100.0         1  2.375833    1.436054  \n",
              "1099                        90.0         1  4.719736    0.322263  \n",
              "1100                        92.0         1  0.598355    0.751993  \n",
              "1101                        84.0         5  1.943020    0.388532  \n",
              "1102                        90.0         1  0.280204    0.516217  \n",
              "\n",
              "[1103 rows x 13 columns]"
            ],
            "text/html": [
              "\n",
              "  <div id=\"df-c5a484f3-c4cc-4f98-965c-4bb834214937\">\n",
              "    <div class=\"colab-df-container\">\n",
              "      <div>\n",
              "<style scoped>\n",
              "    .dataframe tbody tr th:only-of-type {\n",
              "        vertical-align: middle;\n",
              "    }\n",
              "\n",
              "    .dataframe tbody tr th {\n",
              "        vertical-align: top;\n",
              "    }\n",
              "\n",
              "    .dataframe thead th {\n",
              "        text-align: right;\n",
              "    }\n",
              "</style>\n",
              "<table border=\"1\" class=\"dataframe\">\n",
              "  <thead>\n",
              "    <tr style=\"text-align: right;\">\n",
              "      <th></th>\n",
              "      <th>realSum</th>\n",
              "      <th>room_type</th>\n",
              "      <th>room_shared</th>\n",
              "      <th>room_private</th>\n",
              "      <th>person_capacity</th>\n",
              "      <th>host_is_superhost</th>\n",
              "      <th>multi</th>\n",
              "      <th>biz</th>\n",
              "      <th>cleanliness_rating</th>\n",
              "      <th>guest_satisfaction_overall</th>\n",
              "      <th>bedrooms</th>\n",
              "      <th>dist</th>\n",
              "      <th>metro_dist</th>\n",
              "    </tr>\n",
              "  </thead>\n",
              "  <tbody>\n",
              "    <tr>\n",
              "      <th>0</th>\n",
              "      <td>194.033698</td>\n",
              "      <td>Private room</td>\n",
              "      <td>False</td>\n",
              "      <td>True</td>\n",
              "      <td>2.0</td>\n",
              "      <td>False</td>\n",
              "      <td>1</td>\n",
              "      <td>0</td>\n",
              "      <td>10.0</td>\n",
              "      <td>93.0</td>\n",
              "      <td>1</td>\n",
              "      <td>5.022964</td>\n",
              "      <td>2.539380</td>\n",
              "    </tr>\n",
              "    <tr>\n",
              "      <th>1</th>\n",
              "      <td>344.245776</td>\n",
              "      <td>Private room</td>\n",
              "      <td>False</td>\n",
              "      <td>True</td>\n",
              "      <td>4.0</td>\n",
              "      <td>False</td>\n",
              "      <td>0</td>\n",
              "      <td>0</td>\n",
              "      <td>8.0</td>\n",
              "      <td>85.0</td>\n",
              "      <td>1</td>\n",
              "      <td>0.488389</td>\n",
              "      <td>0.239404</td>\n",
              "    </tr>\n",
              "    <tr>\n",
              "      <th>2</th>\n",
              "      <td>264.101422</td>\n",
              "      <td>Private room</td>\n",
              "      <td>False</td>\n",
              "      <td>True</td>\n",
              "      <td>2.0</td>\n",
              "      <td>False</td>\n",
              "      <td>0</td>\n",
              "      <td>1</td>\n",
              "      <td>9.0</td>\n",
              "      <td>87.0</td>\n",
              "      <td>1</td>\n",
              "      <td>5.748312</td>\n",
              "      <td>3.651621</td>\n",
              "    </tr>\n",
              "    <tr>\n",
              "      <th>3</th>\n",
              "      <td>433.529398</td>\n",
              "      <td>Private room</td>\n",
              "      <td>False</td>\n",
              "      <td>True</td>\n",
              "      <td>4.0</td>\n",
              "      <td>False</td>\n",
              "      <td>0</td>\n",
              "      <td>1</td>\n",
              "      <td>9.0</td>\n",
              "      <td>90.0</td>\n",
              "      <td>2</td>\n",
              "      <td>0.384862</td>\n",
              "      <td>0.439876</td>\n",
              "    </tr>\n",
              "    <tr>\n",
              "      <th>4</th>\n",
              "      <td>485.552926</td>\n",
              "      <td>Private room</td>\n",
              "      <td>False</td>\n",
              "      <td>True</td>\n",
              "      <td>2.0</td>\n",
              "      <td>True</td>\n",
              "      <td>0</td>\n",
              "      <td>0</td>\n",
              "      <td>10.0</td>\n",
              "      <td>98.0</td>\n",
              "      <td>1</td>\n",
              "      <td>0.544738</td>\n",
              "      <td>0.318693</td>\n",
              "    </tr>\n",
              "    <tr>\n",
              "      <th>...</th>\n",
              "      <td>...</td>\n",
              "      <td>...</td>\n",
              "      <td>...</td>\n",
              "      <td>...</td>\n",
              "      <td>...</td>\n",
              "      <td>...</td>\n",
              "      <td>...</td>\n",
              "      <td>...</td>\n",
              "      <td>...</td>\n",
              "      <td>...</td>\n",
              "      <td>...</td>\n",
              "      <td>...</td>\n",
              "      <td>...</td>\n",
              "    </tr>\n",
              "    <tr>\n",
              "      <th>1098</th>\n",
              "      <td>2486.115342</td>\n",
              "      <td>Entire home/apt</td>\n",
              "      <td>False</td>\n",
              "      <td>False</td>\n",
              "      <td>2.0</td>\n",
              "      <td>False</td>\n",
              "      <td>0</td>\n",
              "      <td>0</td>\n",
              "      <td>10.0</td>\n",
              "      <td>100.0</td>\n",
              "      <td>1</td>\n",
              "      <td>2.375833</td>\n",
              "      <td>1.436054</td>\n",
              "    </tr>\n",
              "    <tr>\n",
              "      <th>1099</th>\n",
              "      <td>233.637194</td>\n",
              "      <td>Private room</td>\n",
              "      <td>False</td>\n",
              "      <td>True</td>\n",
              "      <td>2.0</td>\n",
              "      <td>False</td>\n",
              "      <td>1</td>\n",
              "      <td>0</td>\n",
              "      <td>10.0</td>\n",
              "      <td>90.0</td>\n",
              "      <td>1</td>\n",
              "      <td>4.719736</td>\n",
              "      <td>0.322263</td>\n",
              "    </tr>\n",
              "    <tr>\n",
              "      <th>1100</th>\n",
              "      <td>317.062311</td>\n",
              "      <td>Private room</td>\n",
              "      <td>False</td>\n",
              "      <td>True</td>\n",
              "      <td>2.0</td>\n",
              "      <td>False</td>\n",
              "      <td>1</td>\n",
              "      <td>0</td>\n",
              "      <td>10.0</td>\n",
              "      <td>92.0</td>\n",
              "      <td>1</td>\n",
              "      <td>0.598355</td>\n",
              "      <td>0.751993</td>\n",
              "    </tr>\n",
              "    <tr>\n",
              "      <th>1101</th>\n",
              "      <td>1812.855904</td>\n",
              "      <td>Entire home/apt</td>\n",
              "      <td>False</td>\n",
              "      <td>False</td>\n",
              "      <td>4.0</td>\n",
              "      <td>False</td>\n",
              "      <td>0</td>\n",
              "      <td>0</td>\n",
              "      <td>8.0</td>\n",
              "      <td>84.0</td>\n",
              "      <td>5</td>\n",
              "      <td>1.943020</td>\n",
              "      <td>0.388532</td>\n",
              "    </tr>\n",
              "    <tr>\n",
              "      <th>1102</th>\n",
              "      <td>258.008577</td>\n",
              "      <td>Shared room</td>\n",
              "      <td>True</td>\n",
              "      <td>False</td>\n",
              "      <td>2.0</td>\n",
              "      <td>False</td>\n",
              "      <td>0</td>\n",
              "      <td>0</td>\n",
              "      <td>8.0</td>\n",
              "      <td>90.0</td>\n",
              "      <td>1</td>\n",
              "      <td>0.280204</td>\n",
              "      <td>0.516217</td>\n",
              "    </tr>\n",
              "  </tbody>\n",
              "</table>\n",
              "<p>1103 rows × 13 columns</p>\n",
              "</div>\n",
              "      <button class=\"colab-df-convert\" onclick=\"convertToInteractive('df-c5a484f3-c4cc-4f98-965c-4bb834214937')\"\n",
              "              title=\"Convert this dataframe to an interactive table.\"\n",
              "              style=\"display:none;\">\n",
              "        \n",
              "  <svg xmlns=\"http://www.w3.org/2000/svg\" height=\"24px\"viewBox=\"0 0 24 24\"\n",
              "       width=\"24px\">\n",
              "    <path d=\"M0 0h24v24H0V0z\" fill=\"none\"/>\n",
              "    <path d=\"M18.56 5.44l.94 2.06.94-2.06 2.06-.94-2.06-.94-.94-2.06-.94 2.06-2.06.94zm-11 1L8.5 8.5l.94-2.06 2.06-.94-2.06-.94L8.5 2.5l-.94 2.06-2.06.94zm10 10l.94 2.06.94-2.06 2.06-.94-2.06-.94-.94-2.06-.94 2.06-2.06.94z\"/><path d=\"M17.41 7.96l-1.37-1.37c-.4-.4-.92-.59-1.43-.59-.52 0-1.04.2-1.43.59L10.3 9.45l-7.72 7.72c-.78.78-.78 2.05 0 2.83L4 21.41c.39.39.9.59 1.41.59.51 0 1.02-.2 1.41-.59l7.78-7.78 2.81-2.81c.8-.78.8-2.07 0-2.86zM5.41 20L4 18.59l7.72-7.72 1.47 1.35L5.41 20z\"/>\n",
              "  </svg>\n",
              "      </button>\n",
              "      \n",
              "  <style>\n",
              "    .colab-df-container {\n",
              "      display:flex;\n",
              "      flex-wrap:wrap;\n",
              "      gap: 12px;\n",
              "    }\n",
              "\n",
              "    .colab-df-convert {\n",
              "      background-color: #E8F0FE;\n",
              "      border: none;\n",
              "      border-radius: 50%;\n",
              "      cursor: pointer;\n",
              "      display: none;\n",
              "      fill: #1967D2;\n",
              "      height: 32px;\n",
              "      padding: 0 0 0 0;\n",
              "      width: 32px;\n",
              "    }\n",
              "\n",
              "    .colab-df-convert:hover {\n",
              "      background-color: #E2EBFA;\n",
              "      box-shadow: 0px 1px 2px rgba(60, 64, 67, 0.3), 0px 1px 3px 1px rgba(60, 64, 67, 0.15);\n",
              "      fill: #174EA6;\n",
              "    }\n",
              "\n",
              "    [theme=dark] .colab-df-convert {\n",
              "      background-color: #3B4455;\n",
              "      fill: #D2E3FC;\n",
              "    }\n",
              "\n",
              "    [theme=dark] .colab-df-convert:hover {\n",
              "      background-color: #434B5C;\n",
              "      box-shadow: 0px 1px 3px 1px rgba(0, 0, 0, 0.15);\n",
              "      filter: drop-shadow(0px 1px 2px rgba(0, 0, 0, 0.3));\n",
              "      fill: #FFFFFF;\n",
              "    }\n",
              "  </style>\n",
              "\n",
              "      <script>\n",
              "        const buttonEl =\n",
              "          document.querySelector('#df-c5a484f3-c4cc-4f98-965c-4bb834214937 button.colab-df-convert');\n",
              "        buttonEl.style.display =\n",
              "          google.colab.kernel.accessAllowed ? 'block' : 'none';\n",
              "\n",
              "        async function convertToInteractive(key) {\n",
              "          const element = document.querySelector('#df-c5a484f3-c4cc-4f98-965c-4bb834214937');\n",
              "          const dataTable =\n",
              "            await google.colab.kernel.invokeFunction('convertToInteractive',\n",
              "                                                     [key], {});\n",
              "          if (!dataTable) return;\n",
              "\n",
              "          const docLinkHtml = 'Like what you see? Visit the ' +\n",
              "            '<a target=\"_blank\" href=https://colab.research.google.com/notebooks/data_table.ipynb>data table notebook</a>'\n",
              "            + ' to learn more about interactive tables.';\n",
              "          element.innerHTML = '';\n",
              "          dataTable['output_type'] = 'display_data';\n",
              "          await google.colab.output.renderOutput(dataTable, element);\n",
              "          const docLink = document.createElement('div');\n",
              "          docLink.innerHTML = docLinkHtml;\n",
              "          element.appendChild(docLink);\n",
              "        }\n",
              "      </script>\n",
              "    </div>\n",
              "  </div>\n",
              "  "
            ]
          },
          "metadata": {},
          "execution_count": 93
        }
      ]
    },
    {
      "cell_type": "code",
      "source": [
        "df.dtypes #Verificando os tipos"
      ],
      "metadata": {
        "colab": {
          "base_uri": "https://localhost:8080/"
        },
        "id": "p5mfnsfouZIO",
        "outputId": "7bc8da9c-8ea4-4954-b78a-dcccf6ed8a51"
      },
      "execution_count": null,
      "outputs": [
        {
          "output_type": "execute_result",
          "data": {
            "text/plain": [
              "Unnamed: 0                      int64\n",
              "realSum                       float64\n",
              "room_type                      object\n",
              "room_shared                      bool\n",
              "room_private                     bool\n",
              "person_capacity               float64\n",
              "host_is_superhost                bool\n",
              "multi                           int64\n",
              "biz                             int64\n",
              "cleanliness_rating            float64\n",
              "guest_satisfaction_overall    float64\n",
              "bedrooms                        int64\n",
              "dist                          float64\n",
              "metro_dist                    float64\n",
              "attr_index                    float64\n",
              "attr_index_norm               float64\n",
              "rest_index                    float64\n",
              "rest_index_norm               float64\n",
              "lng                           float64\n",
              "lat                           float64\n",
              "dtype: object"
            ]
          },
          "metadata": {},
          "execution_count": 124
        }
      ]
    },
    {
      "cell_type": "markdown",
      "source": [
        "Pré-análise"
      ],
      "metadata": {
        "id": "hTf8LYXmhLvW"
      }
    },
    {
      "cell_type": "code",
      "source": [
        "df\n"
      ],
      "metadata": {
        "colab": {
          "base_uri": "https://localhost:8080/",
          "height": 468
        },
        "id": "gBMiOKjJkS6c",
        "outputId": "3228b849-714e-4ef0-994f-32ba3aae07e8"
      },
      "execution_count": null,
      "outputs": [
        {
          "output_type": "execute_result",
          "data": {
            "text/plain": [
              "      preco_total     tipo_quarto  compart_quarto  priv_quarto  \\\n",
              "0      194.033698  quarto_privado           False         True   \n",
              "1      344.245776  quarto_privado           False         True   \n",
              "2      264.101422  quarto_privado           False         True   \n",
              "3      433.529398  quarto_privado           False         True   \n",
              "4      485.552926  quarto_privado           False         True   \n",
              "...           ...             ...             ...          ...   \n",
              "1098  2486.115342     apartamento           False        False   \n",
              "1099   233.637194  quarto_privado           False         True   \n",
              "1100   317.062311  quarto_privado           False         True   \n",
              "1101  1812.855904     apartamento           False        False   \n",
              "1102   258.008577  compart_quarto            True        False   \n",
              "\n",
              "      capacidade_pessoa  super_anfitriao  multi_quarto  tipo_uso  \\\n",
              "0                     2            False             1         0   \n",
              "1                     4            False             0         0   \n",
              "2                     2            False             0         1   \n",
              "3                     4            False             0         1   \n",
              "4                     2             True             0         0   \n",
              "...                 ...              ...           ...       ...   \n",
              "1098                  2            False             0         0   \n",
              "1099                  2            False             1         0   \n",
              "1100                  2            False             1         0   \n",
              "1101                  4            False             0         0   \n",
              "1102                  2            False             0         0   \n",
              "\n",
              "      nota_limpeza  nota_satisfacao  n_quartos  dist_cidade  dist_metro  \n",
              "0             10.0             93.0          1     5.022964    2.539380  \n",
              "1              8.0             85.0          1     0.488389    0.239404  \n",
              "2              9.0             87.0          1     5.748312    3.651621  \n",
              "3              9.0             90.0          2     0.384862    0.439876  \n",
              "4             10.0             98.0          1     0.544738    0.318693  \n",
              "...            ...              ...        ...          ...         ...  \n",
              "1098          10.0            100.0          1     2.375833    1.436054  \n",
              "1099          10.0             90.0          1     4.719736    0.322263  \n",
              "1100          10.0             92.0          1     0.598355    0.751993  \n",
              "1101           8.0             84.0          5     1.943020    0.388532  \n",
              "1102           8.0             90.0          1     0.280204    0.516217  \n",
              "\n",
              "[1103 rows x 13 columns]"
            ],
            "text/html": [
              "\n",
              "  <div id=\"df-53c8f2f2-4cef-4260-b4fd-38ca21afe7df\">\n",
              "    <div class=\"colab-df-container\">\n",
              "      <div>\n",
              "<style scoped>\n",
              "    .dataframe tbody tr th:only-of-type {\n",
              "        vertical-align: middle;\n",
              "    }\n",
              "\n",
              "    .dataframe tbody tr th {\n",
              "        vertical-align: top;\n",
              "    }\n",
              "\n",
              "    .dataframe thead th {\n",
              "        text-align: right;\n",
              "    }\n",
              "</style>\n",
              "<table border=\"1\" class=\"dataframe\">\n",
              "  <thead>\n",
              "    <tr style=\"text-align: right;\">\n",
              "      <th></th>\n",
              "      <th>preco_total</th>\n",
              "      <th>tipo_quarto</th>\n",
              "      <th>compart_quarto</th>\n",
              "      <th>priv_quarto</th>\n",
              "      <th>capacidade_pessoa</th>\n",
              "      <th>super_anfitriao</th>\n",
              "      <th>multi_quarto</th>\n",
              "      <th>tipo_uso</th>\n",
              "      <th>nota_limpeza</th>\n",
              "      <th>nota_satisfacao</th>\n",
              "      <th>n_quartos</th>\n",
              "      <th>dist_cidade</th>\n",
              "      <th>dist_metro</th>\n",
              "    </tr>\n",
              "  </thead>\n",
              "  <tbody>\n",
              "    <tr>\n",
              "      <th>0</th>\n",
              "      <td>194.033698</td>\n",
              "      <td>quarto_privado</td>\n",
              "      <td>False</td>\n",
              "      <td>True</td>\n",
              "      <td>2</td>\n",
              "      <td>False</td>\n",
              "      <td>1</td>\n",
              "      <td>0</td>\n",
              "      <td>10.0</td>\n",
              "      <td>93.0</td>\n",
              "      <td>1</td>\n",
              "      <td>5.022964</td>\n",
              "      <td>2.539380</td>\n",
              "    </tr>\n",
              "    <tr>\n",
              "      <th>1</th>\n",
              "      <td>344.245776</td>\n",
              "      <td>quarto_privado</td>\n",
              "      <td>False</td>\n",
              "      <td>True</td>\n",
              "      <td>4</td>\n",
              "      <td>False</td>\n",
              "      <td>0</td>\n",
              "      <td>0</td>\n",
              "      <td>8.0</td>\n",
              "      <td>85.0</td>\n",
              "      <td>1</td>\n",
              "      <td>0.488389</td>\n",
              "      <td>0.239404</td>\n",
              "    </tr>\n",
              "    <tr>\n",
              "      <th>2</th>\n",
              "      <td>264.101422</td>\n",
              "      <td>quarto_privado</td>\n",
              "      <td>False</td>\n",
              "      <td>True</td>\n",
              "      <td>2</td>\n",
              "      <td>False</td>\n",
              "      <td>0</td>\n",
              "      <td>1</td>\n",
              "      <td>9.0</td>\n",
              "      <td>87.0</td>\n",
              "      <td>1</td>\n",
              "      <td>5.748312</td>\n",
              "      <td>3.651621</td>\n",
              "    </tr>\n",
              "    <tr>\n",
              "      <th>3</th>\n",
              "      <td>433.529398</td>\n",
              "      <td>quarto_privado</td>\n",
              "      <td>False</td>\n",
              "      <td>True</td>\n",
              "      <td>4</td>\n",
              "      <td>False</td>\n",
              "      <td>0</td>\n",
              "      <td>1</td>\n",
              "      <td>9.0</td>\n",
              "      <td>90.0</td>\n",
              "      <td>2</td>\n",
              "      <td>0.384862</td>\n",
              "      <td>0.439876</td>\n",
              "    </tr>\n",
              "    <tr>\n",
              "      <th>4</th>\n",
              "      <td>485.552926</td>\n",
              "      <td>quarto_privado</td>\n",
              "      <td>False</td>\n",
              "      <td>True</td>\n",
              "      <td>2</td>\n",
              "      <td>True</td>\n",
              "      <td>0</td>\n",
              "      <td>0</td>\n",
              "      <td>10.0</td>\n",
              "      <td>98.0</td>\n",
              "      <td>1</td>\n",
              "      <td>0.544738</td>\n",
              "      <td>0.318693</td>\n",
              "    </tr>\n",
              "    <tr>\n",
              "      <th>...</th>\n",
              "      <td>...</td>\n",
              "      <td>...</td>\n",
              "      <td>...</td>\n",
              "      <td>...</td>\n",
              "      <td>...</td>\n",
              "      <td>...</td>\n",
              "      <td>...</td>\n",
              "      <td>...</td>\n",
              "      <td>...</td>\n",
              "      <td>...</td>\n",
              "      <td>...</td>\n",
              "      <td>...</td>\n",
              "      <td>...</td>\n",
              "    </tr>\n",
              "    <tr>\n",
              "      <th>1098</th>\n",
              "      <td>2486.115342</td>\n",
              "      <td>apartamento</td>\n",
              "      <td>False</td>\n",
              "      <td>False</td>\n",
              "      <td>2</td>\n",
              "      <td>False</td>\n",
              "      <td>0</td>\n",
              "      <td>0</td>\n",
              "      <td>10.0</td>\n",
              "      <td>100.0</td>\n",
              "      <td>1</td>\n",
              "      <td>2.375833</td>\n",
              "      <td>1.436054</td>\n",
              "    </tr>\n",
              "    <tr>\n",
              "      <th>1099</th>\n",
              "      <td>233.637194</td>\n",
              "      <td>quarto_privado</td>\n",
              "      <td>False</td>\n",
              "      <td>True</td>\n",
              "      <td>2</td>\n",
              "      <td>False</td>\n",
              "      <td>1</td>\n",
              "      <td>0</td>\n",
              "      <td>10.0</td>\n",
              "      <td>90.0</td>\n",
              "      <td>1</td>\n",
              "      <td>4.719736</td>\n",
              "      <td>0.322263</td>\n",
              "    </tr>\n",
              "    <tr>\n",
              "      <th>1100</th>\n",
              "      <td>317.062311</td>\n",
              "      <td>quarto_privado</td>\n",
              "      <td>False</td>\n",
              "      <td>True</td>\n",
              "      <td>2</td>\n",
              "      <td>False</td>\n",
              "      <td>1</td>\n",
              "      <td>0</td>\n",
              "      <td>10.0</td>\n",
              "      <td>92.0</td>\n",
              "      <td>1</td>\n",
              "      <td>0.598355</td>\n",
              "      <td>0.751993</td>\n",
              "    </tr>\n",
              "    <tr>\n",
              "      <th>1101</th>\n",
              "      <td>1812.855904</td>\n",
              "      <td>apartamento</td>\n",
              "      <td>False</td>\n",
              "      <td>False</td>\n",
              "      <td>4</td>\n",
              "      <td>False</td>\n",
              "      <td>0</td>\n",
              "      <td>0</td>\n",
              "      <td>8.0</td>\n",
              "      <td>84.0</td>\n",
              "      <td>5</td>\n",
              "      <td>1.943020</td>\n",
              "      <td>0.388532</td>\n",
              "    </tr>\n",
              "    <tr>\n",
              "      <th>1102</th>\n",
              "      <td>258.008577</td>\n",
              "      <td>compart_quarto</td>\n",
              "      <td>True</td>\n",
              "      <td>False</td>\n",
              "      <td>2</td>\n",
              "      <td>False</td>\n",
              "      <td>0</td>\n",
              "      <td>0</td>\n",
              "      <td>8.0</td>\n",
              "      <td>90.0</td>\n",
              "      <td>1</td>\n",
              "      <td>0.280204</td>\n",
              "      <td>0.516217</td>\n",
              "    </tr>\n",
              "  </tbody>\n",
              "</table>\n",
              "<p>1103 rows × 13 columns</p>\n",
              "</div>\n",
              "      <button class=\"colab-df-convert\" onclick=\"convertToInteractive('df-53c8f2f2-4cef-4260-b4fd-38ca21afe7df')\"\n",
              "              title=\"Convert this dataframe to an interactive table.\"\n",
              "              style=\"display:none;\">\n",
              "        \n",
              "  <svg xmlns=\"http://www.w3.org/2000/svg\" height=\"24px\"viewBox=\"0 0 24 24\"\n",
              "       width=\"24px\">\n",
              "    <path d=\"M0 0h24v24H0V0z\" fill=\"none\"/>\n",
              "    <path d=\"M18.56 5.44l.94 2.06.94-2.06 2.06-.94-2.06-.94-.94-2.06-.94 2.06-2.06.94zm-11 1L8.5 8.5l.94-2.06 2.06-.94-2.06-.94L8.5 2.5l-.94 2.06-2.06.94zm10 10l.94 2.06.94-2.06 2.06-.94-2.06-.94-.94-2.06-.94 2.06-2.06.94z\"/><path d=\"M17.41 7.96l-1.37-1.37c-.4-.4-.92-.59-1.43-.59-.52 0-1.04.2-1.43.59L10.3 9.45l-7.72 7.72c-.78.78-.78 2.05 0 2.83L4 21.41c.39.39.9.59 1.41.59.51 0 1.02-.2 1.41-.59l7.78-7.78 2.81-2.81c.8-.78.8-2.07 0-2.86zM5.41 20L4 18.59l7.72-7.72 1.47 1.35L5.41 20z\"/>\n",
              "  </svg>\n",
              "      </button>\n",
              "      \n",
              "  <style>\n",
              "    .colab-df-container {\n",
              "      display:flex;\n",
              "      flex-wrap:wrap;\n",
              "      gap: 12px;\n",
              "    }\n",
              "\n",
              "    .colab-df-convert {\n",
              "      background-color: #E8F0FE;\n",
              "      border: none;\n",
              "      border-radius: 50%;\n",
              "      cursor: pointer;\n",
              "      display: none;\n",
              "      fill: #1967D2;\n",
              "      height: 32px;\n",
              "      padding: 0 0 0 0;\n",
              "      width: 32px;\n",
              "    }\n",
              "\n",
              "    .colab-df-convert:hover {\n",
              "      background-color: #E2EBFA;\n",
              "      box-shadow: 0px 1px 2px rgba(60, 64, 67, 0.3), 0px 1px 3px 1px rgba(60, 64, 67, 0.15);\n",
              "      fill: #174EA6;\n",
              "    }\n",
              "\n",
              "    [theme=dark] .colab-df-convert {\n",
              "      background-color: #3B4455;\n",
              "      fill: #D2E3FC;\n",
              "    }\n",
              "\n",
              "    [theme=dark] .colab-df-convert:hover {\n",
              "      background-color: #434B5C;\n",
              "      box-shadow: 0px 1px 3px 1px rgba(0, 0, 0, 0.15);\n",
              "      filter: drop-shadow(0px 1px 2px rgba(0, 0, 0, 0.3));\n",
              "      fill: #FFFFFF;\n",
              "    }\n",
              "  </style>\n",
              "\n",
              "      <script>\n",
              "        const buttonEl =\n",
              "          document.querySelector('#df-53c8f2f2-4cef-4260-b4fd-38ca21afe7df button.colab-df-convert');\n",
              "        buttonEl.style.display =\n",
              "          google.colab.kernel.accessAllowed ? 'block' : 'none';\n",
              "\n",
              "        async function convertToInteractive(key) {\n",
              "          const element = document.querySelector('#df-53c8f2f2-4cef-4260-b4fd-38ca21afe7df');\n",
              "          const dataTable =\n",
              "            await google.colab.kernel.invokeFunction('convertToInteractive',\n",
              "                                                     [key], {});\n",
              "          if (!dataTable) return;\n",
              "\n",
              "          const docLinkHtml = 'Like what you see? Visit the ' +\n",
              "            '<a target=\"_blank\" href=https://colab.research.google.com/notebooks/data_table.ipynb>data table notebook</a>'\n",
              "            + ' to learn more about interactive tables.';\n",
              "          element.innerHTML = '';\n",
              "          dataTable['output_type'] = 'display_data';\n",
              "          await google.colab.output.renderOutput(dataTable, element);\n",
              "          const docLink = document.createElement('div');\n",
              "          docLink.innerHTML = docLinkHtml;\n",
              "          element.appendChild(docLink);\n",
              "        }\n",
              "      </script>\n",
              "    </div>\n",
              "  </div>\n",
              "  "
            ]
          },
          "metadata": {},
          "execution_count": 133
        }
      ]
    },
    {
      "cell_type": "markdown",
      "source": [
        "##Tranformações (Limpeza, conversão , etc)"
      ],
      "metadata": {
        "id": "ldcObGeOXwsT"
      }
    },
    {
      "cell_type": "code",
      "source": [
        "df = pd.read_csv(path) #Backup\n",
        "dfback = df.copy()"
      ],
      "metadata": {
        "id": "28bdnjbmj4PW"
      },
      "execution_count": null,
      "outputs": []
    },
    {
      "cell_type": "code",
      "source": [
        "df.drop(['Unnamed: 0','attr_index','attr_index_norm','rest_index','rest_index_norm','rest_index','lng','lat'],axis=1,inplace=True) #Dropando pois não irá influenciar nessa análise"
      ],
      "metadata": {
        "id": "0TeB4WXXGBpX"
      },
      "execution_count": null,
      "outputs": []
    },
    {
      "cell_type": "code",
      "source": [
        "#Renomeando colunas\n",
        "\n",
        "df.rename(columns={'realSum': 'preco_total',\n",
        "                   'room_type': 'tipo_quarto',\n",
        "                   'room_shared': 'compart_quarto',\n",
        "                   'room_private': 'priv_quarto',\n",
        "                   'person_capacity' : 'capacidade_pessoa',\n",
        "                   'host_is_superhost' : 'super_anfitriao',\n",
        "                   'multi' : 'multi_quarto',\n",
        "                   'biz' : 'tipo_uso',\n",
        "                   'cleanliness_rating' : 'nota_limpeza',\n",
        "                   'guest_satisfaction_overall' : 'nota_satisfacao',\n",
        "                   'bedrooms' : 'n_quartos',\n",
        "                   'dist' : 'dist_cidade',\n",
        "                   'metro_dist' : 'dist_metro',\n",
        "                   'lng': 'longitude',\n",
        "                   'lat' : \"latitude\"\n",
        "                   }, \n",
        "                   inplace = True)\n",
        "                      "
      ],
      "metadata": {
        "id": "0HYnPcAVuvf1"
      },
      "execution_count": null,
      "outputs": []
    },
    {
      "cell_type": "code",
      "source": [
        " #Traduzindo linhas\n",
        " df.replace(['Private room','Entire home/apt','Shared room'],['quarto_privado','apartamento', 'compart_quarto'],inplace=True)"
      ],
      "metadata": {
        "id": "2sYBLXgh77A_"
      },
      "execution_count": null,
      "outputs": []
    },
    {
      "cell_type": "code",
      "source": [
        "sorted(pd.unique(df['tipo_quarto'])) #Verificando quais são os tipos de quartos únicos"
      ],
      "metadata": {
        "colab": {
          "base_uri": "https://localhost:8080/"
        },
        "id": "JOax0SEuqdZL",
        "outputId": "a09ba5dc-3f5c-4601-a3b5-6bbbaed2569f"
      },
      "execution_count": null,
      "outputs": [
        {
          "output_type": "execute_result",
          "data": {
            "text/plain": [
              "['apartamento', 'compart_quarto', 'quarto_privado']"
            ]
          },
          "metadata": {},
          "execution_count": 131
        }
      ]
    },
    {
      "cell_type": "markdown",
      "source": [
        "##Filtros"
      ],
      "metadata": {
        "id": "uj07TkIjX-5H"
      }
    },
    {
      "cell_type": "code",
      "source": [
        "#Tirando dado float\n",
        "filtrofloat = df.capacidade_pessoa.astype('int') != df.capacidade_pessoa\n",
        "df.loc[filtrofloat]\n",
        "df.capacidade_pessoa = df.capacidade_pessoa.astype('int')"
      ],
      "metadata": {
        "id": "2OQsWJAVzq6k"
      },
      "execution_count": null,
      "outputs": []
    },
    {
      "cell_type": "markdown",
      "source": [
        "##GroupBY ( Agrupamentos)"
      ],
      "metadata": {
        "id": "cL_3pNqnX7aa"
      }
    },
    {
      "cell_type": "code",
      "source": [
        "#Média do tipo de quarto com a nota de satisfacao\n",
        "df.groupby(['tipo_quarto'])['nota_satisfacao'].mean()"
      ],
      "metadata": {
        "colab": {
          "base_uri": "https://localhost:8080/"
        },
        "id": "BRS-tNn6uiMf",
        "outputId": "c3ccacc2-fdd9-48f8-cf4a-18c729d5ec8a"
      },
      "execution_count": null,
      "outputs": [
        {
          "output_type": "execute_result",
          "data": {
            "text/plain": [
              "tipo_quarto\n",
              "apartamento       95.211896\n",
              "compart_quarto    92.833333\n",
              "quarto_privado    93.561717\n",
              "Name: nota_satisfacao, dtype: float64"
            ]
          },
          "metadata": {},
          "execution_count": 134
        }
      ]
    },
    {
      "cell_type": "code",
      "source": [
        "#Média do tipo de quarto pela nota da limpeza\n",
        "df.groupby(['tipo_quarto'])['nota_limpeza'].mean()"
      ],
      "metadata": {
        "colab": {
          "base_uri": "https://localhost:8080/"
        },
        "id": "ymmRTCz4vroj",
        "outputId": "585cade7-cb22-48e9-ce9a-f4064fb6a253"
      },
      "execution_count": null,
      "outputs": [
        {
          "output_type": "execute_result",
          "data": {
            "text/plain": [
              "tipo_quarto\n",
              "apartamento       9.438662\n",
              "compart_quarto    9.166667\n",
              "quarto_privado    9.486583\n",
              "Name: nota_limpeza, dtype: float64"
            ]
          },
          "metadata": {},
          "execution_count": 135
        }
      ]
    },
    {
      "cell_type": "code",
      "source": [
        "#Média tipo de quarto pelo preço\n",
        "df.groupby(['tipo_quarto'])['preco_total'].mean()"
      ],
      "metadata": {
        "colab": {
          "base_uri": "https://localhost:8080/"
        },
        "id": "Vy7aY_gKwj6N",
        "outputId": "6f9fde59-1e1b-43a2-9464-2218b05fa6d6"
      },
      "execution_count": null,
      "outputs": [
        {
          "output_type": "execute_result",
          "data": {
            "text/plain": [
              "tipo_quarto\n",
              "apartamento       733.179099\n",
              "compart_quarto    280.973918\n",
              "quarto_privado    366.764655\n",
              "Name: preco_total, dtype: float64"
            ]
          },
          "metadata": {},
          "execution_count": 136
        }
      ]
    },
    {
      "cell_type": "markdown",
      "source": [
        "##Plotagem"
      ],
      "metadata": {
        "id": "cz_lIMfAYLIR"
      }
    },
    {
      "cell_type": "code",
      "source": [
        "faixas_de_nota = np.arange(0, 110, 10)\n",
        "grupo_faixa_nota = pd.cut(df['nota_satisfacao'], faixas_de_nota)\n",
        "df.groupby(grupo_faixa_nota)['dist_cidade'].mean().plot.bar(figsize=(12,8), xlabel='nota', ylabel='distância da cidade')#Verificando a nota de satisfação com relação à distância da cidade"
      ],
      "metadata": {
        "colab": {
          "base_uri": "https://localhost:8080/",
          "height": 549
        },
        "id": "-ycqQJ5ZxE1m",
        "outputId": "45f412aa-67bf-4094-d8bd-66f78ef48d0e"
      },
      "execution_count": null,
      "outputs": [
        {
          "output_type": "execute_result",
          "data": {
            "text/plain": [
              "<Axes: xlabel='nota', ylabel='distância da cidade'>"
            ]
          },
          "metadata": {},
          "execution_count": 137
        },
        {
          "output_type": "display_data",
          "data": {
            "text/plain": [
              "<Figure size 864x576 with 1 Axes>"
            ],
            "image/png": "[encoded data removed]"
          },
          "metadata": {
            "needs_background": "light"
          }
        }
      ]
    },
    {
      "cell_type": "code",
      "source": [
        "faixas_de_nota = np.arange(0, 110, 10)\n",
        "grupo_faixa_nota = pd.cut(df['nota_satisfacao'], faixas_de_nota)\n",
        "df.groupby(grupo_faixa_nota)['dist_metro'].mean().plot.bar(figsize=(12,8), xlabel='nota', ylabel='distância do metrô') #Verificando o nota de satisfação com relação à distância do metrô"
      ],
      "metadata": {
        "colab": {
          "base_uri": "https://localhost:8080/",
          "height": 549
        },
        "id": "0Bds5sPHz3LU",
        "outputId": "43bd7683-9e0b-4737-f981-1ec709fdad92"
      },
      "execution_count": null,
      "outputs": [
        {
          "output_type": "execute_result",
          "data": {
            "text/plain": [
              "<Axes: xlabel='nota', ylabel='distância do metrô'>"
            ]
          },
          "metadata": {},
          "execution_count": 138
        },
        {
          "output_type": "display_data",
          "data": {
            "text/plain": [
              "<Figure size 864x576 with 1 Axes>"
            ],
            "image/png": "[encoded data removed]"
          },
          "metadata": {
            "needs_background": "light"
          }
        }
      ]
    },
    {
      "cell_type": "code",
      "source": [
        "faixas_de_nota = np.arange(0, 110, 10)\n",
        "grupo_faixa_nota = pd.cut(df['nota_satisfacao'], faixas_de_nota)\n",
        "df.groupby(grupo_faixa_nota)['preco_total'].mean().plot.bar(figsize=(12,8), xlabel='nota', ylabel='preço total') #Verificando a nota de satisfação em relação à distância da cidade"
      ],
      "metadata": {
        "colab": {
          "base_uri": "https://localhost:8080/",
          "height": 549
        },
        "id": "F1jn3Yb-z3Xp",
        "outputId": "2ede2d26-f1dd-422e-d2ca-89492ce07835"
      },
      "execution_count": null,
      "outputs": [
        {
          "output_type": "execute_result",
          "data": {
            "text/plain": [
              "<Axes: xlabel='nota', ylabel='preço total'>"
            ]
          },
          "metadata": {},
          "execution_count": 139
        },
        {
          "output_type": "display_data",
          "data": {
            "text/plain": [
              "<Figure size 864x576 with 1 Axes>"
            ],
            "image/png": "[encoded data removed]"
          },
          "metadata": {
            "needs_background": "light"
          }
        }
      ]
    },
    {
      "cell_type": "code",
      "source": [
        "faixas_de_preco = np.arange(0, df['preco_total'].max() + 1000, 1000)\n",
        "grupo_faixa_preco = pd.cut(df['preco_total'], faixas_de_preco)\n",
        "df.groupby(grupo_faixa_preco)['dist_metro'].mean().plot.bar(figsize=(12,8), xlabel='preço', ylabel='distância do metrô') #Verificando o preço total em relação à distância do metrô"
      ],
      "metadata": {
        "colab": {
          "base_uri": "https://localhost:8080/",
          "height": 587
        },
        "id": "ys0slwTQ60bG",
        "outputId": "c5a765bf-cb9d-4c22-8cf4-173dda8f054a"
      },
      "execution_count": null,
      "outputs": [
        {
          "output_type": "execute_result",
          "data": {
            "text/plain": [
              "<Axes: xlabel='preço', ylabel='distância do metrô'>"
            ]
          },
          "metadata": {},
          "execution_count": 140
        },
        {
          "output_type": "display_data",
          "data": {
            "text/plain": [
              "<Figure size 864x576 with 1 Axes>"
            ],
            "image/png": "[encoded data removed]"
          },
          "metadata": {
            "needs_background": "light"
          }
        }
      ]
    },
    {
      "cell_type": "code",
      "source": [
        "faixas_de_preco = np.arange(0, df['preco_total'].max() + 1000, 1000)\n",
        "grupo_faixa_preco = pd.cut(df['preco_total'], faixas_de_preco)\n",
        "df.groupby(grupo_faixa_preco)['dist_cidade'].mean().plot.bar(figsize=(12,8), xlabel='preço', ylabel='distância da cidade') #Verificando o preço total com relação à distância da cidade"
      ],
      "metadata": {
        "colab": {
          "base_uri": "https://localhost:8080/",
          "height": 587
        },
        "id": "7nnn-LKr76pb",
        "outputId": "96427e27-54a7-4080-d404-bb4424fa9256"
      },
      "execution_count": null,
      "outputs": [
        {
          "output_type": "execute_result",
          "data": {
            "text/plain": [
              "<Axes: xlabel='preço', ylabel='distância da cidade'>"
            ]
          },
          "metadata": {},
          "execution_count": 141
        },
        {
          "output_type": "display_data",
          "data": {
            "text/plain": [
              "<Figure size 864x576 with 1 Axes>"
            ],
            "image/png": "[encoded data removed]"
          },
          "metadata": {
            "needs_background": "light"
          }
        }
      ]
    },
    {
      "cell_type": "code",
      "source": [
        "df.groupby('multi_quarto',dropna=False).size().sort_values(ascending=False).plot.pie() #Verificando se tem vários quartos, 0 é false, 1 é true."
      ],
      "metadata": {
        "colab": {
          "base_uri": "https://localhost:8080/",
          "height": 265
        },
        "id": "dPD3Byhr1Fq7",
        "outputId": "852bd074-543f-44b6-8576-413bfc2cd93f"
      },
      "execution_count": null,
      "outputs": [
        {
          "output_type": "execute_result",
          "data": {
            "text/plain": [
              "<Axes: ylabel='None'>"
            ]
          },
          "metadata": {},
          "execution_count": 142
        },
        {
          "output_type": "display_data",
          "data": {
            "text/plain": [
              "<Figure size 432x288 with 1 Axes>"
            ],
            "image/png": "[encoded data removed]"
          },
          "metadata": {}
        }
      ]
    },
    {
      "cell_type": "code",
      "source": [
        "df.groupby('tipo_quarto')['multi_quarto'].sum() #Verificando quais os tipos de quartos possuem multi quartos"
      ],
      "metadata": {
        "colab": {
          "base_uri": "https://localhost:8080/"
        },
        "id": "GUBh0obC9ycw",
        "outputId": "ab31c88b-8e98-48ec-b73f-c86970a5eae0"
      },
      "execution_count": null,
      "outputs": [
        {
          "output_type": "execute_result",
          "data": {
            "text/plain": [
              "tipo_quarto\n",
              "apartamento       104\n",
              "compart_quarto      3\n",
              "quarto_privado    233\n",
              "Name: multi_quarto, dtype: int64"
            ]
          },
          "metadata": {},
          "execution_count": 143
        }
      ]
    },
    {
      "cell_type": "code",
      "source": [
        "df.groupby(['tipo_quarto'],dropna=False).size().sort_values(ascending=False).plot.bar(figsize=(12,8),xlabel='Quartos',ylabel='Alugados') #Verificando os tipos de quartos"
      ],
      "metadata": {
        "colab": {
          "base_uri": "https://localhost:8080/",
          "height": 583
        },
        "id": "3U244OccD1JP",
        "outputId": "b4f1919d-8550-4fb7-8069-aad457873307"
      },
      "execution_count": null,
      "outputs": [
        {
          "output_type": "execute_result",
          "data": {
            "text/plain": [
              "<Axes: xlabel='Quartos', ylabel='Alugados'>"
            ]
          },
          "metadata": {},
          "execution_count": 144
        },
        {
          "output_type": "display_data",
          "data": {
            "text/plain": [
              "<Figure size 864x576 with 1 Axes>"
            ],
            "image/png": "[encoded data removed]"
          },
          "metadata": {
            "needs_background": "light"
          }
        }
      ]
    },
    {
      "cell_type": "code",
      "source": [
        "df.groupby('tipo_quarto',dropna=False).size().sort_values(ascending=False).plot.pie() #Gráfico dos tipos de quartos"
      ],
      "metadata": {
        "colab": {
          "base_uri": "https://localhost:8080/",
          "height": 265
        },
        "id": "gkmfaXYxAI5_",
        "outputId": "2e1ae204-fe49-4230-a0ee-f9c6a80cb907"
      },
      "execution_count": null,
      "outputs": [
        {
          "output_type": "execute_result",
          "data": {
            "text/plain": [
              "<Axes: ylabel='None'>"
            ]
          },
          "metadata": {},
          "execution_count": 145
        },
        {
          "output_type": "display_data",
          "data": {
            "text/plain": [
              "<Figure size 432x288 with 1 Axes>"
            ],
            "image/png": "[encoded data removed]"
          },
          "metadata": {}
        }
      ]
    },
    {
      "cell_type": "code",
      "source": [
        "df.groupby('super_anfitriao',dropna=False).size().sort_values(ascending=False).plot.pie() #Verificando se tem super anfitrião, onde false não tem e true tem."
      ],
      "metadata": {
        "colab": {
          "base_uri": "https://localhost:8080/",
          "height": 265
        },
        "id": "dRz0743e_M1v",
        "outputId": "e16375d2-99ef-46f8-c084-2c0146ddab7e"
      },
      "execution_count": null,
      "outputs": [
        {
          "output_type": "execute_result",
          "data": {
            "text/plain": [
              "<Axes: ylabel='None'>"
            ]
          },
          "metadata": {},
          "execution_count": 146
        },
        {
          "output_type": "display_data",
          "data": {
            "text/plain": [
              "<Figure size 432x288 with 1 Axes>"
            ],
            "image/png": "[encoded data removed]"
          },
          "metadata": {}
        }
      ]
    },
    {
      "cell_type": "code",
      "source": [
        "df.groupby('tipo_quarto')['super_anfitriao'].value_counts() #Verificando em quais tipos de quartos tem o super anfitrião"
      ],
      "metadata": {
        "colab": {
          "base_uri": "https://localhost:8080/"
        },
        "id": "t7o7ilFw_gPD",
        "outputId": "d60e459f-86a2-4975-8576-acb4158e51bc"
      },
      "execution_count": null,
      "outputs": [
        {
          "output_type": "execute_result",
          "data": {
            "text/plain": [
              "tipo_quarto     super_anfitriao\n",
              "apartamento     False              424\n",
              "                True               114\n",
              "compart_quarto  False                4\n",
              "                True                 2\n",
              "quarto_privado  False              352\n",
              "                True               207\n",
              "Name: super_anfitriao, dtype: int64"
            ]
          },
          "metadata": {},
          "execution_count": 147
        }
      ]
    },
    {
      "cell_type": "code",
      "source": [
        "df.groupby(['tipo_quarto', 'super_anfitriao'])['nota_satisfacao'].mean() #Verificando a média da nota de satisfação que contém ou não o super anfitriao pelo tipo de quarto."
      ],
      "metadata": {
        "colab": {
          "base_uri": "https://localhost:8080/"
        },
        "id": "WHMwPVY2BAti",
        "outputId": "a082454e-c60a-4559-952e-6091621c6778"
      },
      "execution_count": null,
      "outputs": [
        {
          "output_type": "execute_result",
          "data": {
            "text/plain": [
              "tipo_quarto     super_anfitriao\n",
              "apartamento     False              94.563679\n",
              "                True               97.622807\n",
              "compart_quarto  False              90.750000\n",
              "                True               97.000000\n",
              "quarto_privado  False              91.562500\n",
              "                True               96.961353\n",
              "Name: nota_satisfacao, dtype: float64"
            ]
          },
          "metadata": {},
          "execution_count": 148
        }
      ]
    },
    {
      "cell_type": "markdown",
      "source": [
        "##Criação do Schema de validação de dados"
      ],
      "metadata": {
        "id": "NRHX-iDVDuH8"
      }
    },
    {
      "cell_type": "code",
      "source": [
        "schema = pa.DataFrameSchema(\n",
        "    columns = {\t\t\t\t\t\t\t\t\t\t\t\t\t\n",
        "        'preco_total':pa.Column(pa.Int),\n",
        "        'tipo_quarto':pa.Column(pa.String),\n",
        "        'compart_quarto':pa.Column(pa.String),\n",
        "        'priv_quarto':pa.Column(pa.String),\n",
        "        'capacidade_pessoa':pa.Column(pa.Int),\n",
        "        'super_anfitriao':pa.Column(pa.String),\n",
        "        'multi_quarto':pa.Column(pa.Int),\n",
        "        'tipo_uso':pa.Column(pa.Int),\n",
        "        'nota_limpeza':pa.Column(pa.Int),\n",
        "        'nota_satisfacao':pa.Column(pa.Int),\n",
        "        'n_quartos':pa.Column(pa.Int),\n",
        "        'dist_cidade':pa.Column(pa.Int),\n",
        "        'dist_metro':pa.Column(pa.Int),\n",
        "        'longitude':pa.Column(pa.Int),\n",
        "        'latitude':pa.Column(pa.Int),\n",
        "    }\n",
        ")"
      ],
      "metadata": {
        "id": "FDqdYdYqVlt7"
      },
      "execution_count": null,
      "outputs": []
    },
    {
      "cell_type": "markdown",
      "source": [
        "##LOAD (Carregamento) salvar o df.\n"
      ],
      "metadata": {
        "id": "yENaHYTLD0pz"
      }
    },
    {
      "cell_type": "code",
      "source": [
        "#Para o bucket\n",
        "df.to_csv('gs://nubialmeida45/tratados/amsterdam_weekdays.csv', index=False)"
      ],
      "metadata": {
        "id": "sfHimBYphAMn"
      },
      "execution_count": null,
      "outputs": []
    },
    {
      "cell_type": "code",
      "source": [
        "#Conectando MongoDB Atlas\n",
        "uri = \"mongodb+srv://cluster0.pvxzqua.mongodb.net/?authSource=%24external&authMechanism=MONGODB-X509&retryWrites=true&w=majority\"\n",
        "client = MongoClient(uri,tls=True,tlsCertificateKeyFile='/content/drive/MyDrive/MongoDb/X509-cert-342951600753315466.pem')\n",
        "\n",
        "db = client['Tratados']\n",
        "colecao = db['Airbnb']"
      ],
      "metadata": {
        "id": "GPN0NTFpawtO"
      },
      "execution_count": null,
      "outputs": []
    },
    {
      "cell_type": "code",
      "source": [
        "#Selecionando a base e coleção\n",
        "db = client['Projeto_AirBnb']\n",
        "colecaoAirBnb = db['tratado']\n",
        "colecaoAirBnb.count_documents({})"
      ],
      "metadata": {
        "id": "4KzxLGioaPR7",
        "colab": {
          "base_uri": "https://localhost:8080/"
        },
        "outputId": "251d09ad-6fc2-42c6-cd31-77a9c70494f2"
      },
      "execution_count": null,
      "outputs": [
        {
          "output_type": "execute_result",
          "data": {
            "text/plain": [
              "1103"
            ]
          },
          "metadata": {},
          "execution_count": 103
        }
      ]
    },
    {
      "cell_type": "code",
      "source": [
        "#Enviando de um dataframe para coleção no MONGO\n",
        "df_dict = df.to_dict(\"records\")\n",
        "\n",
        "colecaoAirBnb.insert_many(df_dict)"
      ],
      "metadata": {
        "colab": {
          "base_uri": "https://localhost:8080/"
        },
        "id": "r4dmKB5RZ7Pc",
        "outputId": "8fbd2be5-c109-4655-f1e7-24241f7281a9"
      },
      "execution_count": null,
      "outputs": [
        {
          "output_type": "execute_result",
          "data": {
            "text/plain": [
              "<pymongo.results.InsertManyResult at 0x7f4cf45e9160>"
            ]
          },
          "metadata": {},
          "execution_count": 102
        }
      ]
    },
    {
      "cell_type": "markdown",
      "source": [
        "##CONSIDERAÇÕES FINAIS\n"
      ],
      "metadata": {
        "id": "hQwu3KxBLRPx"
      }
    },
    {
      "cell_type": "markdown",
      "source": [
        "### Através da análise dos dados desse dataframe, percebi que:\n",
        "- A nota de satisfação e o preço não estão diretamente relacionados visto que alguns quartos com preços similares possuem notas muito diferentes;\n",
        "- Alguns apartamentos com distâncias maiores do metrô receberam notas maiores, uma explicação para isso, seria que com uma distância do metrô teria menos barulho\n",
        "- A maioria prefere ficar um pouco mais perto da cidade, isso se explica pela facilidade de locomoção\n",
        "- Os quartos que lideram em locação são os privados, sendo eles os que tem maiores notas de limpeza e os menores preços\n",
        "- Em segundo lugar, temos os apartamentos que apesar de terem as notas de limpeza bem próximas dos quartos privados, seus preços são os mais altos. A popularidade desse é explicada por possuirem condições parecidas com os quartos privados, a distância média da cidade e metrô são próximas e a diferença do preço se dá pelo o imóvel ser maior\n",
        "- Apesar da maioria dos imóveis não terem super anfitrião, os que contém, possui a nota em torno de 5% maior, podendo ser explicado que haverá uma pessoa que irá organizar os problemas que haverão nos imóveis"
      ],
      "metadata": {
        "id": "UGcYIhhw2pli"
      }
    }
  ]
}