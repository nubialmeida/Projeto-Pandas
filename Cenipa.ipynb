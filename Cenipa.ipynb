{
  "nbformat": 4,
  "nbformat_minor": 0,
  "metadata": {
    "colab": {
      "provenance": [],
      "mount_file_id": "1IpIeuDeU5b8F3-K6mWJeRBllCPUeEkOo",
      "authorship_tag": "ABX9TyMKeVM0NGSxNL/lK+m1PX7M",
      "include_colab_link": true
    },
    "kernelspec": {
      "name": "python3",
      "display_name": "Python 3"
    },
    "language_info": {
      "name": "python"
    }
  },
  "cells": [
    {
      "cell_type": "markdown",
      "metadata": {
        "id": "view-in-github",
        "colab_type": "text"
      },
      "source": [
        "<a href=\"https://colab.research.google.com/github/nubialmeida/projeto-pandas/blob/main/Cenipa.ipynb\" target=\"_parent\"><img src=\"https://colab.research.google.com/assets/colab-badge.svg\" alt=\"Open In Colab\"/></a>"
      ]
    },
    {
      "cell_type": "markdown",
      "source": [
        "##Instalação de bibliotecas"
      ],
      "metadata": {
        "id": "TqiU6-OcvAPZ"
      }
    },
    {
      "cell_type": "code",
      "source": [
        "pip install pandera pymongo"
      ],
      "metadata": {
        "id": "Z2YghfdpI4BB",
        "colab": {
          "base_uri": "https://localhost:8080/"
        },
        "outputId": "f2260341-ce40-452d-8869-d95b444fc46e"
      },
      "execution_count": 20,
      "outputs": [
        {
          "output_type": "stream",
          "name": "stdout",
          "text": [
            "Looking in indexes: https://pypi.org/simple, https://us-python.pkg.dev/colab-wheels/public/simple/\n",
            "Requirement already satisfied: pandera in /usr/local/lib/python3.9/dist-packages (0.14.5)\n",
            "Collecting pymongo\n",
            "  Downloading pymongo-4.3.3-cp39-cp39-manylinux_2_17_x86_64.manylinux2014_x86_64.whl (492 kB)\n",
            "\u001b[2K     \u001b[90m━━━━━━━━━━━━━━━━━━━━━━━━━━━━━━━━━━━━━━\u001b[0m \u001b[32m492.1/492.1 KB\u001b[0m \u001b[31m10.2 MB/s\u001b[0m eta \u001b[36m0:00:00\u001b[0m\n",
            "\u001b[?25hRequirement already satisfied: numpy>=1.19.0 in /usr/local/lib/python3.9/dist-packages (from pandera) (1.22.4)\n",
            "Requirement already satisfied: typing-inspect>=0.6.0 in /usr/local/lib/python3.9/dist-packages (from pandera) (0.8.0)\n",
            "Requirement already satisfied: packaging>=20.0 in /usr/local/lib/python3.9/dist-packages (from pandera) (23.0)\n",
            "Requirement already satisfied: pydantic in /usr/local/lib/python3.9/dist-packages (from pandera) (1.10.6)\n",
            "Requirement already satisfied: wrapt in /usr/local/lib/python3.9/dist-packages (from pandera) (1.15.0)\n",
            "Requirement already satisfied: multimethod in /usr/local/lib/python3.9/dist-packages (from pandera) (1.9.1)\n",
            "Requirement already satisfied: pandas>=1.2.0 in /usr/local/lib/python3.9/dist-packages (from pandera) (1.4.4)\n",
            "Collecting dnspython<3.0.0,>=1.16.0\n",
            "  Downloading dnspython-2.3.0-py3-none-any.whl (283 kB)\n",
            "\u001b[2K     \u001b[90m━━━━━━━━━━━━━━━━━━━━━━━━━━━━━━━━━━━━━━\u001b[0m \u001b[32m283.7/283.7 KB\u001b[0m \u001b[31m30.3 MB/s\u001b[0m eta \u001b[36m0:00:00\u001b[0m\n",
            "\u001b[?25hRequirement already satisfied: python-dateutil>=2.8.1 in /usr/local/lib/python3.9/dist-packages (from pandas>=1.2.0->pandera) (2.8.2)\n",
            "Requirement already satisfied: pytz>=2020.1 in /usr/local/lib/python3.9/dist-packages (from pandas>=1.2.0->pandera) (2022.7.1)\n",
            "Requirement already satisfied: typing-extensions>=3.7.4 in /usr/local/lib/python3.9/dist-packages (from typing-inspect>=0.6.0->pandera) (4.5.0)\n",
            "Requirement already satisfied: mypy-extensions>=0.3.0 in /usr/local/lib/python3.9/dist-packages (from typing-inspect>=0.6.0->pandera) (1.0.0)\n",
            "Requirement already satisfied: six>=1.5 in /usr/local/lib/python3.9/dist-packages (from python-dateutil>=2.8.1->pandas>=1.2.0->pandera) (1.15.0)\n",
            "Installing collected packages: dnspython, pymongo\n",
            "Successfully installed dnspython-2.3.0 pymongo-4.3.3\n"
          ]
        }
      ]
    },
    {
      "cell_type": "code",
      "source": [
        "\n",
        "pip install gcsfs\n"
      ],
      "metadata": {
        "colab": {
          "base_uri": "https://localhost:8080/"
        },
        "id": "jZWR6GJ-w5Yh",
        "outputId": "20262da6-0703-4dcf-9676-0e36bd652888"
      },
      "execution_count": 2,
      "outputs": [
        {
          "output_type": "stream",
          "name": "stdout",
          "text": [
            "Looking in indexes: https://pypi.org/simple, https://us-python.pkg.dev/colab-wheels/public/simple/\n",
            "Collecting gcsfs\n",
            "  Downloading gcsfs-2023.3.0-py2.py3-none-any.whl (26 kB)\n",
            "Collecting aiohttp!=4.0.0a0,!=4.0.0a1\n",
            "  Downloading aiohttp-3.8.4-cp39-cp39-manylinux_2_17_x86_64.manylinux2014_x86_64.whl (1.0 MB)\n",
            "\u001b[2K     \u001b[90m━━━━━━━━━━━━━━━━━━━━━━━━━━━━━━━━━━━━━━━━\u001b[0m \u001b[32m1.0/1.0 MB\u001b[0m \u001b[31m19.3 MB/s\u001b[0m eta \u001b[36m0:00:00\u001b[0m\n",
            "\u001b[?25hRequirement already satisfied: google-auth-oauthlib in /usr/local/lib/python3.9/dist-packages (from gcsfs) (0.4.6)\n",
            "Requirement already satisfied: decorator>4.1.2 in /usr/local/lib/python3.9/dist-packages (from gcsfs) (4.4.2)\n",
            "Requirement already satisfied: google-auth>=1.2 in /usr/local/lib/python3.9/dist-packages (from gcsfs) (2.16.2)\n",
            "Requirement already satisfied: fsspec==2023.3.0 in /usr/local/lib/python3.9/dist-packages (from gcsfs) (2023.3.0)\n",
            "Requirement already satisfied: google-cloud-storage in /usr/local/lib/python3.9/dist-packages (from gcsfs) (2.7.0)\n",
            "Requirement already satisfied: requests in /usr/local/lib/python3.9/dist-packages (from gcsfs) (2.27.1)\n",
            "Requirement already satisfied: attrs>=17.3.0 in /usr/local/lib/python3.9/dist-packages (from aiohttp!=4.0.0a0,!=4.0.0a1->gcsfs) (22.2.0)\n",
            "Collecting multidict<7.0,>=4.5\n",
            "  Downloading multidict-6.0.4-cp39-cp39-manylinux_2_17_x86_64.manylinux2014_x86_64.whl (114 kB)\n",
            "\u001b[2K     \u001b[90m━━━━━━━━━━━━━━━━━━━━━━━━━━━━━━━━━━━━━━\u001b[0m \u001b[32m114.2/114.2 KB\u001b[0m \u001b[31m14.8 MB/s\u001b[0m eta \u001b[36m0:00:00\u001b[0m\n",
            "\u001b[?25hCollecting aiosignal>=1.1.2\n",
            "  Downloading aiosignal-1.3.1-py3-none-any.whl (7.6 kB)\n",
            "Collecting async-timeout<5.0,>=4.0.0a3\n",
            "  Downloading async_timeout-4.0.2-py3-none-any.whl (5.8 kB)\n",
            "Requirement already satisfied: charset-normalizer<4.0,>=2.0 in /usr/local/lib/python3.9/dist-packages (from aiohttp!=4.0.0a0,!=4.0.0a1->gcsfs) (2.0.12)\n",
            "Collecting yarl<2.0,>=1.0\n",
            "  Downloading yarl-1.8.2-cp39-cp39-manylinux_2_17_x86_64.manylinux2014_x86_64.whl (264 kB)\n",
            "\u001b[2K     \u001b[90m━━━━━━━━━━━━━━━━━━━━━━━━━━━━━━━━━━━━━━\u001b[0m \u001b[32m264.6/264.6 KB\u001b[0m \u001b[31m17.2 MB/s\u001b[0m eta \u001b[36m0:00:00\u001b[0m\n",
            "\u001b[?25hCollecting frozenlist>=1.1.1\n",
            "  Downloading frozenlist-1.3.3-cp39-cp39-manylinux_2_5_x86_64.manylinux1_x86_64.manylinux_2_17_x86_64.manylinux2014_x86_64.whl (158 kB)\n",
            "\u001b[2K     \u001b[90m━━━━━━━━━━━━━━━━━━━━━━━━━━━━━━━━━━━━━━\u001b[0m \u001b[32m158.8/158.8 KB\u001b[0m \u001b[31m16.6 MB/s\u001b[0m eta \u001b[36m0:00:00\u001b[0m\n",
            "\u001b[?25hRequirement already satisfied: six>=1.9.0 in /usr/local/lib/python3.9/dist-packages (from google-auth>=1.2->gcsfs) (1.15.0)\n",
            "Requirement already satisfied: cachetools<6.0,>=2.0.0 in /usr/local/lib/python3.9/dist-packages (from google-auth>=1.2->gcsfs) (5.3.0)\n",
            "Requirement already satisfied: rsa<5,>=3.1.4 in /usr/local/lib/python3.9/dist-packages (from google-auth>=1.2->gcsfs) (4.9)\n",
            "Requirement already satisfied: pyasn1-modules>=0.2.1 in /usr/local/lib/python3.9/dist-packages (from google-auth>=1.2->gcsfs) (0.2.8)\n",
            "Requirement already satisfied: requests-oauthlib>=0.7.0 in /usr/local/lib/python3.9/dist-packages (from google-auth-oauthlib->gcsfs) (1.3.1)\n",
            "Requirement already satisfied: google-cloud-core<3.0dev,>=2.3.0 in /usr/local/lib/python3.9/dist-packages (from google-cloud-storage->gcsfs) (2.3.2)\n",
            "Requirement already satisfied: google-resumable-media>=2.3.2 in /usr/local/lib/python3.9/dist-packages (from google-cloud-storage->gcsfs) (2.4.1)\n",
            "Requirement already satisfied: google-api-core!=2.0.*,!=2.1.*,!=2.2.*,!=2.3.0,<3.0.0dev,>=1.31.5 in /usr/local/lib/python3.9/dist-packages (from google-cloud-storage->gcsfs) (2.11.0)\n",
            "Requirement already satisfied: urllib3<1.27,>=1.21.1 in /usr/local/lib/python3.9/dist-packages (from requests->gcsfs) (1.26.15)\n",
            "Requirement already satisfied: idna<4,>=2.5 in /usr/local/lib/python3.9/dist-packages (from requests->gcsfs) (3.4)\n",
            "Requirement already satisfied: certifi>=2017.4.17 in /usr/local/lib/python3.9/dist-packages (from requests->gcsfs) (2022.12.7)\n",
            "Requirement already satisfied: protobuf!=3.20.0,!=3.20.1,!=4.21.0,!=4.21.1,!=4.21.2,!=4.21.3,!=4.21.4,!=4.21.5,<5.0.0dev,>=3.19.5 in /usr/local/lib/python3.9/dist-packages (from google-api-core!=2.0.*,!=2.1.*,!=2.2.*,!=2.3.0,<3.0.0dev,>=1.31.5->google-cloud-storage->gcsfs) (3.19.6)\n",
            "Requirement already satisfied: googleapis-common-protos<2.0dev,>=1.56.2 in /usr/local/lib/python3.9/dist-packages (from google-api-core!=2.0.*,!=2.1.*,!=2.2.*,!=2.3.0,<3.0.0dev,>=1.31.5->google-cloud-storage->gcsfs) (1.58.0)\n",
            "Requirement already satisfied: google-crc32c<2.0dev,>=1.0 in /usr/local/lib/python3.9/dist-packages (from google-resumable-media>=2.3.2->google-cloud-storage->gcsfs) (1.5.0)\n",
            "Requirement already satisfied: pyasn1<0.5.0,>=0.4.6 in /usr/local/lib/python3.9/dist-packages (from pyasn1-modules>=0.2.1->google-auth>=1.2->gcsfs) (0.4.8)\n",
            "Requirement already satisfied: oauthlib>=3.0.0 in /usr/local/lib/python3.9/dist-packages (from requests-oauthlib>=0.7.0->google-auth-oauthlib->gcsfs) (3.2.2)\n",
            "Installing collected packages: multidict, frozenlist, async-timeout, yarl, aiosignal, aiohttp, gcsfs\n",
            "Successfully installed aiohttp-3.8.4 aiosignal-1.3.1 async-timeout-4.0.2 frozenlist-1.3.3 gcsfs-2023.3.0 multidict-6.0.4 yarl-1.8.2\n"
          ]
        }
      ]
    },
    {
      "cell_type": "markdown",
      "source": [
        "##Instalação de bibliotecas"
      ],
      "metadata": {
        "id": "iv4VQ06UvCdb"
      }
    },
    {
      "cell_type": "code",
      "execution_count": 21,
      "metadata": {
        "id": "3hcLkKk27MCe"
      },
      "outputs": [],
      "source": [
        "import pandas as pd\n",
        "import numpy as np\n",
        "import os\n",
        "from google.cloud import storage\n",
        "import pandera as pa\n",
        "import pymongo\n",
        "from pymongo import MongoClient"
      ]
    },
    {
      "cell_type": "markdown",
      "source": [
        "##Conector MongoDB Atlas"
      ],
      "metadata": {
        "id": "U2lO3ErdwJTa"
      }
    },
    {
      "cell_type": "code",
      "source": [
        "uri = \"mongodb+srv://cluster0.pvxzqua.mongodb.net/?authSource=%24external&authMechanism=MONGODB-X509&retryWrites=true&w=majority\"\n",
        "client = MongoClient(uri,\n",
        "                     tls=True,\n",
        "                     tlsCertificateKeyFile='/content/drive/MyDrive/MongoDb/X509-cert-342951600753315466.pem')\n",
        "\n",
        "db = client['Brutos']\n",
        "colecao = db['Cenipa']"
      ],
      "metadata": {
        "id": "dXFR739hxC1l"
      },
      "execution_count": 115,
      "outputs": []
    },
    {
      "cell_type": "code",
      "source": [
        "#Selecionando a base e coleção\n",
        "db = client['Projeto_Cenipa']\n",
        "colecaoAirBnb = db['brutos']\n",
        "colecaoAirBnb.count_documents({})\n"
      ],
      "metadata": {
        "colab": {
          "base_uri": "https://localhost:8080/"
        },
        "id": "o3xSe87gEfd-",
        "outputId": "61e8155e-e02e-4f73-ebcc-c056765b53c8"
      },
      "execution_count": 120,
      "outputs": [
        {
          "output_type": "execute_result",
          "data": {
            "text/plain": [
              "6769"
            ]
          },
          "metadata": {},
          "execution_count": 120
        }
      ]
    },
    {
      "cell_type": "code",
      "source": [
        "\n",
        "#Enviando de um dataframe para coleção no MONGO\n",
        "df_dict = df.to_dict(\"records\")\n",
        "\n",
        "colecaoAirBnb.insert_many(df_dict)"
      ],
      "metadata": {
        "colab": {
          "base_uri": "https://localhost:8080/"
        },
        "id": "t3zYYV5aEhnG",
        "outputId": "1292cb57-693c-4f2d-cb90-769c67dcebf6"
      },
      "execution_count": 119,
      "outputs": [
        {
          "output_type": "execute_result",
          "data": {
            "text/plain": [
              "<pymongo.results.InsertManyResult at 0x7f344c9b1250>"
            ]
          },
          "metadata": {},
          "execution_count": 119
        }
      ]
    },
    {
      "cell_type": "markdown",
      "source": [
        "##Conector para Cloud Storage(bucket)"
      ],
      "metadata": {
        "id": "FsdP8ZWoxHib"
      }
    },
    {
      "cell_type": "code",
      "source": [
        "#CONFIGURANDO DA CHAVE DE SEGURANCA (Enviada com o projeto) conector\n",
        "\n",
        "serviceAccount = '/content/drive/MyDrive/chave/colab.json'\n",
        "os.environ['GOOGLE_APPLICATION_CREDENTIALS'] = serviceAccount"
      ],
      "metadata": {
        "id": "oQ4XAB4S8EbO"
      },
      "execution_count": 6,
      "outputs": []
    },
    {
      "cell_type": "code",
      "source": [
        "#Configurações Google Cloud Storage\n",
        "client = storage.Client()\n",
        "bucket = client.get_bucket('nubialmeida45')\n",
        "bucket.blob('ocorrencias.csv')\n",
        "path = 'gs://nubialmeida45/brutos/ocorrencias.csv'"
      ],
      "metadata": {
        "id": "IvW_FIyZsK1b"
      },
      "execution_count": 7,
      "outputs": []
    },
    {
      "cell_type": "markdown",
      "source": [
        "##Extração dos dados(Extract)"
      ],
      "metadata": {
        "id": "7FnhhhXLwKYz"
      }
    },
    {
      "cell_type": "code",
      "source": [
        "df = pd.read_csv(path,sep=';',encoding='ISO-8859-1',parse_dates=['ocorrencia_dia'], dayfirst=True)"
      ],
      "metadata": {
        "id": "QrZyd0aEKNUY"
      },
      "execution_count": 129,
      "outputs": []
    },
    {
      "cell_type": "markdown",
      "source": [
        "##Pré Análise"
      ],
      "metadata": {
        "id": "S5reJw3bxWbI"
      }
    },
    {
      "cell_type": "code",
      "source": [
        "df"
      ],
      "metadata": {
        "colab": {
          "base_uri": "https://localhost:8080/",
          "height": 424
        },
        "id": "S2F2BppI4CR_",
        "outputId": "fa38cb93-cb07-40cf-dc0d-0ea437af2646"
      },
      "execution_count": 149,
      "outputs": [
        {
          "output_type": "execute_result",
          "data": {
            "text/plain": [
              "      codigo_ocorrencia    classificacao              cidade  uf    pais  \\\n",
              "0                 81027  INCIDENTE GRAVE           SÃO PAULO  SP  BRASIL   \n",
              "1                 81030        INCIDENTE             VITÓRIA  ES  BRASIL   \n",
              "2                 81023  INCIDENTE GRAVE           AMERICANA  SP  BRASIL   \n",
              "3                 81029        INCIDENTE      BELO HORIZONTE  MG  BRASIL   \n",
              "4                 81025        INCIDENTE              MANAUS  AM  BRASIL   \n",
              "...                 ...              ...                 ...  ..     ...   \n",
              "6764              40324        INCIDENTE             PELOTAS  RS  BRASIL   \n",
              "6765              39527         ACIDENTE  LUCAS DO RIO VERDE  MT  BRASIL   \n",
              "6766              40211        INCIDENTE      RIO DE JANEIRO  RJ  BRASIL   \n",
              "6767              40349        INCIDENTE               BELÉM  PA  BRASIL   \n",
              "6768              40351        INCIDENTE      RIO DE JANEIRO  RJ  BRASIL   \n",
              "\n",
              "     aerodromo  total_recomendacoes  n_aeronaves saida_pista  \\\n",
              "0         SBSP                    0            1         SIM   \n",
              "1         SBVT                    0            1         NÃO   \n",
              "2         SDAI                    0            1         SIM   \n",
              "3         SBBH                    0            1         NÃO   \n",
              "4         SBEG                    0            1         NÃO   \n",
              "...        ...                  ...          ...         ...   \n",
              "6764      SBPK                    0            1         NÃO   \n",
              "6765       NaN                    0            1         NÃO   \n",
              "6766       NaN                    0            1         NÃO   \n",
              "6767      SBBE                    0            1         NÃO   \n",
              "6768      SBRJ                    0            1         NÃO   \n",
              "\n",
              "                 periodo  \n",
              "0    2022-10-09 16:30:00  \n",
              "1    2022-10-09 16:20:00  \n",
              "2    2022-10-06 15:30:00  \n",
              "3    2022-10-06 00:44:00  \n",
              "4    2022-10-05 20:56:00  \n",
              "...                  ...  \n",
              "6764 2010-01-05 19:25:00  \n",
              "6765 2010-01-04 17:30:00  \n",
              "6766 2010-01-03 12:00:00  \n",
              "6767 2010-01-03 11:05:00  \n",
              "6768 2010-01-03 03:00:00  \n",
              "\n",
              "[6769 rows x 10 columns]"
            ],
            "text/html": [
              "\n",
              "  <div id=\"df-d3c6a9bd-5ef2-4da0-84b0-b0cfb6c18f9d\">\n",
              "    <div class=\"colab-df-container\">\n",
              "      <div>\n",
              "<style scoped>\n",
              "    .dataframe tbody tr th:only-of-type {\n",
              "        vertical-align: middle;\n",
              "    }\n",
              "\n",
              "    .dataframe tbody tr th {\n",
              "        vertical-align: top;\n",
              "    }\n",
              "\n",
              "    .dataframe thead th {\n",
              "        text-align: right;\n",
              "    }\n",
              "</style>\n",
              "<table border=\"1\" class=\"dataframe\">\n",
              "  <thead>\n",
              "    <tr style=\"text-align: right;\">\n",
              "      <th></th>\n",
              "      <th>codigo_ocorrencia</th>\n",
              "      <th>classificacao</th>\n",
              "      <th>cidade</th>\n",
              "      <th>uf</th>\n",
              "      <th>pais</th>\n",
              "      <th>aerodromo</th>\n",
              "      <th>total_recomendacoes</th>\n",
              "      <th>n_aeronaves</th>\n",
              "      <th>saida_pista</th>\n",
              "      <th>periodo</th>\n",
              "    </tr>\n",
              "  </thead>\n",
              "  <tbody>\n",
              "    <tr>\n",
              "      <th>0</th>\n",
              "      <td>81027</td>\n",
              "      <td>INCIDENTE GRAVE</td>\n",
              "      <td>SÃO PAULO</td>\n",
              "      <td>SP</td>\n",
              "      <td>BRASIL</td>\n",
              "      <td>SBSP</td>\n",
              "      <td>0</td>\n",
              "      <td>1</td>\n",
              "      <td>SIM</td>\n",
              "      <td>2022-10-09 16:30:00</td>\n",
              "    </tr>\n",
              "    <tr>\n",
              "      <th>1</th>\n",
              "      <td>81030</td>\n",
              "      <td>INCIDENTE</td>\n",
              "      <td>VITÓRIA</td>\n",
              "      <td>ES</td>\n",
              "      <td>BRASIL</td>\n",
              "      <td>SBVT</td>\n",
              "      <td>0</td>\n",
              "      <td>1</td>\n",
              "      <td>NÃO</td>\n",
              "      <td>2022-10-09 16:20:00</td>\n",
              "    </tr>\n",
              "    <tr>\n",
              "      <th>2</th>\n",
              "      <td>81023</td>\n",
              "      <td>INCIDENTE GRAVE</td>\n",
              "      <td>AMERICANA</td>\n",
              "      <td>SP</td>\n",
              "      <td>BRASIL</td>\n",
              "      <td>SDAI</td>\n",
              "      <td>0</td>\n",
              "      <td>1</td>\n",
              "      <td>SIM</td>\n",
              "      <td>2022-10-06 15:30:00</td>\n",
              "    </tr>\n",
              "    <tr>\n",
              "      <th>3</th>\n",
              "      <td>81029</td>\n",
              "      <td>INCIDENTE</td>\n",
              "      <td>BELO HORIZONTE</td>\n",
              "      <td>MG</td>\n",
              "      <td>BRASIL</td>\n",
              "      <td>SBBH</td>\n",
              "      <td>0</td>\n",
              "      <td>1</td>\n",
              "      <td>NÃO</td>\n",
              "      <td>2022-10-06 00:44:00</td>\n",
              "    </tr>\n",
              "    <tr>\n",
              "      <th>4</th>\n",
              "      <td>81025</td>\n",
              "      <td>INCIDENTE</td>\n",
              "      <td>MANAUS</td>\n",
              "      <td>AM</td>\n",
              "      <td>BRASIL</td>\n",
              "      <td>SBEG</td>\n",
              "      <td>0</td>\n",
              "      <td>1</td>\n",
              "      <td>NÃO</td>\n",
              "      <td>2022-10-05 20:56:00</td>\n",
              "    </tr>\n",
              "    <tr>\n",
              "      <th>...</th>\n",
              "      <td>...</td>\n",
              "      <td>...</td>\n",
              "      <td>...</td>\n",
              "      <td>...</td>\n",
              "      <td>...</td>\n",
              "      <td>...</td>\n",
              "      <td>...</td>\n",
              "      <td>...</td>\n",
              "      <td>...</td>\n",
              "      <td>...</td>\n",
              "    </tr>\n",
              "    <tr>\n",
              "      <th>6764</th>\n",
              "      <td>40324</td>\n",
              "      <td>INCIDENTE</td>\n",
              "      <td>PELOTAS</td>\n",
              "      <td>RS</td>\n",
              "      <td>BRASIL</td>\n",
              "      <td>SBPK</td>\n",
              "      <td>0</td>\n",
              "      <td>1</td>\n",
              "      <td>NÃO</td>\n",
              "      <td>2010-01-05 19:25:00</td>\n",
              "    </tr>\n",
              "    <tr>\n",
              "      <th>6765</th>\n",
              "      <td>39527</td>\n",
              "      <td>ACIDENTE</td>\n",
              "      <td>LUCAS DO RIO VERDE</td>\n",
              "      <td>MT</td>\n",
              "      <td>BRASIL</td>\n",
              "      <td>NaN</td>\n",
              "      <td>0</td>\n",
              "      <td>1</td>\n",
              "      <td>NÃO</td>\n",
              "      <td>2010-01-04 17:30:00</td>\n",
              "    </tr>\n",
              "    <tr>\n",
              "      <th>6766</th>\n",
              "      <td>40211</td>\n",
              "      <td>INCIDENTE</td>\n",
              "      <td>RIO DE JANEIRO</td>\n",
              "      <td>RJ</td>\n",
              "      <td>BRASIL</td>\n",
              "      <td>NaN</td>\n",
              "      <td>0</td>\n",
              "      <td>1</td>\n",
              "      <td>NÃO</td>\n",
              "      <td>2010-01-03 12:00:00</td>\n",
              "    </tr>\n",
              "    <tr>\n",
              "      <th>6767</th>\n",
              "      <td>40349</td>\n",
              "      <td>INCIDENTE</td>\n",
              "      <td>BELÉM</td>\n",
              "      <td>PA</td>\n",
              "      <td>BRASIL</td>\n",
              "      <td>SBBE</td>\n",
              "      <td>0</td>\n",
              "      <td>1</td>\n",
              "      <td>NÃO</td>\n",
              "      <td>2010-01-03 11:05:00</td>\n",
              "    </tr>\n",
              "    <tr>\n",
              "      <th>6768</th>\n",
              "      <td>40351</td>\n",
              "      <td>INCIDENTE</td>\n",
              "      <td>RIO DE JANEIRO</td>\n",
              "      <td>RJ</td>\n",
              "      <td>BRASIL</td>\n",
              "      <td>SBRJ</td>\n",
              "      <td>0</td>\n",
              "      <td>1</td>\n",
              "      <td>NÃO</td>\n",
              "      <td>2010-01-03 03:00:00</td>\n",
              "    </tr>\n",
              "  </tbody>\n",
              "</table>\n",
              "<p>6769 rows × 10 columns</p>\n",
              "</div>\n",
              "      <button class=\"colab-df-convert\" onclick=\"convertToInteractive('df-d3c6a9bd-5ef2-4da0-84b0-b0cfb6c18f9d')\"\n",
              "              title=\"Convert this dataframe to an interactive table.\"\n",
              "              style=\"display:none;\">\n",
              "        \n",
              "  <svg xmlns=\"http://www.w3.org/2000/svg\" height=\"24px\"viewBox=\"0 0 24 24\"\n",
              "       width=\"24px\">\n",
              "    <path d=\"M0 0h24v24H0V0z\" fill=\"none\"/>\n",
              "    <path d=\"M18.56 5.44l.94 2.06.94-2.06 2.06-.94-2.06-.94-.94-2.06-.94 2.06-2.06.94zm-11 1L8.5 8.5l.94-2.06 2.06-.94-2.06-.94L8.5 2.5l-.94 2.06-2.06.94zm10 10l.94 2.06.94-2.06 2.06-.94-2.06-.94-.94-2.06-.94 2.06-2.06.94z\"/><path d=\"M17.41 7.96l-1.37-1.37c-.4-.4-.92-.59-1.43-.59-.52 0-1.04.2-1.43.59L10.3 9.45l-7.72 7.72c-.78.78-.78 2.05 0 2.83L4 21.41c.39.39.9.59 1.41.59.51 0 1.02-.2 1.41-.59l7.78-7.78 2.81-2.81c.8-.78.8-2.07 0-2.86zM5.41 20L4 18.59l7.72-7.72 1.47 1.35L5.41 20z\"/>\n",
              "  </svg>\n",
              "      </button>\n",
              "      \n",
              "  <style>\n",
              "    .colab-df-container {\n",
              "      display:flex;\n",
              "      flex-wrap:wrap;\n",
              "      gap: 12px;\n",
              "    }\n",
              "\n",
              "    .colab-df-convert {\n",
              "      background-color: #E8F0FE;\n",
              "      border: none;\n",
              "      border-radius: 50%;\n",
              "      cursor: pointer;\n",
              "      display: none;\n",
              "      fill: #1967D2;\n",
              "      height: 32px;\n",
              "      padding: 0 0 0 0;\n",
              "      width: 32px;\n",
              "    }\n",
              "\n",
              "    .colab-df-convert:hover {\n",
              "      background-color: #E2EBFA;\n",
              "      box-shadow: 0px 1px 2px rgba(60, 64, 67, 0.3), 0px 1px 3px 1px rgba(60, 64, 67, 0.15);\n",
              "      fill: #174EA6;\n",
              "    }\n",
              "\n",
              "    [theme=dark] .colab-df-convert {\n",
              "      background-color: #3B4455;\n",
              "      fill: #D2E3FC;\n",
              "    }\n",
              "\n",
              "    [theme=dark] .colab-df-convert:hover {\n",
              "      background-color: #434B5C;\n",
              "      box-shadow: 0px 1px 3px 1px rgba(0, 0, 0, 0.15);\n",
              "      filter: drop-shadow(0px 1px 2px rgba(0, 0, 0, 0.3));\n",
              "      fill: #FFFFFF;\n",
              "    }\n",
              "  </style>\n",
              "\n",
              "      <script>\n",
              "        const buttonEl =\n",
              "          document.querySelector('#df-d3c6a9bd-5ef2-4da0-84b0-b0cfb6c18f9d button.colab-df-convert');\n",
              "        buttonEl.style.display =\n",
              "          google.colab.kernel.accessAllowed ? 'block' : 'none';\n",
              "\n",
              "        async function convertToInteractive(key) {\n",
              "          const element = document.querySelector('#df-d3c6a9bd-5ef2-4da0-84b0-b0cfb6c18f9d');\n",
              "          const dataTable =\n",
              "            await google.colab.kernel.invokeFunction('convertToInteractive',\n",
              "                                                     [key], {});\n",
              "          if (!dataTable) return;\n",
              "\n",
              "          const docLinkHtml = 'Like what you see? Visit the ' +\n",
              "            '<a target=\"_blank\" href=https://colab.research.google.com/notebooks/data_table.ipynb>data table notebook</a>'\n",
              "            + ' to learn more about interactive tables.';\n",
              "          element.innerHTML = '';\n",
              "          dataTable['output_type'] = 'display_data';\n",
              "          await google.colab.output.renderOutput(dataTable, element);\n",
              "          const docLink = document.createElement('div');\n",
              "          docLink.innerHTML = docLinkHtml;\n",
              "          element.appendChild(docLink);\n",
              "        }\n",
              "      </script>\n",
              "    </div>\n",
              "  </div>\n",
              "  "
            ]
          },
          "metadata": {},
          "execution_count": 149
        }
      ]
    },
    {
      "cell_type": "code",
      "source": [
        "df.dtypes"
      ],
      "metadata": {
        "id": "XMUhMzapFf3V",
        "colab": {
          "base_uri": "https://localhost:8080/"
        },
        "outputId": "26e11195-6b96-43f7-8ce9-95e8b342a9b2"
      },
      "execution_count": 71,
      "outputs": [
        {
          "output_type": "execute_result",
          "data": {
            "text/plain": [
              "codigo_ocorrencia               int64\n",
              "classificacao                  object\n",
              "cidade                         object\n",
              "uf                             object\n",
              "pais                           object\n",
              "aerodromo                      object\n",
              "total_recomendacoes             int64\n",
              "n_aeronaves                     int64\n",
              "saida_pista                    object\n",
              "periodo                datetime64[ns]\n",
              "dtype: object"
            ]
          },
          "metadata": {},
          "execution_count": 71
        }
      ]
    },
    {
      "cell_type": "markdown",
      "source": [
        "##Tranformações (Limpeza, conversão , etc)"
      ],
      "metadata": {
        "id": "iSmp3WiJEi1t"
      }
    },
    {
      "cell_type": "code",
      "source": [
        "#Backup local(M.RAM) do df\n",
        "dfback = df.copy()"
      ],
      "metadata": {
        "id": "UJNijITLTsSZ"
      },
      "execution_count": 56,
      "outputs": []
    },
    {
      "cell_type": "code",
      "source": [
        "#Renomeando colunas\n",
        "df.rename(columns={'ocorrencia_classificacao':'classificacao','ocorrencia_cidade':'cidade','ocorrencia_uf':'uf','ocorrencia_pais':'pais'},inplace=True)\n",
        "df.rename(columns={'ocorrencia_aerodromo':'aerodromo','ocorrencia_dia':'data','ocorrencia_hora':'horario','total_aeronaves_envolvidas':'n_aeronaves','ocorrencia_saida_pista':'saida_pista'},inplace=True)"
      ],
      "metadata": {
        "id": "zBWu15r-E1dZ"
      },
      "execution_count": 131,
      "outputs": []
    },
    {
      "cell_type": "code",
      "source": [
        "#Converter coluna data para string\n",
        "df['data'] = df['data'].astype(str)"
      ],
      "metadata": {
        "id": "pJ5930wNFNOS"
      },
      "execution_count": 132,
      "outputs": []
    },
    {
      "cell_type": "code",
      "source": [
        "#Criar coluna periodo (data + horario)\n",
        "df['periodo'] = pd.to_datetime(df['data']+' '+df['horario'])"
      ],
      "metadata": {
        "id": "zR8g8CMXFPkn"
      },
      "execution_count": 133,
      "outputs": []
    },
    {
      "cell_type": "code",
      "source": [
        "# Drop de colunas identicas ( codigo_ocorrencia1 , codigo_ocorrencia2,codigo_ocorrencia3 , codigo_ocorrencia4)\n",
        "df.drop(['codigo_ocorrencia1','codigo_ocorrencia2','codigo_ocorrencia3','codigo_ocorrencia4'],axis=1,inplace=True)\n",
        "# Drop de colunas com problemas e/ou não utilizadas na análise\n",
        "df.drop(['ocorrencia_latitude','ocorrencia_longitude','investigacao_aeronave_liberada','investigacao_status','divulgacao_relatorio_numero','divulgacao_relatorio_publicado','divulgacao_dia_publicacao'],axis=1,inplace=True)"
      ],
      "metadata": {
        "id": "4vACDQpnEm3T"
      },
      "execution_count": 134,
      "outputs": []
    },
    {
      "cell_type": "code",
      "source": [
        "df.drop(['data','horario'],axis=1,inplace=True)# Drop de colunas com problemas e/ou não utilizadas na análise"
      ],
      "metadata": {
        "id": "xwaEe5R9EyQX"
      },
      "execution_count": 135,
      "outputs": []
    },
    {
      "cell_type": "code",
      "source": [
        "df.head(3)"
      ],
      "metadata": {
        "colab": {
          "base_uri": "https://localhost:8080/",
          "height": 143
        },
        "id": "kIANe9TWGsZI",
        "outputId": "e84b1944-6471-407f-92d1-f27c23253c9f"
      },
      "execution_count": 136,
      "outputs": [
        {
          "output_type": "execute_result",
          "data": {
            "text/plain": [
              "   codigo_ocorrencia    classificacao     cidade  uf    pais aerodromo  \\\n",
              "0              81027  INCIDENTE GRAVE  SÃO PAULO  SP  BRASIL      SBSP   \n",
              "1              81030        INCIDENTE    VITÓRIA  ES  BRASIL      SBVT   \n",
              "2              81023  INCIDENTE GRAVE  AMERICANA  SP  BRASIL      SDAI   \n",
              "\n",
              "   total_recomendacoes  n_aeronaves saida_pista             periodo  \n",
              "0                    0            1         SIM 2022-10-09 16:30:00  \n",
              "1                    0            1         NÃO 2022-10-09 16:20:00  \n",
              "2                    0            1         SIM 2022-10-06 15:30:00  "
            ],
            "text/html": [
              "\n",
              "  <div id=\"df-540c62cf-75f5-4054-8e57-e2bf84975e69\">\n",
              "    <div class=\"colab-df-container\">\n",
              "      <div>\n",
              "<style scoped>\n",
              "    .dataframe tbody tr th:only-of-type {\n",
              "        vertical-align: middle;\n",
              "    }\n",
              "\n",
              "    .dataframe tbody tr th {\n",
              "        vertical-align: top;\n",
              "    }\n",
              "\n",
              "    .dataframe thead th {\n",
              "        text-align: right;\n",
              "    }\n",
              "</style>\n",
              "<table border=\"1\" class=\"dataframe\">\n",
              "  <thead>\n",
              "    <tr style=\"text-align: right;\">\n",
              "      <th></th>\n",
              "      <th>codigo_ocorrencia</th>\n",
              "      <th>classificacao</th>\n",
              "      <th>cidade</th>\n",
              "      <th>uf</th>\n",
              "      <th>pais</th>\n",
              "      <th>aerodromo</th>\n",
              "      <th>total_recomendacoes</th>\n",
              "      <th>n_aeronaves</th>\n",
              "      <th>saida_pista</th>\n",
              "      <th>periodo</th>\n",
              "    </tr>\n",
              "  </thead>\n",
              "  <tbody>\n",
              "    <tr>\n",
              "      <th>0</th>\n",
              "      <td>81027</td>\n",
              "      <td>INCIDENTE GRAVE</td>\n",
              "      <td>SÃO PAULO</td>\n",
              "      <td>SP</td>\n",
              "      <td>BRASIL</td>\n",
              "      <td>SBSP</td>\n",
              "      <td>0</td>\n",
              "      <td>1</td>\n",
              "      <td>SIM</td>\n",
              "      <td>2022-10-09 16:30:00</td>\n",
              "    </tr>\n",
              "    <tr>\n",
              "      <th>1</th>\n",
              "      <td>81030</td>\n",
              "      <td>INCIDENTE</td>\n",
              "      <td>VITÓRIA</td>\n",
              "      <td>ES</td>\n",
              "      <td>BRASIL</td>\n",
              "      <td>SBVT</td>\n",
              "      <td>0</td>\n",
              "      <td>1</td>\n",
              "      <td>NÃO</td>\n",
              "      <td>2022-10-09 16:20:00</td>\n",
              "    </tr>\n",
              "    <tr>\n",
              "      <th>2</th>\n",
              "      <td>81023</td>\n",
              "      <td>INCIDENTE GRAVE</td>\n",
              "      <td>AMERICANA</td>\n",
              "      <td>SP</td>\n",
              "      <td>BRASIL</td>\n",
              "      <td>SDAI</td>\n",
              "      <td>0</td>\n",
              "      <td>1</td>\n",
              "      <td>SIM</td>\n",
              "      <td>2022-10-06 15:30:00</td>\n",
              "    </tr>\n",
              "  </tbody>\n",
              "</table>\n",
              "</div>\n",
              "      <button class=\"colab-df-convert\" onclick=\"convertToInteractive('df-540c62cf-75f5-4054-8e57-e2bf84975e69')\"\n",
              "              title=\"Convert this dataframe to an interactive table.\"\n",
              "              style=\"display:none;\">\n",
              "        \n",
              "  <svg xmlns=\"http://www.w3.org/2000/svg\" height=\"24px\"viewBox=\"0 0 24 24\"\n",
              "       width=\"24px\">\n",
              "    <path d=\"M0 0h24v24H0V0z\" fill=\"none\"/>\n",
              "    <path d=\"M18.56 5.44l.94 2.06.94-2.06 2.06-.94-2.06-.94-.94-2.06-.94 2.06-2.06.94zm-11 1L8.5 8.5l.94-2.06 2.06-.94-2.06-.94L8.5 2.5l-.94 2.06-2.06.94zm10 10l.94 2.06.94-2.06 2.06-.94-2.06-.94-.94-2.06-.94 2.06-2.06.94z\"/><path d=\"M17.41 7.96l-1.37-1.37c-.4-.4-.92-.59-1.43-.59-.52 0-1.04.2-1.43.59L10.3 9.45l-7.72 7.72c-.78.78-.78 2.05 0 2.83L4 21.41c.39.39.9.59 1.41.59.51 0 1.02-.2 1.41-.59l7.78-7.78 2.81-2.81c.8-.78.8-2.07 0-2.86zM5.41 20L4 18.59l7.72-7.72 1.47 1.35L5.41 20z\"/>\n",
              "  </svg>\n",
              "      </button>\n",
              "      \n",
              "  <style>\n",
              "    .colab-df-container {\n",
              "      display:flex;\n",
              "      flex-wrap:wrap;\n",
              "      gap: 12px;\n",
              "    }\n",
              "\n",
              "    .colab-df-convert {\n",
              "      background-color: #E8F0FE;\n",
              "      border: none;\n",
              "      border-radius: 50%;\n",
              "      cursor: pointer;\n",
              "      display: none;\n",
              "      fill: #1967D2;\n",
              "      height: 32px;\n",
              "      padding: 0 0 0 0;\n",
              "      width: 32px;\n",
              "    }\n",
              "\n",
              "    .colab-df-convert:hover {\n",
              "      background-color: #E2EBFA;\n",
              "      box-shadow: 0px 1px 2px rgba(60, 64, 67, 0.3), 0px 1px 3px 1px rgba(60, 64, 67, 0.15);\n",
              "      fill: #174EA6;\n",
              "    }\n",
              "\n",
              "    [theme=dark] .colab-df-convert {\n",
              "      background-color: #3B4455;\n",
              "      fill: #D2E3FC;\n",
              "    }\n",
              "\n",
              "    [theme=dark] .colab-df-convert:hover {\n",
              "      background-color: #434B5C;\n",
              "      box-shadow: 0px 1px 3px 1px rgba(0, 0, 0, 0.15);\n",
              "      filter: drop-shadow(0px 1px 2px rgba(0, 0, 0, 0.3));\n",
              "      fill: #FFFFFF;\n",
              "    }\n",
              "  </style>\n",
              "\n",
              "      <script>\n",
              "        const buttonEl =\n",
              "          document.querySelector('#df-540c62cf-75f5-4054-8e57-e2bf84975e69 button.colab-df-convert');\n",
              "        buttonEl.style.display =\n",
              "          google.colab.kernel.accessAllowed ? 'block' : 'none';\n",
              "\n",
              "        async function convertToInteractive(key) {\n",
              "          const element = document.querySelector('#df-540c62cf-75f5-4054-8e57-e2bf84975e69');\n",
              "          const dataTable =\n",
              "            await google.colab.kernel.invokeFunction('convertToInteractive',\n",
              "                                                     [key], {});\n",
              "          if (!dataTable) return;\n",
              "\n",
              "          const docLinkHtml = 'Like what you see? Visit the ' +\n",
              "            '<a target=\"_blank\" href=https://colab.research.google.com/notebooks/data_table.ipynb>data table notebook</a>'\n",
              "            + ' to learn more about interactive tables.';\n",
              "          element.innerHTML = '';\n",
              "          dataTable['output_type'] = 'display_data';\n",
              "          await google.colab.output.renderOutput(dataTable, element);\n",
              "          const docLink = document.createElement('div');\n",
              "          docLink.innerHTML = docLinkHtml;\n",
              "          element.appendChild(docLink);\n",
              "        }\n",
              "      </script>\n",
              "    </div>\n",
              "  </div>\n",
              "  "
            ]
          },
          "metadata": {},
          "execution_count": 136
        }
      ]
    },
    {
      "cell_type": "code",
      "source": [
        "df.dtypes#Verificando o tipos das colunas"
      ],
      "metadata": {
        "colab": {
          "base_uri": "https://localhost:8080/"
        },
        "id": "PqO-iBmEuIev",
        "outputId": "4aeabad1-c313-4975-8b9c-1b54d0747199"
      },
      "execution_count": 43,
      "outputs": [
        {
          "output_type": "execute_result",
          "data": {
            "text/plain": [
              "codigo_ocorrencia               int64\n",
              "classificacao                  object\n",
              "cidade                         object\n",
              "uf                             object\n",
              "pais                           object\n",
              "aerodromo                      object\n",
              "total_recomendacoes             int64\n",
              "n_aeronaves                     int64\n",
              "saida_pista                    object\n",
              "periodo                datetime64[ns]\n",
              "dtype: object"
            ]
          },
          "metadata": {},
          "execution_count": 43
        }
      ]
    },
    {
      "cell_type": "code",
      "source": [
        "#Visualiza valores unicos na coluna, verifica-se que contém '***', '**NI'\n",
        "pd.unique(df['aerodromo'])"
      ],
      "metadata": {
        "id": "bFSz7fcLE5At",
        "colab": {
          "base_uri": "https://localhost:8080/"
        },
        "outputId": "d162d882-5547-438e-b1c2-46d7dfce5365"
      },
      "execution_count": 63,
      "outputs": [
        {
          "output_type": "execute_result",
          "data": {
            "text/plain": [
              "array(['SBSP', 'SBVT', 'SDAI', 'SBBH', 'SBEG', '***', '**NI', 'SBNV',\n",
              "       'SBUL', 'SBAU', 'SBBP', 'SBTE', 'SBGR', 'SBMT', 'SBCT', 'SBCF',\n",
              "       'SIEK', 'SBRJ', 'SDLP', 'SWPD', 'SBMA', 'SNYP', 'SNHH', 'SBJF',\n",
              "       'SBCY', 'SBPS', 'SBMK', 'SBNF', 'SBTF', 'SSMK', 'SNAX', 'SBKP',\n",
              "       'SBFZ', 'SNPA', 'SBIZ', 'SNFX', 'SDRK', 'SBRF', 'SSBN', 'SBPR',\n",
              "       'SBSJ', 'SBST', 'SBGO', 'SDCO', 'SBSV', 'SBPJ', 'SBGL', 'SBRD',\n",
              "       'SBBE', 'SBCH', 'SBLO', 'SBPL', 'SWGW', 'SWLB', 'SBBU', 'SBMQ',\n",
              "       'SIPO', 'SIAN', 'SBJV', 'SNDC', 'SBBI', 'SBSC', 'SSKG', 'SBBR',\n",
              "       'SSBG', 'SBIL', 'SBPO', 'SDAM', 'SSOG', 'SBPV', 'SBSR', 'SBBV',\n",
              "       'SBSN', 'SBFI', 'SDFD', 'SJEH', 'SBSI', 'SWFN', 'SDIG', 'SNHS',\n",
              "       'SBJP', 'SBPA', 'SBJA', 'SBJR', 'SBRP', 'SISN', 'SBMO', 'SNRU',\n",
              "       'SNQV', 'SNCP', 'SDIH', 'SBTG', 'SIVU', 'SWMV', 'SIRI', 'SNIT',\n",
              "       'SBRB', 'SSPI', 'SWCA', 'SBJI', 'SBFL', 'SDRC', 'SNMH', 'SNBS',\n",
              "       'SWLW', 'SSOT', 'SNPO', 'SBCG', 'SBJD', 'SDEN', 'APUA', 'SDAG',\n",
              "       'SIUD', 'SDBB', 'SBMS', 'SDDR', 'SDVH', 'SSKK', 'SJVX', 'SBVH',\n",
              "       'SDRV', 'SBML', 'SSGP', 'SD6Y', 'SNJL', 'SDZS', 'SIBK', 'SNDV',\n",
              "       'SBJH', 'SBCZ', 'SSNH', 'SBMG', 'SSZR', 'SDAE', 'SSOL', 'SIFQ',\n",
              "       'SSWF', 'SBPP', 'SBAX', 'SJLJ', 'SDPW', 'SSFB', 'SBSG', 'SDTB',\n",
              "       'SSCE', 'SSBL', 'SNCT', 'SILQ', 'SSQZ', 'SILT', 'SBIH', 'SIFW',\n",
              "       'SBDN', 'SWHP', 'SNGW', 'SBPG', 'SJOG', 'SJPT', 'SWPI', 'SWNG',\n",
              "       'SSKT', 'SJNC', 'SBEK', 'SWON', 'SIZM', 'SWME', 'SJOD', 'SBCB',\n",
              "       'SDVG', 'SSPO', 'SBCR', 'SBCX', 'SSCD', 'SIXE', 'SNLM', 'SDIP',\n",
              "       'SBTV', 'SWNH', 'SSCL', 'SJBX', 'SNGA', 'SIMQ', 'SIQE', 'SWXV',\n",
              "       'SWXQ', '9PBS', 'SISY', 'SDLL', 'SNCJ', 'SBGP', 'SDUL', 'SIVB',\n",
              "       'SWNS', 'SDRS', 'SSNG', 'SBZM', 'SSRA', 'SWLC', 'SWTS', 'SWEN',\n",
              "       'SBNM', 'SBAT', 'SBMD', 'SJIJ', 'SBSL', 'SDAA', 'SBCP', 'SWRW',\n",
              "       'SWVW', 'SJYG', 'SBVG', 'SJGL', 'SSFE', 'SSIE', 'SJLY', 'SWEK',\n",
              "       'SSCK', 'SBGV', 'SNDT', 'SIMB', 'SNRP', 'SSXO', 'SSUL', '9PAA',\n",
              "       'SDCD', 'SNAS', 'SWEJ', 'SIFC', 'SSDK', 'SBJC', 'SBTT', 'SSKZ',\n",
              "       'SBCA', 'SWPY', 'SSOK', 'SDYJ', 'SWFR', '9PSD', 'SNAL', 'SDOI',\n",
              "       'SBGW', 'SDJA', 'SSSC', 'SWGI', 'SNPC', 'SDEM', 'SJIF', 'SSGG',\n",
              "       'SIVQ', 'SBIT', 'SDLY', 'SJVL', 'SDET', 'SBUY', 'SDJO', 'SNLF',\n",
              "       'SDIO', 'SDVO', 'SNIZ', 'SDVK', 'SIBO', 'SWFX', 'SSVA', 'SWMZ',\n",
              "       'SSER', 'SNEJ', 'SNQX', 'SDGR', 'SILC', 'SWUZ', 'SDSC', 'SBTA',\n",
              "       'SWEW', 'SBJU', 'SSGA', 'SDUB', 'SSCN', 'SSUB', 'SNWC', 'SWYV',\n",
              "       'SBLJ', 'SJBH', 'SBFS', 'SNJK', 'SNME', 'SWVC', 'SJNP', 'SNOF',\n",
              "       'SWFV', 'SDQG', 'SJBY', 'SNCV', 'SNBR', 'SJQN', 'SSRS', 'SWJP',\n",
              "       'SNMA', 'SSMW', 'SIJY', 'SNJR', 'SNGX', 'SNMD', 'SNDU', 'SDDN',\n",
              "       'SNJI', 'SDTK', 'SSMH', '9PHD', 'SDPA', 'SNGS', 'SBUR', 'SBPF',\n",
              "       'SIPB', 'SBLE', 'SNSH', 'SNDH', 'SWSI', 'SNPY', 'SSOS', 'SWEF',\n",
              "       'SJBM', 'SSGB', 'SDGX', 'SIXD', 'SNGQ', 'SWUV', 'SBAE', 'SBTR',\n",
              "       'SSZL', 'SJWQ', 'SNBA', 'SBPB', 'SNDP', 'SWPM', 'SDOW', 'SSNV',\n",
              "       'SWVI', 'SSGX', 'SNKH', 'SWVR', 'SDTF', 'SSKW', 'SWVZ', 'SNJO',\n",
              "       'SNTO', 'SJXM', 'SDNH', '5JTI', 'SNFS', 'SSFC', 'SWGN', 'SIBH',\n",
              "       'SJFM', 'SBQV', 'SDTO', 'SDKH', 'SDXF', 'SWGC', 'SWSL', 'SBAQ',\n",
              "       'SWLV', 'SNMU', 'SNPD', 'SWKT', 'SDEE', 'SWGL', 'SDNB', 'SWNK',\n",
              "       'SDNI', 'SSKM', 'SSJL', 'SJLU', 'SBCJ', 'SDIM', 'SJAH', 'SNNL',\n",
              "       'SWIN', '9PFX', 'SSBR', 'SBPC', 'SNZA', 'SJVO', 'SDLZ', 'SBSM',\n",
              "       'SSSE', 'SBHT', 'SIQH', 'SSLT', 'SWPQ', '9PFC', 'SWRZ', 'SNCX',\n",
              "       'SJNQ', 'SSSZ', 'SBME', 'SBAR', 'SDMJ', 'SNLO', 'SDVI', 'SNYR',\n",
              "       'SSPB', 'SSJA', 'SWJW', 'SING', 'SIQK', 'SD4V', 'SIFV', 'SBBQ',\n",
              "       'SSAK', 'SSQI', 'SNJN', 'SDPG', 'SDZX', 'SNPX', 'SNVS', 'SWIT',\n",
              "       'SNYS', 'SJLO', 'SWAQ', 'SDYF', 'SDBN', 'SBFE', 'SWQI', 'SIKC',\n",
              "       'SNSG', 'SDWU', 'SWPA', 'SSPV', 'SJDU', 'SWRD', 'SSSS', 'SWMO',\n",
              "       'SDJL', 'SDMH', 'SWRO', 'SDWC', 'SSJI', 'SNJD', 'SNOG', 'SNHB',\n",
              "       'SBPK', 'SWKO', 'SNKF', 'SIPY', 'SNVC', 'SDMM', 'SDVE', 'SWBE',\n",
              "       'SWMW', 'SDEH', 'SNXW', 'SJYR', 'SNCW', 'SSAU', 'SDJC', 'SBTD',\n",
              "       'SNHE', 'SBUA', 'SSAC', 'SNMX', 'SSCP', 'SSPX', 'SNBO', 'SDWV',\n",
              "       'SWEI', 'SBKG', 'SNFE', 'SDED', 'SDRE', 'SWUQ', 'SWBB', 'SIJG',\n",
              "       'SNAU', 'SSIJ', 'SBAN', 'SNTY', 'SNKK', 'SNPJ', 'SJRG', 'SBIP',\n",
              "       'SIFH', 'SDBK', 'SNVB', 'SSPQ', 'SDBA', 'SNUN', 'SSKS', 'SNXR',\n",
              "       'SNGG', 'SSIQ', 'SSPG', 'SNBG', 'SDTI', 'SWJN', 'SDYW', 'SBBW',\n",
              "       'SSPL', 'SDHP', 'SSCT', 'SBFN', 'SSDO', 'SSAY', 'SSAQ', 'SDJB',\n",
              "       'SDMC', 'SJCY', 'SJFU', 'SNKI', 'SSQT', 'SWOB', 'SDPY', 'SBMY',\n",
              "       'SDVL', 'SDPN', 'SSTL', 'SWGP', 'SION', 'SDHU', 'SWNB', 'SNXI',\n",
              "       'SSRZ', 'SDDQ', 'SSDP', 'SIPU', 'SNAG', 'SWCZ', 'SNEM', 'SDNE',\n",
              "       'SNGU', 'SNSW', 'SDMV', 'SNYE', 'SWYH', 'SNGV', 'SNKE', 'SSSB',\n",
              "       'SSHS', 'SNKB', 'SWUI', 'SSNB', 'SJHR', 'SNAZ', 'SBNT', 'SSCR',\n",
              "       'SNTF', 'SBBZ', 'SNOD', 'SNCL', 'SJTO', 'SDBV', 'SIRS', 'SJHG',\n",
              "       'SNDR', 'SIBX', 'SDOR', 'SWNO', 'SNIG', 'SWKC', 'SBTK', 'SSTH',\n",
              "       'SBUF', 'SNFJ', 'SDKE', 'SWDC', 'SDLO', 'SNWS', 'SSCF', 'SNXT',\n",
              "       'SSPS', 'SSVN', 'SNUZ', 'SBPN', 'SWOZ', 'SSUV', 'SNVR'],\n",
              "      dtype=object)"
            ]
          },
          "metadata": {},
          "execution_count": 63
        }
      ]
    },
    {
      "cell_type": "code",
      "source": [
        "df.replace(['***','**NI'],pd.NA,inplace=True) #Trocando '***','**NI' POR NA(nulos)"
      ],
      "metadata": {
        "id": "T82Yiay7_y1G"
      },
      "execution_count": 137,
      "outputs": []
    },
    {
      "cell_type": "code",
      "source": [
        "df.replace(pd.NA,np.NaN,inplace=True)#Trocando NA POR NAN(nulos)"
      ],
      "metadata": {
        "id": "G0-dWNchwksK"
      },
      "execution_count": 138,
      "outputs": []
    },
    {
      "cell_type": "code",
      "source": [
        "#Visualiza valores unicos na coluna, verifica-se que contém nan no lugar de: '***', '**NI'\n",
        "pd.unique(df['aerodromo'])"
      ],
      "metadata": {
        "colab": {
          "base_uri": "https://localhost:8080/"
        },
        "id": "qCtz8AoWu5oq",
        "outputId": "b69b45d1-673e-4ee1-d056-6ce31103b4e6"
      },
      "execution_count": 139,
      "outputs": [
        {
          "output_type": "execute_result",
          "data": {
            "text/plain": [
              "array(['SBSP', 'SBVT', 'SDAI', 'SBBH', 'SBEG', nan, 'SBNV', 'SBUL',\n",
              "       'SBAU', 'SBBP', 'SBTE', 'SBGR', 'SBMT', 'SBCT', 'SBCF', 'SIEK',\n",
              "       'SBRJ', 'SDLP', 'SWPD', 'SBMA', 'SNYP', 'SNHH', 'SBJF', 'SBCY',\n",
              "       'SBPS', 'SBMK', 'SBNF', 'SBTF', 'SSMK', 'SNAX', 'SBKP', 'SBFZ',\n",
              "       'SNPA', 'SBIZ', 'SNFX', 'SDRK', 'SBRF', 'SSBN', 'SBPR', 'SBSJ',\n",
              "       'SBST', 'SBGO', 'SDCO', 'SBSV', 'SBPJ', 'SBGL', 'SBRD', 'SBBE',\n",
              "       'SBCH', 'SBLO', 'SBPL', 'SWGW', 'SWLB', 'SBBU', 'SBMQ', 'SIPO',\n",
              "       'SIAN', 'SBJV', 'SNDC', 'SBBI', 'SBSC', 'SSKG', 'SBBR', 'SSBG',\n",
              "       'SBIL', 'SBPO', 'SDAM', 'SSOG', 'SBPV', 'SBSR', 'SBBV', 'SBSN',\n",
              "       'SBFI', 'SDFD', 'SJEH', 'SBSI', 'SWFN', 'SDIG', 'SNHS', 'SBJP',\n",
              "       'SBPA', 'SBJA', 'SBJR', 'SBRP', 'SISN', 'SBMO', 'SNRU', 'SNQV',\n",
              "       'SNCP', 'SDIH', 'SBTG', 'SIVU', 'SWMV', 'SIRI', 'SNIT', 'SBRB',\n",
              "       'SSPI', 'SWCA', 'SBJI', 'SBFL', 'SDRC', 'SNMH', 'SNBS', 'SWLW',\n",
              "       'SSOT', 'SNPO', 'SBCG', 'SBJD', 'SDEN', 'APUA', 'SDAG', 'SIUD',\n",
              "       'SDBB', 'SBMS', 'SDDR', 'SDVH', 'SSKK', 'SJVX', 'SBVH', 'SDRV',\n",
              "       'SBML', 'SSGP', 'SD6Y', 'SNJL', 'SDZS', 'SIBK', 'SNDV', 'SBJH',\n",
              "       'SBCZ', 'SSNH', 'SBMG', 'SSZR', 'SDAE', 'SSOL', 'SIFQ', 'SSWF',\n",
              "       'SBPP', 'SBAX', 'SJLJ', 'SDPW', 'SSFB', 'SBSG', 'SDTB', 'SSCE',\n",
              "       'SSBL', 'SNCT', 'SILQ', 'SSQZ', 'SILT', 'SBIH', 'SIFW', 'SBDN',\n",
              "       'SWHP', 'SNGW', 'SBPG', 'SJOG', 'SJPT', 'SWPI', 'SWNG', 'SSKT',\n",
              "       'SJNC', 'SBEK', 'SWON', 'SIZM', 'SWME', 'SJOD', 'SBCB', 'SDVG',\n",
              "       'SSPO', 'SBCR', 'SBCX', 'SSCD', 'SIXE', 'SNLM', 'SDIP', 'SBTV',\n",
              "       'SWNH', 'SSCL', 'SJBX', 'SNGA', 'SIMQ', 'SIQE', 'SWXV', 'SWXQ',\n",
              "       '9PBS', 'SISY', 'SDLL', 'SNCJ', 'SBGP', 'SDUL', 'SIVB', 'SWNS',\n",
              "       'SDRS', 'SSNG', 'SBZM', 'SSRA', 'SWLC', 'SWTS', 'SWEN', 'SBNM',\n",
              "       'SBAT', 'SBMD', 'SJIJ', 'SBSL', 'SDAA', 'SBCP', 'SWRW', 'SWVW',\n",
              "       'SJYG', 'SBVG', 'SJGL', 'SSFE', 'SSIE', 'SJLY', 'SWEK', 'SSCK',\n",
              "       'SBGV', 'SNDT', 'SIMB', 'SNRP', 'SSXO', 'SSUL', '9PAA', 'SDCD',\n",
              "       'SNAS', 'SWEJ', 'SIFC', 'SSDK', 'SBJC', 'SBTT', 'SSKZ', 'SBCA',\n",
              "       'SWPY', 'SSOK', 'SDYJ', 'SWFR', '9PSD', 'SNAL', 'SDOI', 'SBGW',\n",
              "       'SDJA', 'SSSC', 'SWGI', 'SNPC', 'SDEM', 'SJIF', 'SSGG', 'SIVQ',\n",
              "       'SBIT', 'SDLY', 'SJVL', 'SDET', 'SBUY', 'SDJO', 'SNLF', 'SDIO',\n",
              "       'SDVO', 'SNIZ', 'SDVK', 'SIBO', 'SWFX', 'SSVA', 'SWMZ', 'SSER',\n",
              "       'SNEJ', 'SNQX', 'SDGR', 'SILC', 'SWUZ', 'SDSC', 'SBTA', 'SWEW',\n",
              "       'SBJU', 'SSGA', 'SDUB', 'SSCN', 'SSUB', 'SNWC', 'SWYV', 'SBLJ',\n",
              "       'SJBH', 'SBFS', 'SNJK', 'SNME', 'SWVC', 'SJNP', 'SNOF', 'SWFV',\n",
              "       'SDQG', 'SJBY', 'SNCV', 'SNBR', 'SJQN', 'SSRS', 'SWJP', 'SNMA',\n",
              "       'SSMW', 'SIJY', 'SNJR', 'SNGX', 'SNMD', 'SNDU', 'SDDN', 'SNJI',\n",
              "       'SDTK', 'SSMH', '9PHD', 'SDPA', 'SNGS', 'SBUR', 'SBPF', 'SIPB',\n",
              "       'SBLE', 'SNSH', 'SNDH', 'SWSI', 'SNPY', 'SSOS', 'SWEF', 'SJBM',\n",
              "       'SSGB', 'SDGX', 'SIXD', 'SNGQ', 'SWUV', 'SBAE', 'SBTR', 'SSZL',\n",
              "       'SJWQ', 'SNBA', 'SBPB', 'SNDP', 'SWPM', 'SDOW', 'SSNV', 'SWVI',\n",
              "       'SSGX', 'SNKH', 'SWVR', 'SDTF', 'SSKW', 'SWVZ', 'SNJO', 'SNTO',\n",
              "       'SJXM', 'SDNH', '5JTI', 'SNFS', 'SSFC', 'SWGN', 'SIBH', 'SJFM',\n",
              "       'SBQV', 'SDTO', 'SDKH', 'SDXF', 'SWGC', 'SWSL', 'SBAQ', 'SWLV',\n",
              "       'SNMU', 'SNPD', 'SWKT', 'SDEE', 'SWGL', 'SDNB', 'SWNK', 'SDNI',\n",
              "       'SSKM', 'SSJL', 'SJLU', 'SBCJ', 'SDIM', 'SJAH', 'SNNL', 'SWIN',\n",
              "       '9PFX', 'SSBR', 'SBPC', 'SNZA', 'SJVO', 'SDLZ', 'SBSM', 'SSSE',\n",
              "       'SBHT', 'SIQH', 'SSLT', 'SWPQ', '9PFC', 'SWRZ', 'SNCX', 'SJNQ',\n",
              "       'SSSZ', 'SBME', 'SBAR', 'SDMJ', 'SNLO', 'SDVI', 'SNYR', 'SSPB',\n",
              "       'SSJA', 'SWJW', 'SING', 'SIQK', 'SD4V', 'SIFV', 'SBBQ', 'SSAK',\n",
              "       'SSQI', 'SNJN', 'SDPG', 'SDZX', 'SNPX', 'SNVS', 'SWIT', 'SNYS',\n",
              "       'SJLO', 'SWAQ', 'SDYF', 'SDBN', 'SBFE', 'SWQI', 'SIKC', 'SNSG',\n",
              "       'SDWU', 'SWPA', 'SSPV', 'SJDU', 'SWRD', 'SSSS', 'SWMO', 'SDJL',\n",
              "       'SDMH', 'SWRO', 'SDWC', 'SSJI', 'SNJD', 'SNOG', 'SNHB', 'SBPK',\n",
              "       'SWKO', 'SNKF', 'SIPY', 'SNVC', 'SDMM', 'SDVE', 'SWBE', 'SWMW',\n",
              "       'SDEH', 'SNXW', 'SJYR', 'SNCW', 'SSAU', 'SDJC', 'SBTD', 'SNHE',\n",
              "       'SBUA', 'SSAC', 'SNMX', 'SSCP', 'SSPX', 'SNBO', 'SDWV', 'SWEI',\n",
              "       'SBKG', 'SNFE', 'SDED', 'SDRE', 'SWUQ', 'SWBB', 'SIJG', 'SNAU',\n",
              "       'SSIJ', 'SBAN', 'SNTY', 'SNKK', 'SNPJ', 'SJRG', 'SBIP', 'SIFH',\n",
              "       'SDBK', 'SNVB', 'SSPQ', 'SDBA', 'SNUN', 'SSKS', 'SNXR', 'SNGG',\n",
              "       'SSIQ', 'SSPG', 'SNBG', 'SDTI', 'SWJN', 'SDYW', 'SBBW', 'SSPL',\n",
              "       'SDHP', 'SSCT', 'SBFN', 'SSDO', 'SSAY', 'SSAQ', 'SDJB', 'SDMC',\n",
              "       'SJCY', 'SJFU', 'SNKI', 'SSQT', 'SWOB', 'SDPY', 'SBMY', 'SDVL',\n",
              "       'SDPN', 'SSTL', 'SWGP', 'SION', 'SDHU', 'SWNB', 'SNXI', 'SSRZ',\n",
              "       'SDDQ', 'SSDP', 'SIPU', 'SNAG', 'SWCZ', 'SNEM', 'SDNE', 'SNGU',\n",
              "       'SNSW', 'SDMV', 'SNYE', 'SWYH', 'SNGV', 'SNKE', 'SSSB', 'SSHS',\n",
              "       'SNKB', 'SWUI', 'SSNB', 'SJHR', 'SNAZ', 'SBNT', 'SSCR', 'SNTF',\n",
              "       'SBBZ', 'SNOD', 'SNCL', 'SJTO', 'SDBV', 'SIRS', 'SJHG', 'SNDR',\n",
              "       'SIBX', 'SDOR', 'SWNO', 'SNIG', 'SWKC', 'SBTK', 'SSTH', 'SBUF',\n",
              "       'SNFJ', 'SDKE', 'SWDC', 'SDLO', 'SNWS', 'SSCF', 'SNXT', 'SSPS',\n",
              "       'SSVN', 'SNUZ', 'SBPN', 'SWOZ', 'SSUV', 'SNVR'], dtype=object)"
            ]
          },
          "metadata": {},
          "execution_count": 139
        }
      ]
    },
    {
      "cell_type": "code",
      "source": [
        "#Verificando dados nulos , ausentes , etc\n",
        "df.isna().sum()"
      ],
      "metadata": {
        "id": "y0v3zgeUFSrl",
        "colab": {
          "base_uri": "https://localhost:8080/"
        },
        "outputId": "27143fe4-6ab3-4891-b6b0-d52bfc9a029a"
      },
      "execution_count": 49,
      "outputs": [
        {
          "output_type": "execute_result",
          "data": {
            "text/plain": [
              "codigo_ocorrencia         0\n",
              "classificacao             0\n",
              "cidade                    0\n",
              "uf                        4\n",
              "pais                      0\n",
              "aerodromo              2618\n",
              "total_recomendacoes       0\n",
              "n_aeronaves               0\n",
              "saida_pista               0\n",
              "periodo                   2\n",
              "dtype: int64"
            ]
          },
          "metadata": {},
          "execution_count": 49
        }
      ]
    },
    {
      "cell_type": "code",
      "source": [
        "df.count()#Verificando se todas as colunas estão preenchidas corretamente"
      ],
      "metadata": {
        "id": "6ADKwTuMFUuY",
        "colab": {
          "base_uri": "https://localhost:8080/"
        },
        "outputId": "ffa4ada0-8373-4295-fb22-4b73335e4d40"
      },
      "execution_count": 50,
      "outputs": [
        {
          "output_type": "execute_result",
          "data": {
            "text/plain": [
              "codigo_ocorrencia      6769\n",
              "classificacao          6769\n",
              "cidade                 6769\n",
              "uf                     6765\n",
              "pais                   6769\n",
              "aerodromo              4151\n",
              "total_recomendacoes    6769\n",
              "n_aeronaves            6769\n",
              "saida_pista            6769\n",
              "periodo                6767\n",
              "dtype: int64"
            ]
          },
          "metadata": {},
          "execution_count": 50
        }
      ]
    },
    {
      "cell_type": "markdown",
      "source": [
        "##Busca(query)"
      ],
      "metadata": {
        "id": "7tCnDGkjFp1R"
      }
    },
    {
      "cell_type": "code",
      "source": [
        "filtronulo = df.uf.isna() #Procurando dados que faltaram preencher\n",
        "df.loc[filtronulo]"
      ],
      "metadata": {
        "id": "srikoF6kVBca",
        "colab": {
          "base_uri": "https://localhost:8080/",
          "height": 175
        },
        "outputId": "34da630c-e510-4ca3-c532-fe309923f4f7"
      },
      "execution_count": 74,
      "outputs": [
        {
          "output_type": "execute_result",
          "data": {
            "text/plain": [
              "      codigo_ocorrencia classificacao                cidade   uf    pais  \\\n",
              "283               80665      ACIDENTE      NÃO IDENTIFICADA  NaN  BRASIL   \n",
              "320               80631     INCIDENTE      NÃO IDENTIFICADA  NaN  BRASIL   \n",
              "912               79956      ACIDENTE      NÃO IDENTIFICADA  NaN  BRASIL   \n",
              "4541              49474      ACIDENTE  ÁGUAS INTERNACIONAIS  NaN  BRASIL   \n",
              "\n",
              "     aerodromo  total_recomendacoes  n_aeronaves saida_pista  \\\n",
              "283        NaN                    0            1         NÃO   \n",
              "320        NaN                    0            1         NÃO   \n",
              "912        NaN                    0            1         NÃO   \n",
              "4541       NaN                    0            1         NÃO   \n",
              "\n",
              "                 periodo  \n",
              "283  2022-04-22 20:00:00  \n",
              "320  2022-04-04 11:15:00  \n",
              "912  2021-02-26 11:00:00  \n",
              "4541 2013-09-02 02:54:00  "
            ],
            "text/html": [
              "\n",
              "  <div id=\"df-747bcd80-e85a-49a5-9ebc-b84304f0c05d\">\n",
              "    <div class=\"colab-df-container\">\n",
              "      <div>\n",
              "<style scoped>\n",
              "    .dataframe tbody tr th:only-of-type {\n",
              "        vertical-align: middle;\n",
              "    }\n",
              "\n",
              "    .dataframe tbody tr th {\n",
              "        vertical-align: top;\n",
              "    }\n",
              "\n",
              "    .dataframe thead th {\n",
              "        text-align: right;\n",
              "    }\n",
              "</style>\n",
              "<table border=\"1\" class=\"dataframe\">\n",
              "  <thead>\n",
              "    <tr style=\"text-align: right;\">\n",
              "      <th></th>\n",
              "      <th>codigo_ocorrencia</th>\n",
              "      <th>classificacao</th>\n",
              "      <th>cidade</th>\n",
              "      <th>uf</th>\n",
              "      <th>pais</th>\n",
              "      <th>aerodromo</th>\n",
              "      <th>total_recomendacoes</th>\n",
              "      <th>n_aeronaves</th>\n",
              "      <th>saida_pista</th>\n",
              "      <th>periodo</th>\n",
              "    </tr>\n",
              "  </thead>\n",
              "  <tbody>\n",
              "    <tr>\n",
              "      <th>283</th>\n",
              "      <td>80665</td>\n",
              "      <td>ACIDENTE</td>\n",
              "      <td>NÃO IDENTIFICADA</td>\n",
              "      <td>NaN</td>\n",
              "      <td>BRASIL</td>\n",
              "      <td>NaN</td>\n",
              "      <td>0</td>\n",
              "      <td>1</td>\n",
              "      <td>NÃO</td>\n",
              "      <td>2022-04-22 20:00:00</td>\n",
              "    </tr>\n",
              "    <tr>\n",
              "      <th>320</th>\n",
              "      <td>80631</td>\n",
              "      <td>INCIDENTE</td>\n",
              "      <td>NÃO IDENTIFICADA</td>\n",
              "      <td>NaN</td>\n",
              "      <td>BRASIL</td>\n",
              "      <td>NaN</td>\n",
              "      <td>0</td>\n",
              "      <td>1</td>\n",
              "      <td>NÃO</td>\n",
              "      <td>2022-04-04 11:15:00</td>\n",
              "    </tr>\n",
              "    <tr>\n",
              "      <th>912</th>\n",
              "      <td>79956</td>\n",
              "      <td>ACIDENTE</td>\n",
              "      <td>NÃO IDENTIFICADA</td>\n",
              "      <td>NaN</td>\n",
              "      <td>BRASIL</td>\n",
              "      <td>NaN</td>\n",
              "      <td>0</td>\n",
              "      <td>1</td>\n",
              "      <td>NÃO</td>\n",
              "      <td>2021-02-26 11:00:00</td>\n",
              "    </tr>\n",
              "    <tr>\n",
              "      <th>4541</th>\n",
              "      <td>49474</td>\n",
              "      <td>ACIDENTE</td>\n",
              "      <td>ÁGUAS INTERNACIONAIS</td>\n",
              "      <td>NaN</td>\n",
              "      <td>BRASIL</td>\n",
              "      <td>NaN</td>\n",
              "      <td>0</td>\n",
              "      <td>1</td>\n",
              "      <td>NÃO</td>\n",
              "      <td>2013-09-02 02:54:00</td>\n",
              "    </tr>\n",
              "  </tbody>\n",
              "</table>\n",
              "</div>\n",
              "      <button class=\"colab-df-convert\" onclick=\"convertToInteractive('df-747bcd80-e85a-49a5-9ebc-b84304f0c05d')\"\n",
              "              title=\"Convert this dataframe to an interactive table.\"\n",
              "              style=\"display:none;\">\n",
              "        \n",
              "  <svg xmlns=\"http://www.w3.org/2000/svg\" height=\"24px\"viewBox=\"0 0 24 24\"\n",
              "       width=\"24px\">\n",
              "    <path d=\"M0 0h24v24H0V0z\" fill=\"none\"/>\n",
              "    <path d=\"M18.56 5.44l.94 2.06.94-2.06 2.06-.94-2.06-.94-.94-2.06-.94 2.06-2.06.94zm-11 1L8.5 8.5l.94-2.06 2.06-.94-2.06-.94L8.5 2.5l-.94 2.06-2.06.94zm10 10l.94 2.06.94-2.06 2.06-.94-2.06-.94-.94-2.06-.94 2.06-2.06.94z\"/><path d=\"M17.41 7.96l-1.37-1.37c-.4-.4-.92-.59-1.43-.59-.52 0-1.04.2-1.43.59L10.3 9.45l-7.72 7.72c-.78.78-.78 2.05 0 2.83L4 21.41c.39.39.9.59 1.41.59.51 0 1.02-.2 1.41-.59l7.78-7.78 2.81-2.81c.8-.78.8-2.07 0-2.86zM5.41 20L4 18.59l7.72-7.72 1.47 1.35L5.41 20z\"/>\n",
              "  </svg>\n",
              "      </button>\n",
              "      \n",
              "  <style>\n",
              "    .colab-df-container {\n",
              "      display:flex;\n",
              "      flex-wrap:wrap;\n",
              "      gap: 12px;\n",
              "    }\n",
              "\n",
              "    .colab-df-convert {\n",
              "      background-color: #E8F0FE;\n",
              "      border: none;\n",
              "      border-radius: 50%;\n",
              "      cursor: pointer;\n",
              "      display: none;\n",
              "      fill: #1967D2;\n",
              "      height: 32px;\n",
              "      padding: 0 0 0 0;\n",
              "      width: 32px;\n",
              "    }\n",
              "\n",
              "    .colab-df-convert:hover {\n",
              "      background-color: #E2EBFA;\n",
              "      box-shadow: 0px 1px 2px rgba(60, 64, 67, 0.3), 0px 1px 3px 1px rgba(60, 64, 67, 0.15);\n",
              "      fill: #174EA6;\n",
              "    }\n",
              "\n",
              "    [theme=dark] .colab-df-convert {\n",
              "      background-color: #3B4455;\n",
              "      fill: #D2E3FC;\n",
              "    }\n",
              "\n",
              "    [theme=dark] .colab-df-convert:hover {\n",
              "      background-color: #434B5C;\n",
              "      box-shadow: 0px 1px 3px 1px rgba(0, 0, 0, 0.15);\n",
              "      filter: drop-shadow(0px 1px 2px rgba(0, 0, 0, 0.3));\n",
              "      fill: #FFFFFF;\n",
              "    }\n",
              "  </style>\n",
              "\n",
              "      <script>\n",
              "        const buttonEl =\n",
              "          document.querySelector('#df-747bcd80-e85a-49a5-9ebc-b84304f0c05d button.colab-df-convert');\n",
              "        buttonEl.style.display =\n",
              "          google.colab.kernel.accessAllowed ? 'block' : 'none';\n",
              "\n",
              "        async function convertToInteractive(key) {\n",
              "          const element = document.querySelector('#df-747bcd80-e85a-49a5-9ebc-b84304f0c05d');\n",
              "          const dataTable =\n",
              "            await google.colab.kernel.invokeFunction('convertToInteractive',\n",
              "                                                     [key], {});\n",
              "          if (!dataTable) return;\n",
              "\n",
              "          const docLinkHtml = 'Like what you see? Visit the ' +\n",
              "            '<a target=\"_blank\" href=https://colab.research.google.com/notebooks/data_table.ipynb>data table notebook</a>'\n",
              "            + ' to learn more about interactive tables.';\n",
              "          element.innerHTML = '';\n",
              "          dataTable['output_type'] = 'display_data';\n",
              "          await google.colab.output.renderOutput(dataTable, element);\n",
              "          const docLink = document.createElement('div');\n",
              "          docLink.innerHTML = docLinkHtml;\n",
              "          element.appendChild(docLink);\n",
              "        }\n",
              "      </script>\n",
              "    </div>\n",
              "  </div>\n",
              "  "
            ]
          },
          "metadata": {},
          "execution_count": 74
        }
      ]
    },
    {
      "cell_type": "code",
      "source": [
        "#renomear colunas esse\n",
        "df.rename(columns={'ocorrencia_classificacao':'classificacao','ocorrencia_cidade':'cidade','ocorrencia_uf':'uf','ocorrencia_pais':'pais'})\n",
        "df.rename(columns={'ocorrencia_aerodromo':'aerodromo','ocorrencia_dia':'data','ocorrencia_hora':'horario','total_aeronaves_envolvidas':'n_aeronaves','ocorrencia_saida_pista':'saida_pista'},inplace=True)"
      ],
      "metadata": {
        "id": "OvfSW-D4mFks"
      },
      "execution_count": null,
      "outputs": []
    },
    {
      "cell_type": "code",
      "source": [
        "#printa todos os valores unicos dentro\n",
        "sorted(pd.unique(df['aerodromo']))"
      ],
      "metadata": {
        "id": "EZ-S9PlXlUlf"
      },
      "execution_count": null,
      "outputs": []
    },
    {
      "cell_type": "code",
      "source": [
        "#Converter coluna data para string\n",
        "df['data'] = df['data'].astype(str)"
      ],
      "metadata": {
        "id": "oa9OBAHTbl4R"
      },
      "execution_count": null,
      "outputs": []
    },
    {
      "cell_type": "code",
      "source": [
        "#ordena a coluna desse jeito\n",
        "df2 = df[['codigo_ocorrencia','uf','classificacao']]"
      ],
      "metadata": {
        "id": "4Pi9BpyaIDdg"
      },
      "execution_count": 44,
      "outputs": []
    },
    {
      "cell_type": "code",
      "source": [
        "#verifica quais são as linhas que estão preenchidos\n",
        "df.count"
      ],
      "metadata": {
        "id": "anQNTmRrJEPy",
        "colab": {
          "base_uri": "https://localhost:8080/"
        },
        "outputId": "b6acd1f1-3298-4d0a-fc0b-a3c9ef51b2f7"
      },
      "execution_count": 73,
      "outputs": [
        {
          "output_type": "execute_result",
          "data": {
            "text/plain": [
              "<bound method DataFrame.count of       codigo_ocorrencia    classificacao              cidade  uf    pais  \\\n",
              "0                 81027  INCIDENTE GRAVE           SÃO PAULO  SP  BRASIL   \n",
              "1                 81030        INCIDENTE             VITÓRIA  ES  BRASIL   \n",
              "2                 81023  INCIDENTE GRAVE           AMERICANA  SP  BRASIL   \n",
              "3                 81029        INCIDENTE      BELO HORIZONTE  MG  BRASIL   \n",
              "4                 81025        INCIDENTE              MANAUS  AM  BRASIL   \n",
              "...                 ...              ...                 ...  ..     ...   \n",
              "6764              40324        INCIDENTE             PELOTAS  RS  BRASIL   \n",
              "6765              39527         ACIDENTE  LUCAS DO RIO VERDE  MT  BRASIL   \n",
              "6766              40211        INCIDENTE      RIO DE JANEIRO  RJ  BRASIL   \n",
              "6767              40349        INCIDENTE               BELÉM  PA  BRASIL   \n",
              "6768              40351        INCIDENTE      RIO DE JANEIRO  RJ  BRASIL   \n",
              "\n",
              "     aerodromo  total_recomendacoes  n_aeronaves saida_pista  \\\n",
              "0         SBSP                    0            1         SIM   \n",
              "1         SBVT                    0            1         NÃO   \n",
              "2         SDAI                    0            1         SIM   \n",
              "3         SBBH                    0            1         NÃO   \n",
              "4         SBEG                    0            1         NÃO   \n",
              "...        ...                  ...          ...         ...   \n",
              "6764      SBPK                    0            1         NÃO   \n",
              "6765       NaN                    0            1         NÃO   \n",
              "6766       NaN                    0            1         NÃO   \n",
              "6767      SBBE                    0            1         NÃO   \n",
              "6768      SBRJ                    0            1         NÃO   \n",
              "\n",
              "                 periodo  \n",
              "0    2022-10-09 16:30:00  \n",
              "1    2022-10-09 16:20:00  \n",
              "2    2022-10-06 15:30:00  \n",
              "3    2022-10-06 00:44:00  \n",
              "4    2022-10-05 20:56:00  \n",
              "...                  ...  \n",
              "6764 2010-01-05 19:25:00  \n",
              "6765 2010-01-04 17:30:00  \n",
              "6766 2010-01-03 12:00:00  \n",
              "6767 2010-01-03 11:05:00  \n",
              "6768 2010-01-03 03:00:00  \n",
              "\n",
              "[6769 rows x 10 columns]>"
            ]
          },
          "metadata": {},
          "execution_count": 73
        }
      ]
    },
    {
      "cell_type": "markdown",
      "source": [
        "##GroupBy (AGRUPAMENTOS)\n"
      ],
      "metadata": {
        "id": "nbMlbGTd_kd3"
      }
    },
    {
      "cell_type": "code",
      "source": [
        "meses = df.periodo.dt.month #Verificando número de acidentes por mês\n",
        "df.groupby(meses).size().plot.bar(figsize=(12,8),xlabel='mês',ylabel='número de acidentes')"
      ],
      "metadata": {
        "colab": {
          "base_uri": "https://localhost:8080/",
          "height": 526
        },
        "id": "klJKv4Um83-E",
        "outputId": "c4f68e7e-2967-49bc-d1b8-c224bb7a9115"
      },
      "execution_count": 105,
      "outputs": [
        {
          "output_type": "execute_result",
          "data": {
            "text/plain": [
              "<Axes: xlabel='mês', ylabel='número de acidentes'>"
            ]
          },
          "metadata": {},
          "execution_count": 105
        },
        {
          "output_type": "display_data",
          "data": {
            "text/plain": [
              "<Figure size 864x576 with 1 Axes>"
            ],
            "image/png": "[encoded data removed]"
          },
          "metadata": {
            "needs_background": "light"
          }
        }
      ]
    },
    {
      "cell_type": "code",
      "source": [
        "anos = df.periodo.dt.year #Verificando número de acidentes por ano\n",
        "df.groupby(anos).size().plot.bar(figsize=(12,8),xlabel='ano',ylabel='número de acidentes')"
      ],
      "metadata": {
        "colab": {
          "base_uri": "https://localhost:8080/",
          "height": 539
        },
        "id": "rCAeWfAm-v6d",
        "outputId": "5761870d-45db-4a39-8bb6-13f37d409c1b"
      },
      "execution_count": 106,
      "outputs": [
        {
          "output_type": "execute_result",
          "data": {
            "text/plain": [
              "<Axes: xlabel='ano', ylabel='número de acidentes'>"
            ]
          },
          "metadata": {},
          "execution_count": 106
        },
        {
          "output_type": "display_data",
          "data": {
            "text/plain": [
              "<Figure size 864x576 with 1 Axes>"
            ],
            "image/png": "[encoded data removed]"
          },
          "metadata": {
            "needs_background": "light"
          }
        }
      ]
    },
    {
      "cell_type": "code",
      "source": [
        "df.groupby(['classificacao']).size().sort_values(ascending=False)  #Verficando quais são os maiores acidentes"
      ],
      "metadata": {
        "id": "yMq-DyVYDoAL",
        "colab": {
          "base_uri": "https://localhost:8080/"
        },
        "outputId": "526a7a53-74c8-4274-92e8-320ac5693487"
      },
      "execution_count": 76,
      "outputs": [
        {
          "output_type": "execute_result",
          "data": {
            "text/plain": [
              "classificacao\n",
              "INCIDENTE          3795\n",
              "ACIDENTE           2090\n",
              "INCIDENTE GRAVE     884\n",
              "dtype: int64"
            ]
          },
          "metadata": {},
          "execution_count": 76
        }
      ]
    },
    {
      "cell_type": "code",
      "source": [
        "df.groupby(['cidade']).size().sort_values(ascending=False) #Verificando qual a cidade que tem mais acidente"
      ],
      "metadata": {
        "colab": {
          "base_uri": "https://localhost:8080/"
        },
        "id": "-SnpVbEY5-bK",
        "outputId": "b2aeb662-fe91-4309-c389-23238b3347ff"
      },
      "execution_count": 84,
      "outputs": [
        {
          "output_type": "execute_result",
          "data": {
            "text/plain": [
              "cidade\n",
              "RIO DE JANEIRO    366\n",
              "SÃO PAULO         324\n",
              "BELO HORIZONTE    211\n",
              "CAMPINAS          209\n",
              "GUARULHOS         183\n",
              "                 ... \n",
              "CRATEÚS             1\n",
              "NOVA ODESSA         1\n",
              "COXIM               1\n",
              "NOVA PONTE          1\n",
              "CARLOS CHAGAS       1\n",
              "Length: 1195, dtype: int64"
            ]
          },
          "metadata": {},
          "execution_count": 84
        }
      ]
    },
    {
      "cell_type": "code",
      "source": [
        "df.groupby(['uf']).size().sort_values(ascending=False) #Verificando quais estados que tiveram mais acidentes"
      ],
      "metadata": {
        "colab": {
          "base_uri": "https://localhost:8080/"
        },
        "id": "N2H1f4mb67yB",
        "outputId": "ff5df6f0-cbe4-45b7-da4a-9c5ceef8b965"
      },
      "execution_count": 86,
      "outputs": [
        {
          "output_type": "execute_result",
          "data": {
            "text/plain": [
              "uf\n",
              "SP    1625\n",
              "MG     638\n",
              "RJ     578\n",
              "PR     548\n",
              "RS     395\n",
              "GO     359\n",
              "MT     359\n",
              "PA     344\n",
              "AM     279\n",
              "BA     253\n",
              "SC     223\n",
              "MS     191\n",
              "DF     156\n",
              "PE     126\n",
              "CE      95\n",
              "ES      91\n",
              "MA      86\n",
              "RR      73\n",
              "AC      66\n",
              "TO      60\n",
              "RO      54\n",
              "PI      45\n",
              "AL      34\n",
              "PB      28\n",
              "RN      22\n",
              "SE      22\n",
              "AP      15\n",
              "dtype: int64"
            ]
          },
          "metadata": {},
          "execution_count": 86
        }
      ]
    },
    {
      "cell_type": "code",
      "source": [
        "df.groupby(['aerodromo'],dropna=False).size().sort_values(ascending=False) #Verificando as ocorrências por aerodrómo"
      ],
      "metadata": {
        "id": "rAKgs9qWFBIt",
        "colab": {
          "base_uri": "https://localhost:8080/"
        },
        "outputId": "85014f3f-89d5-4477-b714-57bf513aa653"
      },
      "execution_count": 81,
      "outputs": [
        {
          "output_type": "execute_result",
          "data": {
            "text/plain": [
              "aerodromo\n",
              "NaN     2618\n",
              "SBGR     173\n",
              "SBMT     150\n",
              "SBKP     128\n",
              "SBBH     124\n",
              "        ... \n",
              "SJVL       1\n",
              "SJTO       1\n",
              "SJOD       1\n",
              "SJNQ       1\n",
              "SJNC       1\n",
              "Length: 574, dtype: int64"
            ]
          },
          "metadata": {},
          "execution_count": 81
        }
      ]
    },
    {
      "cell_type": "markdown",
      "source": [
        "##Plotagem"
      ],
      "metadata": {
        "id": "Pes5rl5n2An6"
      }
    },
    {
      "cell_type": "code",
      "source": [
        "df.groupby(['classificacao'],dropna=False).size().sort_values(ascending=False).plot.bar(figsize=(12,8),xlabel='classificação',ylabel='número de acidentes')\n",
        "#Colocando graficamente quais são os números de acidentes pela classificação"
      ],
      "metadata": {
        "colab": {
          "base_uri": "https://localhost:8080/",
          "height": 594
        },
        "id": "1zfeobv92Kj-",
        "outputId": "7e04c8ab-f3a2-4b7c-c208-ae0d7aa37c52"
      },
      "execution_count": 79,
      "outputs": [
        {
          "output_type": "execute_result",
          "data": {
            "text/plain": [
              "<Axes: xlabel='classificação', ylabel='número de acidentes'>"
            ]
          },
          "metadata": {},
          "execution_count": 79
        },
        {
          "output_type": "display_data",
          "data": {
            "text/plain": [
              "<Figure size 864x576 with 1 Axes>"
            ],
            "image/png": "[encoded data removed]"
          },
          "metadata": {
            "needs_background": "light"
          }
        }
      ]
    },
    {
      "cell_type": "code",
      "source": [
        "df.groupby(['n_aeronaves'],dropna=False).size().sort_values(ascending=False).plot.bar(figsize=(12,8),xlabel='número de aeronaves',ylabel='acidentes')\n",
        "#Colocando graficamente quais são os números de aeronaves por acidentes"
      ],
      "metadata": {
        "colab": {
          "base_uri": "https://localhost:8080/",
          "height": 513
        },
        "id": "2hkG8V8Q1JTm",
        "outputId": "d53c2aa6-d8cb-479a-995c-876e47315fb5"
      },
      "execution_count": 80,
      "outputs": [
        {
          "output_type": "execute_result",
          "data": {
            "text/plain": [
              "<Axes: xlabel='número de aeronaves', ylabel='acidentes'>"
            ]
          },
          "metadata": {},
          "execution_count": 80
        },
        {
          "output_type": "display_data",
          "data": {
            "text/plain": [
              "<Figure size 864x576 with 1 Axes>"
            ],
            "image/png": "[encoded data removed]"
          },
          "metadata": {
            "needs_background": "light"
          }
        }
      ]
    },
    {
      "cell_type": "markdown",
      "source": [
        "##Criação do Schema de validação de dados"
      ],
      "metadata": {
        "id": "yWebTYPDFZuC"
      }
    },
    {
      "cell_type": "code",
      "source": [
        "#Criação do schema pandera\n",
        "\n",
        "schema = pa.DataFrameSchema(\n",
        "    columns = {\n",
        "        'codigo_ocorrencia':pa.Column(pa.Int),\n",
        "        'classificacao':pa.Column(pa.String),\n",
        "        'cidade':pa.Column(pa.String),\n",
        "        'uf':pa.Column(pa.String,pa.Check.str_length(2,2),nullable=True),\n",
        "        'pais':pa.Column(pa.String),\n",
        "        'aerodromo':pa.Column(pa.String,pa.Check.str_length(4,4),nullable=True),\n",
        "        'data':pa.Column(pa.DateTime),\n",
        "        'horario':pa.Column(pa.String,pa.Check.str_matches(r'^([0-1]?[0-9]|[2][0-3]):([0-5][0-9]):([0-5][0-9])?$'),nullable=True),\n",
        "        'total_recomendacoes':pa.Column(pa.Int),\n",
        "        'n_aeronaves':pa.Column(pa.Int),\n",
        "        'saida_pista':pa.Column(pa.String,pa.Check.str_length(3,3)),\n",
        "    }\n",
        ")\n",
        "\n",
        "schema2 = pa.DataFrameSchema(\n",
        "    columns = {\n",
        "        'codigo_ocorrencia':pa.Column(pa.Int),\n",
        "        'classificacao':pa.Column(pa.String),\n",
        "        'cidade':pa.Column(pa.String),\n",
        "        'uf':pa.Column(pa.String,pa.Check.str_length(2,2),nullable=True),\n",
        "        'pais':pa.Column(pa.String),\n",
        "        'aerodromo':pa.Column(pa.String,pa.Check.str_length(4,4),nullable=True),\n",
        "        'total_recomendacoes':pa.Column(pa.Int),\n",
        "        'n_aeronaves':pa.Column(pa.Int),\n",
        "        'saida_pista':pa.Column(pa.String,pa.Check.str_length(3,3)),\n",
        "        'periodo':pa.Column(pa.DateTime,nullable=True),\n",
        "    }\n",
        ")"
      ],
      "metadata": {
        "id": "1qGIJVy0Fifn"
      },
      "execution_count": 155,
      "outputs": []
    },
    {
      "cell_type": "code",
      "source": [
        "schema2.validate(df)"
      ],
      "metadata": {
        "colab": {
          "base_uri": "https://localhost:8080/",
          "height": 424
        },
        "id": "Xg7tNT83I3It",
        "outputId": "e4269f2a-a30e-438c-dc8a-13a6308f15cc"
      },
      "execution_count": 156,
      "outputs": [
        {
          "output_type": "execute_result",
          "data": {
            "text/plain": [
              "      codigo_ocorrencia    classificacao              cidade  uf    pais  \\\n",
              "0                 81027  INCIDENTE GRAVE           SÃO PAULO  SP  BRASIL   \n",
              "1                 81030        INCIDENTE             VITÓRIA  ES  BRASIL   \n",
              "2                 81023  INCIDENTE GRAVE           AMERICANA  SP  BRASIL   \n",
              "3                 81029        INCIDENTE      BELO HORIZONTE  MG  BRASIL   \n",
              "4                 81025        INCIDENTE              MANAUS  AM  BRASIL   \n",
              "...                 ...              ...                 ...  ..     ...   \n",
              "6764              40324        INCIDENTE             PELOTAS  RS  BRASIL   \n",
              "6765              39527         ACIDENTE  LUCAS DO RIO VERDE  MT  BRASIL   \n",
              "6766              40211        INCIDENTE      RIO DE JANEIRO  RJ  BRASIL   \n",
              "6767              40349        INCIDENTE               BELÉM  PA  BRASIL   \n",
              "6768              40351        INCIDENTE      RIO DE JANEIRO  RJ  BRASIL   \n",
              "\n",
              "     aerodromo  total_recomendacoes  n_aeronaves saida_pista  \\\n",
              "0         SBSP                    0            1         SIM   \n",
              "1         SBVT                    0            1         NÃO   \n",
              "2         SDAI                    0            1         SIM   \n",
              "3         SBBH                    0            1         NÃO   \n",
              "4         SBEG                    0            1         NÃO   \n",
              "...        ...                  ...          ...         ...   \n",
              "6764      SBPK                    0            1         NÃO   \n",
              "6765       NaN                    0            1         NÃO   \n",
              "6766       NaN                    0            1         NÃO   \n",
              "6767      SBBE                    0            1         NÃO   \n",
              "6768      SBRJ                    0            1         NÃO   \n",
              "\n",
              "                 periodo  \n",
              "0    2022-10-09 16:30:00  \n",
              "1    2022-10-09 16:20:00  \n",
              "2    2022-10-06 15:30:00  \n",
              "3    2022-10-06 00:44:00  \n",
              "4    2022-10-05 20:56:00  \n",
              "...                  ...  \n",
              "6764 2010-01-05 19:25:00  \n",
              "6765 2010-01-04 17:30:00  \n",
              "6766 2010-01-03 12:00:00  \n",
              "6767 2010-01-03 11:05:00  \n",
              "6768 2010-01-03 03:00:00  \n",
              "\n",
              "[6769 rows x 10 columns]"
            ],
            "text/html": [
              "\n",
              "  <div id=\"df-c145e96b-3c88-4ffb-8f9c-2dc9ad5d61f9\">\n",
              "    <div class=\"colab-df-container\">\n",
              "      <div>\n",
              "<style scoped>\n",
              "    .dataframe tbody tr th:only-of-type {\n",
              "        vertical-align: middle;\n",
              "    }\n",
              "\n",
              "    .dataframe tbody tr th {\n",
              "        vertical-align: top;\n",
              "    }\n",
              "\n",
              "    .dataframe thead th {\n",
              "        text-align: right;\n",
              "    }\n",
              "</style>\n",
              "<table border=\"1\" class=\"dataframe\">\n",
              "  <thead>\n",
              "    <tr style=\"text-align: right;\">\n",
              "      <th></th>\n",
              "      <th>codigo_ocorrencia</th>\n",
              "      <th>classificacao</th>\n",
              "      <th>cidade</th>\n",
              "      <th>uf</th>\n",
              "      <th>pais</th>\n",
              "      <th>aerodromo</th>\n",
              "      <th>total_recomendacoes</th>\n",
              "      <th>n_aeronaves</th>\n",
              "      <th>saida_pista</th>\n",
              "      <th>periodo</th>\n",
              "    </tr>\n",
              "  </thead>\n",
              "  <tbody>\n",
              "    <tr>\n",
              "      <th>0</th>\n",
              "      <td>81027</td>\n",
              "      <td>INCIDENTE GRAVE</td>\n",
              "      <td>SÃO PAULO</td>\n",
              "      <td>SP</td>\n",
              "      <td>BRASIL</td>\n",
              "      <td>SBSP</td>\n",
              "      <td>0</td>\n",
              "      <td>1</td>\n",
              "      <td>SIM</td>\n",
              "      <td>2022-10-09 16:30:00</td>\n",
              "    </tr>\n",
              "    <tr>\n",
              "      <th>1</th>\n",
              "      <td>81030</td>\n",
              "      <td>INCIDENTE</td>\n",
              "      <td>VITÓRIA</td>\n",
              "      <td>ES</td>\n",
              "      <td>BRASIL</td>\n",
              "      <td>SBVT</td>\n",
              "      <td>0</td>\n",
              "      <td>1</td>\n",
              "      <td>NÃO</td>\n",
              "      <td>2022-10-09 16:20:00</td>\n",
              "    </tr>\n",
              "    <tr>\n",
              "      <th>2</th>\n",
              "      <td>81023</td>\n",
              "      <td>INCIDENTE GRAVE</td>\n",
              "      <td>AMERICANA</td>\n",
              "      <td>SP</td>\n",
              "      <td>BRASIL</td>\n",
              "      <td>SDAI</td>\n",
              "      <td>0</td>\n",
              "      <td>1</td>\n",
              "      <td>SIM</td>\n",
              "      <td>2022-10-06 15:30:00</td>\n",
              "    </tr>\n",
              "    <tr>\n",
              "      <th>3</th>\n",
              "      <td>81029</td>\n",
              "      <td>INCIDENTE</td>\n",
              "      <td>BELO HORIZONTE</td>\n",
              "      <td>MG</td>\n",
              "      <td>BRASIL</td>\n",
              "      <td>SBBH</td>\n",
              "      <td>0</td>\n",
              "      <td>1</td>\n",
              "      <td>NÃO</td>\n",
              "      <td>2022-10-06 00:44:00</td>\n",
              "    </tr>\n",
              "    <tr>\n",
              "      <th>4</th>\n",
              "      <td>81025</td>\n",
              "      <td>INCIDENTE</td>\n",
              "      <td>MANAUS</td>\n",
              "      <td>AM</td>\n",
              "      <td>BRASIL</td>\n",
              "      <td>SBEG</td>\n",
              "      <td>0</td>\n",
              "      <td>1</td>\n",
              "      <td>NÃO</td>\n",
              "      <td>2022-10-05 20:56:00</td>\n",
              "    </tr>\n",
              "    <tr>\n",
              "      <th>...</th>\n",
              "      <td>...</td>\n",
              "      <td>...</td>\n",
              "      <td>...</td>\n",
              "      <td>...</td>\n",
              "      <td>...</td>\n",
              "      <td>...</td>\n",
              "      <td>...</td>\n",
              "      <td>...</td>\n",
              "      <td>...</td>\n",
              "      <td>...</td>\n",
              "    </tr>\n",
              "    <tr>\n",
              "      <th>6764</th>\n",
              "      <td>40324</td>\n",
              "      <td>INCIDENTE</td>\n",
              "      <td>PELOTAS</td>\n",
              "      <td>RS</td>\n",
              "      <td>BRASIL</td>\n",
              "      <td>SBPK</td>\n",
              "      <td>0</td>\n",
              "      <td>1</td>\n",
              "      <td>NÃO</td>\n",
              "      <td>2010-01-05 19:25:00</td>\n",
              "    </tr>\n",
              "    <tr>\n",
              "      <th>6765</th>\n",
              "      <td>39527</td>\n",
              "      <td>ACIDENTE</td>\n",
              "      <td>LUCAS DO RIO VERDE</td>\n",
              "      <td>MT</td>\n",
              "      <td>BRASIL</td>\n",
              "      <td>NaN</td>\n",
              "      <td>0</td>\n",
              "      <td>1</td>\n",
              "      <td>NÃO</td>\n",
              "      <td>2010-01-04 17:30:00</td>\n",
              "    </tr>\n",
              "    <tr>\n",
              "      <th>6766</th>\n",
              "      <td>40211</td>\n",
              "      <td>INCIDENTE</td>\n",
              "      <td>RIO DE JANEIRO</td>\n",
              "      <td>RJ</td>\n",
              "      <td>BRASIL</td>\n",
              "      <td>NaN</td>\n",
              "      <td>0</td>\n",
              "      <td>1</td>\n",
              "      <td>NÃO</td>\n",
              "      <td>2010-01-03 12:00:00</td>\n",
              "    </tr>\n",
              "    <tr>\n",
              "      <th>6767</th>\n",
              "      <td>40349</td>\n",
              "      <td>INCIDENTE</td>\n",
              "      <td>BELÉM</td>\n",
              "      <td>PA</td>\n",
              "      <td>BRASIL</td>\n",
              "      <td>SBBE</td>\n",
              "      <td>0</td>\n",
              "      <td>1</td>\n",
              "      <td>NÃO</td>\n",
              "      <td>2010-01-03 11:05:00</td>\n",
              "    </tr>\n",
              "    <tr>\n",
              "      <th>6768</th>\n",
              "      <td>40351</td>\n",
              "      <td>INCIDENTE</td>\n",
              "      <td>RIO DE JANEIRO</td>\n",
              "      <td>RJ</td>\n",
              "      <td>BRASIL</td>\n",
              "      <td>SBRJ</td>\n",
              "      <td>0</td>\n",
              "      <td>1</td>\n",
              "      <td>NÃO</td>\n",
              "      <td>2010-01-03 03:00:00</td>\n",
              "    </tr>\n",
              "  </tbody>\n",
              "</table>\n",
              "<p>6769 rows × 10 columns</p>\n",
              "</div>\n",
              "      <button class=\"colab-df-convert\" onclick=\"convertToInteractive('df-c145e96b-3c88-4ffb-8f9c-2dc9ad5d61f9')\"\n",
              "              title=\"Convert this dataframe to an interactive table.\"\n",
              "              style=\"display:none;\">\n",
              "        \n",
              "  <svg xmlns=\"http://www.w3.org/2000/svg\" height=\"24px\"viewBox=\"0 0 24 24\"\n",
              "       width=\"24px\">\n",
              "    <path d=\"M0 0h24v24H0V0z\" fill=\"none\"/>\n",
              "    <path d=\"M18.56 5.44l.94 2.06.94-2.06 2.06-.94-2.06-.94-.94-2.06-.94 2.06-2.06.94zm-11 1L8.5 8.5l.94-2.06 2.06-.94-2.06-.94L8.5 2.5l-.94 2.06-2.06.94zm10 10l.94 2.06.94-2.06 2.06-.94-2.06-.94-.94-2.06-.94 2.06-2.06.94z\"/><path d=\"M17.41 7.96l-1.37-1.37c-.4-.4-.92-.59-1.43-.59-.52 0-1.04.2-1.43.59L10.3 9.45l-7.72 7.72c-.78.78-.78 2.05 0 2.83L4 21.41c.39.39.9.59 1.41.59.51 0 1.02-.2 1.41-.59l7.78-7.78 2.81-2.81c.8-.78.8-2.07 0-2.86zM5.41 20L4 18.59l7.72-7.72 1.47 1.35L5.41 20z\"/>\n",
              "  </svg>\n",
              "      </button>\n",
              "      \n",
              "  <style>\n",
              "    .colab-df-container {\n",
              "      display:flex;\n",
              "      flex-wrap:wrap;\n",
              "      gap: 12px;\n",
              "    }\n",
              "\n",
              "    .colab-df-convert {\n",
              "      background-color: #E8F0FE;\n",
              "      border: none;\n",
              "      border-radius: 50%;\n",
              "      cursor: pointer;\n",
              "      display: none;\n",
              "      fill: #1967D2;\n",
              "      height: 32px;\n",
              "      padding: 0 0 0 0;\n",
              "      width: 32px;\n",
              "    }\n",
              "\n",
              "    .colab-df-convert:hover {\n",
              "      background-color: #E2EBFA;\n",
              "      box-shadow: 0px 1px 2px rgba(60, 64, 67, 0.3), 0px 1px 3px 1px rgba(60, 64, 67, 0.15);\n",
              "      fill: #174EA6;\n",
              "    }\n",
              "\n",
              "    [theme=dark] .colab-df-convert {\n",
              "      background-color: #3B4455;\n",
              "      fill: #D2E3FC;\n",
              "    }\n",
              "\n",
              "    [theme=dark] .colab-df-convert:hover {\n",
              "      background-color: #434B5C;\n",
              "      box-shadow: 0px 1px 3px 1px rgba(0, 0, 0, 0.15);\n",
              "      filter: drop-shadow(0px 1px 2px rgba(0, 0, 0, 0.3));\n",
              "      fill: #FFFFFF;\n",
              "    }\n",
              "  </style>\n",
              "\n",
              "      <script>\n",
              "        const buttonEl =\n",
              "          document.querySelector('#df-c145e96b-3c88-4ffb-8f9c-2dc9ad5d61f9 button.colab-df-convert');\n",
              "        buttonEl.style.display =\n",
              "          google.colab.kernel.accessAllowed ? 'block' : 'none';\n",
              "\n",
              "        async function convertToInteractive(key) {\n",
              "          const element = document.querySelector('#df-c145e96b-3c88-4ffb-8f9c-2dc9ad5d61f9');\n",
              "          const dataTable =\n",
              "            await google.colab.kernel.invokeFunction('convertToInteractive',\n",
              "                                                     [key], {});\n",
              "          if (!dataTable) return;\n",
              "\n",
              "          const docLinkHtml = 'Like what you see? Visit the ' +\n",
              "            '<a target=\"_blank\" href=https://colab.research.google.com/notebooks/data_table.ipynb>data table notebook</a>'\n",
              "            + ' to learn more about interactive tables.';\n",
              "          element.innerHTML = '';\n",
              "          dataTable['output_type'] = 'display_data';\n",
              "          await google.colab.output.renderOutput(dataTable, element);\n",
              "          const docLink = document.createElement('div');\n",
              "          docLink.innerHTML = docLinkHtml;\n",
              "          element.appendChild(docLink);\n",
              "        }\n",
              "      </script>\n",
              "    </div>\n",
              "  </div>\n",
              "  "
            ]
          },
          "metadata": {},
          "execution_count": 156
        }
      ]
    },
    {
      "cell_type": "markdown",
      "source": [
        "##LOAD (Carregamento) salvar o df"
      ],
      "metadata": {
        "id": "5Z5nLY5Mkhhh"
      }
    },
    {
      "cell_type": "code",
      "source": [
        "#Carregar direto no bucket\n",
        "df.to_csv('gs://nubialmeida45/tratados/cenipa_tratado.csv',index=False) "
      ],
      "metadata": {
        "id": "mVk2SOZqnXri"
      },
      "execution_count": 108,
      "outputs": []
    },
    {
      "cell_type": "code",
      "source": [
        "#Conectando MongoDB Atlas\n",
        "uri = \"mongodb+srv://cluster0.pvxzqua.mongodb.net/?authSource=%24external&authMechanism=MONGODB-X509&retryWrites=true&w=majority\"\n",
        "client = MongoClient(uri,tls=True,tlsCertificateKeyFile='/content/drive/MyDrive/MongoDb/X509-cert-342951600753315466.pem')\n",
        "\n",
        "db = client['Tratados']\n",
        "colecao = db['Cenipa']"
      ],
      "metadata": {
        "id": "DTjjU1v7EO-S"
      },
      "execution_count": 157,
      "outputs": []
    },
    {
      "cell_type": "code",
      "source": [
        "\n",
        "#Selecionando a base e coleção\n",
        "db = client['Projeto_Cenipa']\n",
        "colecaoCenipa = db['tratado']\n",
        "colecaoCenipa.count_documents({})"
      ],
      "metadata": {
        "colab": {
          "base_uri": "https://localhost:8080/"
        },
        "id": "8zUXoLKjERCa",
        "outputId": "366d7c18-cf2f-4ead-cb63-841084c7b1aa"
      },
      "execution_count": 158,
      "outputs": [
        {
          "output_type": "execute_result",
          "data": {
            "text/plain": [
              "0"
            ]
          },
          "metadata": {},
          "execution_count": 158
        }
      ]
    },
    {
      "cell_type": "code",
      "source": [
        "#Enviando de um dataframe para coleção no MONGO\n",
        "df_dict = df.to_dict(\"records\")\n",
        "colecaoCenipa.insert_many(df_dict) #Analisar de como enviar pra o MongoDB"
      ],
      "metadata": {
        "id": "mR-k3O8XKDG2"
      },
      "execution_count": null,
      "outputs": []
    },
    {
      "cell_type": "markdown",
      "source": [
        "##Considerações finais\n"
      ],
      "metadata": {
        "id": "3TLxVsD1NAAQ"
      }
    },
    {
      "cell_type": "markdown",
      "source": [
        "##**Através da análise dos dados desse dataframe, percebi que:**\n",
        "\n",
        "\n",
        "*   Não foi salvo dois periodos de data, horário e algumas cidades não foram identificadas,  podendo ter sido um esquecimento do funcionário\n",
        "*   A maioria dos acidentes ocorrem por desleixo por parte do funcionário\n",
        "*   A maioria dos acidentes ocorrem com apenas uma aeronave\n",
        "*   A cidade que tem mais acidente é o Rio de Janeiro\n",
        "*   O estado que tem mais acidente é o São Paulo, sugere-se um investigação a esse estado e cidade\n",
        "*   Durante o periodo de virada de ano e no começo de cada semestre, verifica-se um aumento dos acidentes, podendo ser explicado pelo maior demanda de números de vôos\n",
        "*   Em 2011, a CENIPA iniciou ações para reduzir os riscos e aumentar a segurança dos vôos, sendo os efeitos perceptíveis apenas em 2014\n",
        "*   Em 2014, diminuiu os acidentes,uma possível explicação para isso pode ser os altos investimentos para copa do Brasil\n",
        "*   Havia uma tendência de aumento de acidentes a partir de 2016 a 2019, porém com a restrição de vôos causado pela a pandemia em 2020, essa tendência se estagnou\n",
        "\n",
        "\n",
        "\n",
        "\n",
        "\n",
        "\n",
        "\n",
        "\n",
        "\n",
        "\n"
      ],
      "metadata": {
        "id": "CKbZUG5RyW17"
      }
    }
  ]
}