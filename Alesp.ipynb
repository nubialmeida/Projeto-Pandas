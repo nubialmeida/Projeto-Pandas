{
  "nbformat": 4,
  "nbformat_minor": 0,
  "metadata": {
    "colab": {
      "provenance": [],
      "mount_file_id": "1f1ETBLqaq1gflIcCf1pXjz-Kw4MiZPVE",
      "authorship_tag": "ABX9TyMibjWtEyvKQranoW6UIZZp",
      "include_colab_link": true
    },
    "kernelspec": {
      "name": "python3",
      "display_name": "Python 3"
    },
    "language_info": {
      "name": "python"
    }
  },
  "cells": [
    {
      "cell_type": "markdown",
      "metadata": {
        "id": "view-in-github",
        "colab_type": "text"
      },
      "source": [
        "<a href=\"https://colab.research.google.com/github/nubialmeida/projeto-pandas/blob/main/Alesp.ipynb\" target=\"_parent\"><img src=\"https://colab.research.google.com/assets/colab-badge.svg\" alt=\"Open In Colab\"/></a>"
      ]
    },
    {
      "cell_type": "code",
      "execution_count": 1,
      "metadata": {
        "colab": {
          "base_uri": "https://localhost:8080/"
        },
        "id": "IA0iOqW9JPqe",
        "outputId": "a5b8cdf8-adf7-40e0-9355-a4e8e98c09d6"
      },
      "outputs": [
        {
          "output_type": "stream",
          "name": "stdout",
          "text": [
            "Looking in indexes: https://pypi.org/simple, https://us-python.pkg.dev/colab-wheels/public/simple/\n",
            "Collecting gcsfs\n",
            "  Downloading gcsfs-2023.3.0-py2.py3-none-any.whl (26 kB)\n",
            "Requirement already satisfied: google-auth-oauthlib in /usr/local/lib/python3.9/dist-packages (from gcsfs) (0.4.6)\n",
            "Requirement already satisfied: fsspec==2023.3.0 in /usr/local/lib/python3.9/dist-packages (from gcsfs) (2023.3.0)\n",
            "Requirement already satisfied: decorator>4.1.2 in /usr/local/lib/python3.9/dist-packages (from gcsfs) (4.4.2)\n",
            "Requirement already satisfied: requests in /usr/local/lib/python3.9/dist-packages (from gcsfs) (2.27.1)\n",
            "Requirement already satisfied: google-cloud-storage in /usr/local/lib/python3.9/dist-packages (from gcsfs) (2.7.0)\n",
            "Requirement already satisfied: google-auth>=1.2 in /usr/local/lib/python3.9/dist-packages (from gcsfs) (2.16.2)\n",
            "Collecting aiohttp!=4.0.0a0,!=4.0.0a1\n",
            "  Downloading aiohttp-3.8.4-cp39-cp39-manylinux_2_17_x86_64.manylinux2014_x86_64.whl (1.0 MB)\n",
            "\u001b[2K     \u001b[90m━━━━━━━━━━━━━━━━━━━━━━━━━━━━━━━━━━━━━━━━\u001b[0m \u001b[32m1.0/1.0 MB\u001b[0m \u001b[31m18.2 MB/s\u001b[0m eta \u001b[36m0:00:00\u001b[0m\n",
            "\u001b[?25hCollecting async-timeout<5.0,>=4.0.0a3\n",
            "  Downloading async_timeout-4.0.2-py3-none-any.whl (5.8 kB)\n",
            "Collecting aiosignal>=1.1.2\n",
            "  Downloading aiosignal-1.3.1-py3-none-any.whl (7.6 kB)\n",
            "Requirement already satisfied: attrs>=17.3.0 in /usr/local/lib/python3.9/dist-packages (from aiohttp!=4.0.0a0,!=4.0.0a1->gcsfs) (22.2.0)\n",
            "Collecting yarl<2.0,>=1.0\n",
            "  Downloading yarl-1.8.2-cp39-cp39-manylinux_2_17_x86_64.manylinux2014_x86_64.whl (264 kB)\n",
            "\u001b[2K     \u001b[90m━━━━━━━━━━━━━━━━━━━━━━━━━━━━━━━━━━━━━━\u001b[0m \u001b[32m264.6/264.6 KB\u001b[0m \u001b[31m11.3 MB/s\u001b[0m eta \u001b[36m0:00:00\u001b[0m\n",
            "\u001b[?25hCollecting multidict<7.0,>=4.5\n",
            "  Downloading multidict-6.0.4-cp39-cp39-manylinux_2_17_x86_64.manylinux2014_x86_64.whl (114 kB)\n",
            "\u001b[2K     \u001b[90m━━━━━━━━━━━━━━━━━━━━━━━━━━━━━━━━━━━━━━━\u001b[0m \u001b[32m114.2/114.2 KB\u001b[0m \u001b[31m2.5 MB/s\u001b[0m eta \u001b[36m0:00:00\u001b[0m\n",
            "\u001b[?25hCollecting frozenlist>=1.1.1\n",
            "  Downloading frozenlist-1.3.3-cp39-cp39-manylinux_2_5_x86_64.manylinux1_x86_64.manylinux_2_17_x86_64.manylinux2014_x86_64.whl (158 kB)\n",
            "\u001b[2K     \u001b[90m━━━━━━━━━━━━━━━━━━━━━━━━━━━━━━━━━━━━━━\u001b[0m \u001b[32m158.8/158.8 KB\u001b[0m \u001b[31m12.0 MB/s\u001b[0m eta \u001b[36m0:00:00\u001b[0m\n",
            "\u001b[?25hRequirement already satisfied: charset-normalizer<4.0,>=2.0 in /usr/local/lib/python3.9/dist-packages (from aiohttp!=4.0.0a0,!=4.0.0a1->gcsfs) (2.0.12)\n",
            "Requirement already satisfied: cachetools<6.0,>=2.0.0 in /usr/local/lib/python3.9/dist-packages (from google-auth>=1.2->gcsfs) (5.3.0)\n",
            "Requirement already satisfied: rsa<5,>=3.1.4 in /usr/local/lib/python3.9/dist-packages (from google-auth>=1.2->gcsfs) (4.9)\n",
            "Requirement already satisfied: pyasn1-modules>=0.2.1 in /usr/local/lib/python3.9/dist-packages (from google-auth>=1.2->gcsfs) (0.2.8)\n",
            "Requirement already satisfied: six>=1.9.0 in /usr/local/lib/python3.9/dist-packages (from google-auth>=1.2->gcsfs) (1.15.0)\n",
            "Requirement already satisfied: requests-oauthlib>=0.7.0 in /usr/local/lib/python3.9/dist-packages (from google-auth-oauthlib->gcsfs) (1.3.1)\n",
            "Requirement already satisfied: google-cloud-core<3.0dev,>=2.3.0 in /usr/local/lib/python3.9/dist-packages (from google-cloud-storage->gcsfs) (2.3.2)\n",
            "Requirement already satisfied: google-api-core!=2.0.*,!=2.1.*,!=2.2.*,!=2.3.0,<3.0.0dev,>=1.31.5 in /usr/local/lib/python3.9/dist-packages (from google-cloud-storage->gcsfs) (2.11.0)\n",
            "Requirement already satisfied: google-resumable-media>=2.3.2 in /usr/local/lib/python3.9/dist-packages (from google-cloud-storage->gcsfs) (2.4.1)\n",
            "Requirement already satisfied: idna<4,>=2.5 in /usr/local/lib/python3.9/dist-packages (from requests->gcsfs) (3.4)\n",
            "Requirement already satisfied: urllib3<1.27,>=1.21.1 in /usr/local/lib/python3.9/dist-packages (from requests->gcsfs) (1.26.15)\n",
            "Requirement already satisfied: certifi>=2017.4.17 in /usr/local/lib/python3.9/dist-packages (from requests->gcsfs) (2022.12.7)\n",
            "Requirement already satisfied: protobuf!=3.20.0,!=3.20.1,!=4.21.0,!=4.21.1,!=4.21.2,!=4.21.3,!=4.21.4,!=4.21.5,<5.0.0dev,>=3.19.5 in /usr/local/lib/python3.9/dist-packages (from google-api-core!=2.0.*,!=2.1.*,!=2.2.*,!=2.3.0,<3.0.0dev,>=1.31.5->google-cloud-storage->gcsfs) (3.19.6)\n",
            "Requirement already satisfied: googleapis-common-protos<2.0dev,>=1.56.2 in /usr/local/lib/python3.9/dist-packages (from google-api-core!=2.0.*,!=2.1.*,!=2.2.*,!=2.3.0,<3.0.0dev,>=1.31.5->google-cloud-storage->gcsfs) (1.58.0)\n",
            "Requirement already satisfied: google-crc32c<2.0dev,>=1.0 in /usr/local/lib/python3.9/dist-packages (from google-resumable-media>=2.3.2->google-cloud-storage->gcsfs) (1.5.0)\n",
            "Requirement already satisfied: pyasn1<0.5.0,>=0.4.6 in /usr/local/lib/python3.9/dist-packages (from pyasn1-modules>=0.2.1->google-auth>=1.2->gcsfs) (0.4.8)\n",
            "Requirement already satisfied: oauthlib>=3.0.0 in /usr/local/lib/python3.9/dist-packages (from requests-oauthlib>=0.7.0->google-auth-oauthlib->gcsfs) (3.2.2)\n",
            "Installing collected packages: multidict, frozenlist, async-timeout, yarl, aiosignal, aiohttp, gcsfs\n",
            "Successfully installed aiohttp-3.8.4 aiosignal-1.3.1 async-timeout-4.0.2 frozenlist-1.3.3 gcsfs-2023.3.0 multidict-6.0.4 yarl-1.8.2\n"
          ]
        }
      ],
      "source": [
        "!pip install gcsfs"
      ]
    },
    {
      "cell_type": "code",
      "source": [
        "!pip install pandera"
      ],
      "metadata": {
        "colab": {
          "base_uri": "https://localhost:8080/"
        },
        "id": "y04MWF-cOZah",
        "outputId": "f8475b70-c457-4d77-e772-b607b29c8736"
      },
      "execution_count": 3,
      "outputs": [
        {
          "output_type": "stream",
          "name": "stdout",
          "text": [
            "Looking in indexes: https://pypi.org/simple, https://us-python.pkg.dev/colab-wheels/public/simple/\n",
            "Collecting pandera\n",
            "  Downloading pandera-0.14.4-py3-none-any.whl (148 kB)\n",
            "\u001b[2K     \u001b[90m━━━━━━━━━━━━━━━━━━━━━━━━━━━━━━━━━━━━━━\u001b[0m \u001b[32m148.5/148.5 KB\u001b[0m \u001b[31m11.7 MB/s\u001b[0m eta \u001b[36m0:00:00\u001b[0m\n",
            "\u001b[?25hRequirement already satisfied: pandas>=1.2.0 in /usr/local/lib/python3.9/dist-packages (from pandera) (1.4.4)\n",
            "Requirement already satisfied: numpy>=1.19.0 in /usr/local/lib/python3.9/dist-packages (from pandera) (1.22.4)\n",
            "Requirement already satisfied: packaging>=20.0 in /usr/local/lib/python3.9/dist-packages (from pandera) (23.0)\n",
            "Requirement already satisfied: pydantic in /usr/local/lib/python3.9/dist-packages (from pandera) (1.10.6)\n",
            "Requirement already satisfied: multimethod in /usr/local/lib/python3.9/dist-packages (from pandera) (1.9.1)\n",
            "Collecting typing-inspect>=0.6.0\n",
            "  Downloading typing_inspect-0.8.0-py3-none-any.whl (8.7 kB)\n",
            "Requirement already satisfied: wrapt in /usr/local/lib/python3.9/dist-packages (from pandera) (1.15.0)\n",
            "Requirement already satisfied: python-dateutil>=2.8.1 in /usr/local/lib/python3.9/dist-packages (from pandas>=1.2.0->pandera) (2.8.2)\n",
            "Requirement already satisfied: pytz>=2020.1 in /usr/local/lib/python3.9/dist-packages (from pandas>=1.2.0->pandera) (2022.7.1)\n",
            "Requirement already satisfied: typing-extensions>=3.7.4 in /usr/local/lib/python3.9/dist-packages (from typing-inspect>=0.6.0->pandera) (4.5.0)\n",
            "Collecting mypy-extensions>=0.3.0\n",
            "  Downloading mypy_extensions-1.0.0-py3-none-any.whl (4.7 kB)\n",
            "Requirement already satisfied: six>=1.5 in /usr/local/lib/python3.9/dist-packages (from python-dateutil>=2.8.1->pandas>=1.2.0->pandera) (1.15.0)\n",
            "Installing collected packages: mypy-extensions, typing-inspect, pandera\n",
            "Successfully installed mypy-extensions-1.0.0 pandera-0.14.4 typing-inspect-0.8.0\n"
          ]
        }
      ]
    },
    {
      "cell_type": "code",
      "source": [
        "!pip install unidecode #biblioteca que remove caracteres especies e transforma"
      ],
      "metadata": {
        "colab": {
          "base_uri": "https://localhost:8080/"
        },
        "id": "1g8RTqy7aosN",
        "outputId": "c48bf4d4-f079-4c9a-be2e-466944882e18"
      },
      "execution_count": 2,
      "outputs": [
        {
          "output_type": "stream",
          "name": "stdout",
          "text": [
            "Looking in indexes: https://pypi.org/simple, https://us-python.pkg.dev/colab-wheels/public/simple/\n",
            "Collecting unidecode\n",
            "  Downloading Unidecode-1.3.6-py3-none-any.whl (235 kB)\n",
            "\u001b[?25l     \u001b[90m━━━━━━━━━━━━━━━━━━━━━━━━━━━━━━━━━━━━━━━━\u001b[0m \u001b[32m0.0/235.9 KB\u001b[0m \u001b[31m?\u001b[0m eta \u001b[36m-:--:--\u001b[0m\r\u001b[2K     \u001b[90m━━━━━━━━━━━━━━━━━━━━━━━━━━━━━━━━━━━━━━\u001b[0m \u001b[32m235.9/235.9 KB\u001b[0m \u001b[31m17.7 MB/s\u001b[0m eta \u001b[36m0:00:00\u001b[0m\n",
            "\u001b[?25hInstalling collected packages: unidecode\n",
            "Successfully installed unidecode-1.3.6\n"
          ]
        }
      ]
    },
    {
      "cell_type": "markdown",
      "source": [
        "##Declaração das LIBS"
      ],
      "metadata": {
        "id": "rC30vuHumO59"
      }
    },
    {
      "cell_type": "code",
      "source": [
        "from unidecode import unidecode"
      ],
      "metadata": {
        "id": "E7OiGR20a6J0"
      },
      "execution_count": 98,
      "outputs": []
    },
    {
      "cell_type": "code",
      "source": [
        "import pandas as pd\n",
        "import numpy as np\n",
        "import os\n",
        "from google.cloud import storage\n",
        "import pandera as pa"
      ],
      "metadata": {
        "id": "5OYzwmmvPd6p"
      },
      "execution_count": 56,
      "outputs": []
    },
    {
      "cell_type": "markdown",
      "source": [
        "##Conector MongoDB Atlas"
      ],
      "metadata": {
        "id": "kxK1NtkewpHC"
      }
    },
    {
      "cell_type": "code",
      "source": [
        "uri = \"mongodb+srv://cluster0.pvxzqua.mongodb.net/?authSource=%24external&authMechanism=MONGODB-X509&retryWrites=true&w=majority\"\n",
        "Client = MongoClient(uri,tls=True,\n",
        "                     tlsCertificateKeyFile='/content/drive/MyDrive/MongoDb/X509-cert-342951600753315466.pem')"
      ],
      "metadata": {
        "id": "jC5nzE2ywxL6"
      },
      "execution_count": null,
      "outputs": []
    },
    {
      "cell_type": "markdown",
      "source": [
        "##Conector para Cloud Storage(bucket)"
      ],
      "metadata": {
        "id": "onHiU-p1w03v"
      }
    },
    {
      "cell_type": "code",
      "source": [
        "#CONFIGURANDO DA CHAVE DE SEGURANCA (Enviada com o projeto) conector\n",
        "\n",
        "serviceAccount = '/content/drive/MyDrive/chave/colab.json'\n",
        "os.environ['GOOGLE_APPLICATION_CREDENTIALS'] = serviceAccount"
      ],
      "metadata": {
        "id": "nSh-z22tOojt"
      },
      "execution_count": 6,
      "outputs": []
    },
    {
      "cell_type": "code",
      "source": [
        "#Configurações Google Cloud Storage\n",
        "client = storage.Client()\n",
        "bucket = client.get_bucket('nubialmeida45')\n",
        "bucket.blob('depsp.csv')\n",
        "path = 'gs://nubialmeida45/brutos/depsp.csv'"
      ],
      "metadata": {
        "id": "vIDpBlK0PoH4"
      },
      "execution_count": 7,
      "outputs": []
    },
    {
      "cell_type": "markdown",
      "source": [
        "##Extração dos dados(Extract)"
      ],
      "metadata": {
        "id": "9gz05SKFl3Gf"
      }
    },
    {
      "cell_type": "code",
      "source": [
        "df = pd.read_csv(path,sep=',')"
      ],
      "metadata": {
        "colab": {
          "base_uri": "https://localhost:8080/"
        },
        "id": "x26qJ_a1R0iI",
        "outputId": "51669798-76ce-4f81-a699-66ebdd871aa6"
      },
      "execution_count": 106,
      "outputs": [
        {
          "output_type": "stream",
          "name": "stderr",
          "text": [
            "<ipython-input-106-54e649ef8e23>:1: DtypeWarning: Columns (4) have mixed types. Specify dtype option on import or set low_memory=False.\n",
            "  df = pd.read_csv(path,sep=',')\n"
          ]
        }
      ]
    },
    {
      "cell_type": "markdown",
      "source": [
        "##Pré Análise"
      ],
      "metadata": {
        "id": "fFLOvOFUlxGD"
      }
    },
    {
      "cell_type": "code",
      "source": [
        "df"
      ],
      "metadata": {
        "colab": {
          "base_uri": "https://localhost:8080/",
          "height": 424
        },
        "id": "wzMP9Ot4U5rT",
        "outputId": "f78b1f24-3db6-4e11-9af2-244c9528b4d8"
      },
      "execution_count": 107,
      "outputs": [
        {
          "output_type": "execute_result",
          "data": {
            "text/plain": [
              "         Ano  Matricula  Mes    Valor              CNPJ            Deputado  \\\n",
              "0       2015     300257    3   200.00    71806251000106  ABELARDO CAMARINHA   \n",
              "1       2015     300257    3   295.40    68064740000125  ABELARDO CAMARINHA   \n",
              "2       2015     300257    3  2850.00       22145388877  ABELARDO CAMARINHA   \n",
              "3       2015     300257    4   100.00    10915883000113  ABELARDO CAMARINHA   \n",
              "4       2015     300257    4   195.01    71806251000106  ABELARDO CAMARINHA   \n",
              "...      ...        ...  ...      ...               ...                 ...   \n",
              "542390  2007     300441    3   120.00   6306675000140.0       ÍTALO CARDOSO   \n",
              "542391  2007     300441    3  2096.80  52204617000122.0       ÍTALO CARDOSO   \n",
              "542392  2007     300441    3    13.48  62925474000282.0       ÍTALO CARDOSO   \n",
              "542393  2007     300441    3    38.08  66747577000170.0       ÍTALO CARDOSO   \n",
              "542394  2007     300441    3  2994.00   7047000000196.0       ÍTALO CARDOSO   \n",
              "\n",
              "                                                     Tipo  \\\n",
              "0                        A - COMBUSTÍVEIS E LUBRIFICANTES   \n",
              "1       E - MATERIAIS DE ESCRITÓRIO E OUTROS MATERIAIS...   \n",
              "2                                             N - MORADIA   \n",
              "3                        A - COMBUSTÍVEIS E LUBRIFICANTES   \n",
              "4                        A - COMBUSTÍVEIS E LUBRIFICANTES   \n",
              "...                                                   ...   \n",
              "542390  I - HOSPEDAGEM, ALIMENTAÇÃO E DESPESAS DE LOCO...   \n",
              "542391  I - HOSPEDAGEM, ALIMENTAÇÃO E DESPESAS DE LOCO...   \n",
              "542392  I - HOSPEDAGEM, ALIMENTAÇÃO E DESPESAS DE LOCO...   \n",
              "542393  I - HOSPEDAGEM, ALIMENTAÇÃO E DESPESAS DE LOCO...   \n",
              "542394                        J - SERVIÇOS DE COMUNICAÇÃO   \n",
              "\n",
              "                                       Fornecedor  \n",
              "0                AUTO POSTO DE SERVIÇOS MARV LTDA  \n",
              "1                       PAPER FACE COMERCIAL LTDA  \n",
              "2                       LARA SERVINO VARGAS ABREU  \n",
              "3                   CENTRO AUTOMOTIVO TOP 23 LTDA  \n",
              "4                AUTO POSTO DE SERVIÇOS MARV LTDA  \n",
              "...                                           ...  \n",
              "542390                        OPTEI EXPRESS LTDA.  \n",
              "542391                   CHURRASCARIA JANDA LTDA.  \n",
              "542392  ASSOCIAÇÃO FUNC.ASSEMB.LEG. EST.SÃO PAULO  \n",
              "542393              IBIZA EUROPEIA ALIMENTOS LTDA  \n",
              "542394         ECT-EMP.BRAS.CORREIOS E TELEGRAFOS  \n",
              "\n",
              "[542395 rows x 8 columns]"
            ],
            "text/html": [
              "\n",
              "  <div id=\"df-357b41a8-1bfc-4ed7-9248-c4f6539461de\">\n",
              "    <div class=\"colab-df-container\">\n",
              "      <div>\n",
              "<style scoped>\n",
              "    .dataframe tbody tr th:only-of-type {\n",
              "        vertical-align: middle;\n",
              "    }\n",
              "\n",
              "    .dataframe tbody tr th {\n",
              "        vertical-align: top;\n",
              "    }\n",
              "\n",
              "    .dataframe thead th {\n",
              "        text-align: right;\n",
              "    }\n",
              "</style>\n",
              "<table border=\"1\" class=\"dataframe\">\n",
              "  <thead>\n",
              "    <tr style=\"text-align: right;\">\n",
              "      <th></th>\n",
              "      <th>Ano</th>\n",
              "      <th>Matricula</th>\n",
              "      <th>Mes</th>\n",
              "      <th>Valor</th>\n",
              "      <th>CNPJ</th>\n",
              "      <th>Deputado</th>\n",
              "      <th>Tipo</th>\n",
              "      <th>Fornecedor</th>\n",
              "    </tr>\n",
              "  </thead>\n",
              "  <tbody>\n",
              "    <tr>\n",
              "      <th>0</th>\n",
              "      <td>2015</td>\n",
              "      <td>300257</td>\n",
              "      <td>3</td>\n",
              "      <td>200.00</td>\n",
              "      <td>71806251000106</td>\n",
              "      <td>ABELARDO CAMARINHA</td>\n",
              "      <td>A - COMBUSTÍVEIS E LUBRIFICANTES</td>\n",
              "      <td>AUTO POSTO DE SERVIÇOS MARV LTDA</td>\n",
              "    </tr>\n",
              "    <tr>\n",
              "      <th>1</th>\n",
              "      <td>2015</td>\n",
              "      <td>300257</td>\n",
              "      <td>3</td>\n",
              "      <td>295.40</td>\n",
              "      <td>68064740000125</td>\n",
              "      <td>ABELARDO CAMARINHA</td>\n",
              "      <td>E - MATERIAIS DE ESCRITÓRIO E OUTROS MATERIAIS...</td>\n",
              "      <td>PAPER FACE COMERCIAL LTDA</td>\n",
              "    </tr>\n",
              "    <tr>\n",
              "      <th>2</th>\n",
              "      <td>2015</td>\n",
              "      <td>300257</td>\n",
              "      <td>3</td>\n",
              "      <td>2850.00</td>\n",
              "      <td>22145388877</td>\n",
              "      <td>ABELARDO CAMARINHA</td>\n",
              "      <td>N - MORADIA</td>\n",
              "      <td>LARA SERVINO VARGAS ABREU</td>\n",
              "    </tr>\n",
              "    <tr>\n",
              "      <th>3</th>\n",
              "      <td>2015</td>\n",
              "      <td>300257</td>\n",
              "      <td>4</td>\n",
              "      <td>100.00</td>\n",
              "      <td>10915883000113</td>\n",
              "      <td>ABELARDO CAMARINHA</td>\n",
              "      <td>A - COMBUSTÍVEIS E LUBRIFICANTES</td>\n",
              "      <td>CENTRO AUTOMOTIVO TOP 23 LTDA</td>\n",
              "    </tr>\n",
              "    <tr>\n",
              "      <th>4</th>\n",
              "      <td>2015</td>\n",
              "      <td>300257</td>\n",
              "      <td>4</td>\n",
              "      <td>195.01</td>\n",
              "      <td>71806251000106</td>\n",
              "      <td>ABELARDO CAMARINHA</td>\n",
              "      <td>A - COMBUSTÍVEIS E LUBRIFICANTES</td>\n",
              "      <td>AUTO POSTO DE SERVIÇOS MARV LTDA</td>\n",
              "    </tr>\n",
              "    <tr>\n",
              "      <th>...</th>\n",
              "      <td>...</td>\n",
              "      <td>...</td>\n",
              "      <td>...</td>\n",
              "      <td>...</td>\n",
              "      <td>...</td>\n",
              "      <td>...</td>\n",
              "      <td>...</td>\n",
              "      <td>...</td>\n",
              "    </tr>\n",
              "    <tr>\n",
              "      <th>542390</th>\n",
              "      <td>2007</td>\n",
              "      <td>300441</td>\n",
              "      <td>3</td>\n",
              "      <td>120.00</td>\n",
              "      <td>6306675000140.0</td>\n",
              "      <td>ÍTALO CARDOSO</td>\n",
              "      <td>I - HOSPEDAGEM, ALIMENTAÇÃO E DESPESAS DE LOCO...</td>\n",
              "      <td>OPTEI EXPRESS LTDA.</td>\n",
              "    </tr>\n",
              "    <tr>\n",
              "      <th>542391</th>\n",
              "      <td>2007</td>\n",
              "      <td>300441</td>\n",
              "      <td>3</td>\n",
              "      <td>2096.80</td>\n",
              "      <td>52204617000122.0</td>\n",
              "      <td>ÍTALO CARDOSO</td>\n",
              "      <td>I - HOSPEDAGEM, ALIMENTAÇÃO E DESPESAS DE LOCO...</td>\n",
              "      <td>CHURRASCARIA JANDA LTDA.</td>\n",
              "    </tr>\n",
              "    <tr>\n",
              "      <th>542392</th>\n",
              "      <td>2007</td>\n",
              "      <td>300441</td>\n",
              "      <td>3</td>\n",
              "      <td>13.48</td>\n",
              "      <td>62925474000282.0</td>\n",
              "      <td>ÍTALO CARDOSO</td>\n",
              "      <td>I - HOSPEDAGEM, ALIMENTAÇÃO E DESPESAS DE LOCO...</td>\n",
              "      <td>ASSOCIAÇÃO FUNC.ASSEMB.LEG. EST.SÃO PAULO</td>\n",
              "    </tr>\n",
              "    <tr>\n",
              "      <th>542393</th>\n",
              "      <td>2007</td>\n",
              "      <td>300441</td>\n",
              "      <td>3</td>\n",
              "      <td>38.08</td>\n",
              "      <td>66747577000170.0</td>\n",
              "      <td>ÍTALO CARDOSO</td>\n",
              "      <td>I - HOSPEDAGEM, ALIMENTAÇÃO E DESPESAS DE LOCO...</td>\n",
              "      <td>IBIZA EUROPEIA ALIMENTOS LTDA</td>\n",
              "    </tr>\n",
              "    <tr>\n",
              "      <th>542394</th>\n",
              "      <td>2007</td>\n",
              "      <td>300441</td>\n",
              "      <td>3</td>\n",
              "      <td>2994.00</td>\n",
              "      <td>7047000000196.0</td>\n",
              "      <td>ÍTALO CARDOSO</td>\n",
              "      <td>J - SERVIÇOS DE COMUNICAÇÃO</td>\n",
              "      <td>ECT-EMP.BRAS.CORREIOS E TELEGRAFOS</td>\n",
              "    </tr>\n",
              "  </tbody>\n",
              "</table>\n",
              "<p>542395 rows × 8 columns</p>\n",
              "</div>\n",
              "      <button class=\"colab-df-convert\" onclick=\"convertToInteractive('df-357b41a8-1bfc-4ed7-9248-c4f6539461de')\"\n",
              "              title=\"Convert this dataframe to an interactive table.\"\n",
              "              style=\"display:none;\">\n",
              "        \n",
              "  <svg xmlns=\"http://www.w3.org/2000/svg\" height=\"24px\"viewBox=\"0 0 24 24\"\n",
              "       width=\"24px\">\n",
              "    <path d=\"M0 0h24v24H0V0z\" fill=\"none\"/>\n",
              "    <path d=\"M18.56 5.44l.94 2.06.94-2.06 2.06-.94-2.06-.94-.94-2.06-.94 2.06-2.06.94zm-11 1L8.5 8.5l.94-2.06 2.06-.94-2.06-.94L8.5 2.5l-.94 2.06-2.06.94zm10 10l.94 2.06.94-2.06 2.06-.94-2.06-.94-.94-2.06-.94 2.06-2.06.94z\"/><path d=\"M17.41 7.96l-1.37-1.37c-.4-.4-.92-.59-1.43-.59-.52 0-1.04.2-1.43.59L10.3 9.45l-7.72 7.72c-.78.78-.78 2.05 0 2.83L4 21.41c.39.39.9.59 1.41.59.51 0 1.02-.2 1.41-.59l7.78-7.78 2.81-2.81c.8-.78.8-2.07 0-2.86zM5.41 20L4 18.59l7.72-7.72 1.47 1.35L5.41 20z\"/>\n",
              "  </svg>\n",
              "      </button>\n",
              "      \n",
              "  <style>\n",
              "    .colab-df-container {\n",
              "      display:flex;\n",
              "      flex-wrap:wrap;\n",
              "      gap: 12px;\n",
              "    }\n",
              "\n",
              "    .colab-df-convert {\n",
              "      background-color: #E8F0FE;\n",
              "      border: none;\n",
              "      border-radius: 50%;\n",
              "      cursor: pointer;\n",
              "      display: none;\n",
              "      fill: #1967D2;\n",
              "      height: 32px;\n",
              "      padding: 0 0 0 0;\n",
              "      width: 32px;\n",
              "    }\n",
              "\n",
              "    .colab-df-convert:hover {\n",
              "      background-color: #E2EBFA;\n",
              "      box-shadow: 0px 1px 2px rgba(60, 64, 67, 0.3), 0px 1px 3px 1px rgba(60, 64, 67, 0.15);\n",
              "      fill: #174EA6;\n",
              "    }\n",
              "\n",
              "    [theme=dark] .colab-df-convert {\n",
              "      background-color: #3B4455;\n",
              "      fill: #D2E3FC;\n",
              "    }\n",
              "\n",
              "    [theme=dark] .colab-df-convert:hover {\n",
              "      background-color: #434B5C;\n",
              "      box-shadow: 0px 1px 3px 1px rgba(0, 0, 0, 0.15);\n",
              "      filter: drop-shadow(0px 1px 2px rgba(0, 0, 0, 0.3));\n",
              "      fill: #FFFFFF;\n",
              "    }\n",
              "  </style>\n",
              "\n",
              "      <script>\n",
              "        const buttonEl =\n",
              "          document.querySelector('#df-357b41a8-1bfc-4ed7-9248-c4f6539461de button.colab-df-convert');\n",
              "        buttonEl.style.display =\n",
              "          google.colab.kernel.accessAllowed ? 'block' : 'none';\n",
              "\n",
              "        async function convertToInteractive(key) {\n",
              "          const element = document.querySelector('#df-357b41a8-1bfc-4ed7-9248-c4f6539461de');\n",
              "          const dataTable =\n",
              "            await google.colab.kernel.invokeFunction('convertToInteractive',\n",
              "                                                     [key], {});\n",
              "          if (!dataTable) return;\n",
              "\n",
              "          const docLinkHtml = 'Like what you see? Visit the ' +\n",
              "            '<a target=\"_blank\" href=https://colab.research.google.com/notebooks/data_table.ipynb>data table notebook</a>'\n",
              "            + ' to learn more about interactive tables.';\n",
              "          element.innerHTML = '';\n",
              "          dataTable['output_type'] = 'display_data';\n",
              "          await google.colab.output.renderOutput(dataTable, element);\n",
              "          const docLink = document.createElement('div');\n",
              "          docLink.innerHTML = docLinkHtml;\n",
              "          element.appendChild(docLink);\n",
              "        }\n",
              "      </script>\n",
              "    </div>\n",
              "  </div>\n",
              "  "
            ]
          },
          "metadata": {},
          "execution_count": 107
        }
      ]
    },
    {
      "cell_type": "code",
      "source": [
        "df.dtypes #Verificando os tipos"
      ],
      "metadata": {
        "colab": {
          "base_uri": "https://localhost:8080/"
        },
        "id": "U8-ACaGRaEBb",
        "outputId": "2de8f6c4-88c0-4d23-d485-8fb4a39dfd1a"
      },
      "execution_count": 47,
      "outputs": [
        {
          "output_type": "execute_result",
          "data": {
            "text/plain": [
              "Ano             int64\n",
              "Matricula       int64\n",
              "Mes             int64\n",
              "Valor         float64\n",
              "CNPJ           object\n",
              "Deputado       object\n",
              "Tipo           object\n",
              "Fornecedor     object\n",
              "dtype: object"
            ]
          },
          "metadata": {},
          "execution_count": 47
        }
      ]
    },
    {
      "cell_type": "markdown",
      "source": [],
      "metadata": {
        "id": "chdo3UrJ43lE"
      }
    },
    {
      "cell_type": "markdown",
      "source": [
        "##Tranformações (Limpeza, conversão , etc)"
      ],
      "metadata": {
        "id": "XFWFZAkc4uf4"
      }
    },
    {
      "cell_type": "code",
      "source": [
        "df['CNPJ'].values[542394] #Verificando o formato de CNPJ antes e depois do replace abaixo, estava com .'"
      ],
      "metadata": {
        "colab": {
          "base_uri": "https://localhost:8080/",
          "height": 35
        },
        "id": "XvF92OlZqDYT",
        "outputId": "936d4ccf-070f-40fa-bde9-df4ad0240796"
      },
      "execution_count": 45,
      "outputs": [
        {
          "output_type": "execute_result",
          "data": {
            "text/plain": [
              "'70470000001960'"
            ],
            "application/vnd.google.colaboratory.intrinsic+json": {
              "type": "string"
            }
          },
          "metadata": {},
          "execution_count": 45
        }
      ]
    },
    {
      "cell_type": "code",
      "source": [
        "df['CNPJ'] = df['CNPJ'].str.replace('.', '') #Removendo .' "
      ],
      "metadata": {
        "colab": {
          "base_uri": "https://localhost:8080/"
        },
        "id": "pWT8HdM2oDHq",
        "outputId": "5863e055-eb62-4ab7-90e6-0c351d2e4d16"
      },
      "execution_count": 34,
      "outputs": [
        {
          "output_type": "stream",
          "name": "stderr",
          "text": [
            "<ipython-input-34-56d2aeaae6c5>:1: FutureWarning: The default value of regex will change from True to False in a future version. In addition, single character regular expressions will *not* be treated as literal strings when regex=True.\n",
            "  df['CNPJ'] = df['CNPJ'].str.replace('.', '')\n"
          ]
        }
      ]
    },
    {
      "cell_type": "code",
      "source": [
        "df.CNPJ = df.CNPJ.str.replace('O','0') #Substituindo o O por 0"
      ],
      "metadata": {
        "id": "KD_RlXcgq4TJ"
      },
      "execution_count": 37,
      "outputs": []
    },
    {
      "cell_type": "code",
      "source": [
        "df.CNPJ = df.CNPJ.replace('na',pd.NA) #Substituindo o O por 0"
      ],
      "metadata": {
        "id": "SGXVyp47yYF_"
      },
      "execution_count": 71,
      "outputs": []
    },
    {
      "cell_type": "code",
      "source": [
        "df.isna().sum() #Verificando os nulos"
      ],
      "metadata": {
        "colab": {
          "base_uri": "https://localhost:8080/"
        },
        "id": "-ZMIl7EcnTyd",
        "outputId": "f5152afa-36d3-4569-d745-46b9982c8920"
      },
      "execution_count": 72,
      "outputs": [
        {
          "output_type": "execute_result",
          "data": {
            "text/plain": [
              "Ano           0\n",
              "Matricula     0\n",
              "Mes           0\n",
              "Valor         0\n",
              "CNPJ          0\n",
              "Deputado      0\n",
              "Tipo          0\n",
              "Fornecedor    0\n",
              "dtype: int64"
            ]
          },
          "metadata": {},
          "execution_count": 72
        }
      ]
    },
    {
      "cell_type": "code",
      "source": [
        "df.isna().head()#Procurando nulos"
      ],
      "metadata": {
        "colab": {
          "base_uri": "https://localhost:8080/",
          "height": 206
        },
        "id": "C8kbJjh3UNNq",
        "outputId": "aebc3ea4-d1cd-4309-cf37-3558c9b0e498"
      },
      "execution_count": null,
      "outputs": [
        {
          "output_type": "execute_result",
          "data": {
            "text/plain": [
              "     Ano  Matricula    Mes  Valor   CNPJ  Deputado   Tipo  Fornecedor\n",
              "0  False      False  False  False  False     False  False       False\n",
              "1  False      False  False  False  False     False  False       False\n",
              "2  False      False  False  False  False     False  False       False\n",
              "3  False      False  False  False  False     False  False       False\n",
              "4  False      False  False  False  False     False  False       False"
            ],
            "text/html": [
              "\n",
              "  <div id=\"df-8391efa9-4fe3-41f9-8ce1-32d09cef28a3\">\n",
              "    <div class=\"colab-df-container\">\n",
              "      <div>\n",
              "<style scoped>\n",
              "    .dataframe tbody tr th:only-of-type {\n",
              "        vertical-align: middle;\n",
              "    }\n",
              "\n",
              "    .dataframe tbody tr th {\n",
              "        vertical-align: top;\n",
              "    }\n",
              "\n",
              "    .dataframe thead th {\n",
              "        text-align: right;\n",
              "    }\n",
              "</style>\n",
              "<table border=\"1\" class=\"dataframe\">\n",
              "  <thead>\n",
              "    <tr style=\"text-align: right;\">\n",
              "      <th></th>\n",
              "      <th>Ano</th>\n",
              "      <th>Matricula</th>\n",
              "      <th>Mes</th>\n",
              "      <th>Valor</th>\n",
              "      <th>CNPJ</th>\n",
              "      <th>Deputado</th>\n",
              "      <th>Tipo</th>\n",
              "      <th>Fornecedor</th>\n",
              "    </tr>\n",
              "  </thead>\n",
              "  <tbody>\n",
              "    <tr>\n",
              "      <th>0</th>\n",
              "      <td>False</td>\n",
              "      <td>False</td>\n",
              "      <td>False</td>\n",
              "      <td>False</td>\n",
              "      <td>False</td>\n",
              "      <td>False</td>\n",
              "      <td>False</td>\n",
              "      <td>False</td>\n",
              "    </tr>\n",
              "    <tr>\n",
              "      <th>1</th>\n",
              "      <td>False</td>\n",
              "      <td>False</td>\n",
              "      <td>False</td>\n",
              "      <td>False</td>\n",
              "      <td>False</td>\n",
              "      <td>False</td>\n",
              "      <td>False</td>\n",
              "      <td>False</td>\n",
              "    </tr>\n",
              "    <tr>\n",
              "      <th>2</th>\n",
              "      <td>False</td>\n",
              "      <td>False</td>\n",
              "      <td>False</td>\n",
              "      <td>False</td>\n",
              "      <td>False</td>\n",
              "      <td>False</td>\n",
              "      <td>False</td>\n",
              "      <td>False</td>\n",
              "    </tr>\n",
              "    <tr>\n",
              "      <th>3</th>\n",
              "      <td>False</td>\n",
              "      <td>False</td>\n",
              "      <td>False</td>\n",
              "      <td>False</td>\n",
              "      <td>False</td>\n",
              "      <td>False</td>\n",
              "      <td>False</td>\n",
              "      <td>False</td>\n",
              "    </tr>\n",
              "    <tr>\n",
              "      <th>4</th>\n",
              "      <td>False</td>\n",
              "      <td>False</td>\n",
              "      <td>False</td>\n",
              "      <td>False</td>\n",
              "      <td>False</td>\n",
              "      <td>False</td>\n",
              "      <td>False</td>\n",
              "      <td>False</td>\n",
              "    </tr>\n",
              "  </tbody>\n",
              "</table>\n",
              "</div>\n",
              "      <button class=\"colab-df-convert\" onclick=\"convertToInteractive('df-8391efa9-4fe3-41f9-8ce1-32d09cef28a3')\"\n",
              "              title=\"Convert this dataframe to an interactive table.\"\n",
              "              style=\"display:none;\">\n",
              "        \n",
              "  <svg xmlns=\"http://www.w3.org/2000/svg\" height=\"24px\"viewBox=\"0 0 24 24\"\n",
              "       width=\"24px\">\n",
              "    <path d=\"M0 0h24v24H0V0z\" fill=\"none\"/>\n",
              "    <path d=\"M18.56 5.44l.94 2.06.94-2.06 2.06-.94-2.06-.94-.94-2.06-.94 2.06-2.06.94zm-11 1L8.5 8.5l.94-2.06 2.06-.94-2.06-.94L8.5 2.5l-.94 2.06-2.06.94zm10 10l.94 2.06.94-2.06 2.06-.94-2.06-.94-.94-2.06-.94 2.06-2.06.94z\"/><path d=\"M17.41 7.96l-1.37-1.37c-.4-.4-.92-.59-1.43-.59-.52 0-1.04.2-1.43.59L10.3 9.45l-7.72 7.72c-.78.78-.78 2.05 0 2.83L4 21.41c.39.39.9.59 1.41.59.51 0 1.02-.2 1.41-.59l7.78-7.78 2.81-2.81c.8-.78.8-2.07 0-2.86zM5.41 20L4 18.59l7.72-7.72 1.47 1.35L5.41 20z\"/>\n",
              "  </svg>\n",
              "      </button>\n",
              "      \n",
              "  <style>\n",
              "    .colab-df-container {\n",
              "      display:flex;\n",
              "      flex-wrap:wrap;\n",
              "      gap: 12px;\n",
              "    }\n",
              "\n",
              "    .colab-df-convert {\n",
              "      background-color: #E8F0FE;\n",
              "      border: none;\n",
              "      border-radius: 50%;\n",
              "      cursor: pointer;\n",
              "      display: none;\n",
              "      fill: #1967D2;\n",
              "      height: 32px;\n",
              "      padding: 0 0 0 0;\n",
              "      width: 32px;\n",
              "    }\n",
              "\n",
              "    .colab-df-convert:hover {\n",
              "      background-color: #E2EBFA;\n",
              "      box-shadow: 0px 1px 2px rgba(60, 64, 67, 0.3), 0px 1px 3px 1px rgba(60, 64, 67, 0.15);\n",
              "      fill: #174EA6;\n",
              "    }\n",
              "\n",
              "    [theme=dark] .colab-df-convert {\n",
              "      background-color: #3B4455;\n",
              "      fill: #D2E3FC;\n",
              "    }\n",
              "\n",
              "    [theme=dark] .colab-df-convert:hover {\n",
              "      background-color: #434B5C;\n",
              "      box-shadow: 0px 1px 3px 1px rgba(0, 0, 0, 0.15);\n",
              "      filter: drop-shadow(0px 1px 2px rgba(0, 0, 0, 0.3));\n",
              "      fill: #FFFFFF;\n",
              "    }\n",
              "  </style>\n",
              "\n",
              "      <script>\n",
              "        const buttonEl =\n",
              "          document.querySelector('#df-8391efa9-4fe3-41f9-8ce1-32d09cef28a3 button.colab-df-convert');\n",
              "        buttonEl.style.display =\n",
              "          google.colab.kernel.accessAllowed ? 'block' : 'none';\n",
              "\n",
              "        async function convertToInteractive(key) {\n",
              "          const element = document.querySelector('#df-8391efa9-4fe3-41f9-8ce1-32d09cef28a3');\n",
              "          const dataTable =\n",
              "            await google.colab.kernel.invokeFunction('convertToInteractive',\n",
              "                                                     [key], {});\n",
              "          if (!dataTable) return;\n",
              "\n",
              "          const docLinkHtml = 'Like what you see? Visit the ' +\n",
              "            '<a target=\"_blank\" href=https://colab.research.google.com/notebooks/data_table.ipynb>data table notebook</a>'\n",
              "            + ' to learn more about interactive tables.';\n",
              "          element.innerHTML = '';\n",
              "          dataTable['output_type'] = 'display_data';\n",
              "          await google.colab.output.renderOutput(dataTable, element);\n",
              "          const docLink = document.createElement('div');\n",
              "          docLink.innerHTML = docLinkHtml;\n",
              "          element.appendChild(docLink);\n",
              "        }\n",
              "      </script>\n",
              "    </div>\n",
              "  </div>\n",
              "  "
            ]
          },
          "metadata": {},
          "execution_count": 16
        }
      ]
    },
    {
      "cell_type": "markdown",
      "source": [
        "##GroupBY ( Agrupamentos)"
      ],
      "metadata": {
        "id": "E9oKj7EJ4y7v"
      }
    },
    {
      "cell_type": "code",
      "source": [
        "#Filtro dos últimos dois anos\n",
        "dfiltro = df[df['Ano'].isin([2021, 2022])]"
      ],
      "metadata": {
        "id": "Jy56iHf2vKc4"
      },
      "execution_count": 109,
      "outputs": []
    },
    {
      "cell_type": "code",
      "source": [
        "dfiltro.groupby(['Deputado'])['Valor'].sum().sort_values(ascending=False)#Descobrindo os gastos por deputado"
      ],
      "metadata": {
        "colab": {
          "base_uri": "https://localhost:8080/"
        },
        "id": "xbMi48C1dU8j",
        "outputId": "c86f886f-0dae-400f-e28a-9f6acc82fa03"
      },
      "execution_count": 110,
      "outputs": [
        {
          "output_type": "execute_result",
          "data": {
            "text/plain": [
              "Deputado\n",
              "VINICIUS CAMARINHA             915425.00\n",
              "AGENTE FEDERAL DANILO BALAS    876599.27\n",
              "MARTA COSTA                    868615.42\n",
              "PAULO FIORILO                  852768.54\n",
              "MARCIO NAKASHIMA               852548.86\n",
              "                                 ...    \n",
              "AFONSO LOBATO                   68000.04\n",
              "RAUL MARCELO                    36955.72\n",
              "DANIEL JOSE                     33966.40\n",
              "CAUE MACRIS                     30066.56\n",
              "JANAINA PASCHOAL                10451.84\n",
              "Name: Valor, Length: 97, dtype: float64"
            ]
          },
          "metadata": {},
          "execution_count": 110
        }
      ]
    },
    {
      "cell_type": "code",
      "source": [
        "df.groupby('Ano')['Valor'].sum() #Mostrando o total gasto por ano"
      ],
      "metadata": {
        "colab": {
          "base_uri": "https://localhost:8080/"
        },
        "id": "uDzuRtUu2Rb5",
        "outputId": "10171a17-5e69-4e5a-bcac-9119c1cc06d0"
      },
      "execution_count": 75,
      "outputs": [
        {
          "output_type": "execute_result",
          "data": {
            "text/plain": [
              "Ano\n",
              "2002    11122821.42\n",
              "2003    15834964.24\n",
              "2004    17248832.18\n",
              "2005    18151570.81\n",
              "2006    18397375.96\n",
              "2007    18390011.24\n",
              "2008    17808751.18\n",
              "2009    19692011.71\n",
              "2010    18361598.00\n",
              "2011    18666881.69\n",
              "2012    19250086.55\n",
              "2013    21996182.92\n",
              "2014    19793197.11\n",
              "2015    20847302.59\n",
              "2016    22844787.47\n",
              "2017    23408256.71\n",
              "2018    21805727.79\n",
              "2019    19439783.14\n",
              "2020    16949849.75\n",
              "2021    21751097.61\n",
              "2022    26042714.48\n",
              "2023     2039211.73\n",
              "Name: Valor, dtype: float64"
            ]
          },
          "metadata": {},
          "execution_count": 75
        }
      ]
    },
    {
      "cell_type": "code",
      "source": [
        "#Verificando e corrigindo possíveis inconsistências nos dados que podem ser (Nomes diferentes para o mesmo item, ex: TÁXI e taxi ) \n",
        "df['Deputado']=df['Deputado'].apply(str.upper).apply(unidecode)\n",
        "df['Tipo']=df['Tipo'].apply(str.upper).apply(unidecode)\n",
        "df['Fornecedor']=df['Fornecedor'].apply(str.upper).apply(unidecode)\n"
      ],
      "metadata": {
        "id": "MTwMMbTzlaDj"
      },
      "execution_count": 108,
      "outputs": []
    },
    {
      "cell_type": "code",
      "source": [
        "df = df.drop_duplicates() #dropando duplicados"
      ],
      "metadata": {
        "id": "cFllmg-Itard"
      },
      "execution_count": 102,
      "outputs": []
    },
    {
      "cell_type": "code",
      "source": [
        "correcoes = { #Correção de nomes\n",
        "    'VIVO':'VIVO S.A.', \n",
        "    'TELEFONICA BRASIL S.A':'TELEFONICA BRASIL S.A.', \n",
        "    'NEXTEL TELECOMUNICAÇÕES LTDA':'NEXTEL TELECOMUNICAÇÕES LTDA.', \n",
        "    'SABESP':'COMPANHIA DE SANEAMENTO BÁSICO DO ESTADO DE SÃO PAULO - SABESP',\n",
        "    'TELEFÔNICA BRASIL S.A.':'TELEFONICA BRASIL S.A.',\n",
        "    'TELEFONICA': 'TELEFONICA BRASIL S.A.',\n",
        "    'COMPANHIA PAULISTA DE FORÇA E LUZ':'CPFL ENERGIA', \n",
        "    'TELEFONICA BRASIL S/A':'TELEFONICA BRASIL S.A.',\n",
        "    'TELEFONICA BRASIL SA':'TELEFONICA BRASIL S.A.',\n",
        "    'CLARO S.A.':'CLARO S/A',\n",
        "    'ELETROPAULO METROPOLITANA ELETRICIDADE DE SÃO PAULO S.A.':'ELETROPAULO',\n",
        "    'ELETROPAULO':'AES ELETROPAULO',\n",
        "    'CLARO S.A':'CLARO S/A',\n",
        "    'NEXTEL TELECOMUNICAÇÕES LTDA.':'NEXTEL TELECOMUNICAÇÕES LTDA', \n",
        "    'NET':'NET SERVIÇOS DE COMUNICAÇÃO S/A',\n",
        "    'TELEFÔNICA BRASIL S.A':'TELEFONICA BRASIL S.A.',  \n",
        "    'KALUNGA':'KALUNGA COM. E IND. GRÁFICA LTDA.',\n",
        "    'KALUNGA COMERCIO E IND. GRAFICA LTDA':'KALUNGA COM. E IND. GRÁFICA LTDA.',\n",
        "    'NEXTEL':'NEXTEL TELECOMUNICAÇÕES LTDA',\n",
        "    'KALUNGA COM. E IND. GRAFICA LTDA':'KALUNGA COM. E IND. GRÁFICA LTDA.', \n",
        "    'TELEFÔNICA BRASIL S/A':'TELEFONICA BRASIL S.A.',\n",
        "    'TELESP CELULAR':'TELESP CELULAR S/A'\n",
        "}\n",
        "  \n",
        "for key, value in correcoes.items():\n",
        "  df.loc[df.Fornecedor==key,'Fornecedor'] = value"
      ],
      "metadata": {
        "id": "gTgyLdTDVg6c"
      },
      "execution_count": null,
      "outputs": []
    },
    {
      "cell_type": "markdown",
      "source": [
        "##Plotagem"
      ],
      "metadata": {
        "id": "ymrtyKZYl_mo"
      }
    },
    {
      "cell_type": "code",
      "source": [
        "df.groupby('Ano')['Valor'].sum().plot.bar(figsize=(12,8),xlabel='ANO',ylabel='Valores gastos') #Verificando os valores gastos por ano"
      ],
      "metadata": {
        "colab": {
          "base_uri": "https://localhost:8080/",
          "height": 540
        },
        "id": "Fu0v95PtmOfM",
        "outputId": "cbad225b-9a18-4fbc-d967-f745e5dbff7b"
      },
      "execution_count": 86,
      "outputs": [
        {
          "output_type": "execute_result",
          "data": {
            "text/plain": [
              "<Axes: xlabel='ANO', ylabel='Valores gastos'>"
            ]
          },
          "metadata": {},
          "execution_count": 86
        },
        {
          "output_type": "display_data",
          "data": {
            "text/plain": [
              "<Figure size 864x576 with 1 Axes>"
            ],
            "image/png": "[encoded data removed]"
          },
          "metadata": {
            "needs_background": "light"
          }
        }
      ]
    },
    {
      "cell_type": "code",
      "source": [
        "df.groupby('Tipo')['Valor'].sum().sort_values(ascending=True).plot.barh(figsize=(12,8),xlabel='Tipo de Fornecedor',ylabel='Valores gastos')"
      ],
      "metadata": {
        "colab": {
          "base_uri": "https://localhost:8080/",
          "height": 513
        },
        "id": "LcsqlGM-9LHS",
        "outputId": "9299ca8d-d26b-417e-82df-5a26bd465f78"
      },
      "execution_count": 114,
      "outputs": [
        {
          "output_type": "execute_result",
          "data": {
            "text/plain": [
              "<Axes: ylabel='ANO'>"
            ]
          },
          "metadata": {},
          "execution_count": 114
        },
        {
          "output_type": "display_data",
          "data": {
            "text/plain": [
              "<Figure size 864x576 with 1 Axes>"
            ],
            "image/png": "[encoded data removed]"
          },
          "metadata": {
            "needs_background": "light"
          }
        }
      ]
    },
    {
      "cell_type": "markdown",
      "source": [
        "##Criação do Schema de validação de dados"
      ],
      "metadata": {
        "id": "8kSK1aUPXEeg"
      }
    },
    {
      "cell_type": "code",
      "source": [
        "schema = pa.DataFrameSchema(\n",
        "    columns = {\n",
        "        'Deputado':pa.Column(pa.String),\n",
        "        'CNPJ':pa.Column(pa.Int),\n",
        "        'Mes':pa.Column(pa.Int),\n",
        "        'Tipo':pa.Column(pa.String),\n",
        "        'Fornecedor':pa.Column(pa.String),\n",
        "    }\n",
        ")"
      ],
      "metadata": {
        "id": "ryYW03JfVW1g"
      },
      "execution_count": null,
      "outputs": []
    },
    {
      "cell_type": "markdown",
      "source": [
        "##LOAD (Carregamento) salvar o df"
      ],
      "metadata": {
        "id": "SA-A9jaYlg1B"
      }
    },
    {
      "cell_type": "code",
      "source": [
        "#Carregar direto no bucket\n",
        "df.to_csv('gs://nubialmeida45/tratados/alespe_tratado.csv',index=False)"
      ],
      "metadata": {
        "id": "xGTosx6zCcj7"
      },
      "execution_count": null,
      "outputs": []
    },
    {
      "cell_type": "markdown",
      "source": [
        "##Considerações finais\n"
      ],
      "metadata": {
        "id": "xqYI1PWklIBE"
      }
    },
    {
      "cell_type": "markdown",
      "source": [],
      "metadata": {
        "id": "mdsNZAlHlYMC"
      }
    }
  ]
}